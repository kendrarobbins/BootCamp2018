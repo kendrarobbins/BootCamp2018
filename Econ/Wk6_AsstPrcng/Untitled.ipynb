{
 "cells": [
  {
   "cell_type": "markdown",
   "metadata": {},
   "source": [
    "7/27/18 class\n",
    "\n",
    "Kyle Model"
   ]
  },
  {
   "cell_type": "code",
   "execution_count": null,
   "metadata": {},
   "outputs": [],
   "source": [
    "from pprint import pprint "
   ]
  },
  {
   "cell_type": "code",
   "execution_count": null,
   "metadata": {},
   "outputs": [],
   "source": [
    "file_list = ['AAPL\", \"C\",,,,]\n",
    "data_folder = \"./Kyle_Data/\"\n",
    "\n",
    "file_objects = [open(os.path.join(data_folder, ii),'rb') for ii in file_list]\n",
    "data = {ii: pickle.load(jj) for (ii,jj) in zip(file_list, file_objects)}"
   ]
  },
  {
   "cell_type": "markdown",
   "metadata": {},
   "source": [
    "data format:\n",
    "\n",
    "pairs\n",
    "\n",
    "[(timestamp, dictionary: {price:(# shares available, side (Buy or sell)....}\n",
    "\n",
    "the dictionary is the orderbook at the given time \n",
    "\n",
    "\n",
    "pretty print: pprint \n",
    "usful for interpreting dictionaries \n",
    "\n",
    "S is side, B or sell\n",
    "\n",
    "don't assume dictionaries preserve order of keys \n",
    "\n",
    "make a dataframe so you can sort by price \n",
    "\n",
    "steep slope --> high liquidity \n",
    "apple orderbook is steep and not linear, so the Kyle model (which assumed linearity) isn't compelling \n",
    "    but high liquidity means we don't do anything with the tails. so we can model just the relevant part, which is kinda linear. \n",
    "    exercise asks us to estimate over subset of data. so pick the linear part. \n",
    "    \n",
    "    \n",
    "direct p_0 , look at where vertical axis is 0\n",
    "\n",
    "implied pnot, draw linear line between endpoints, find where it crosses 0\n",
    "comparing direct and implied p0 indicates if the model is linear and if it's a good approximation "
   ]
  },
  {
   "cell_type": "code",
   "execution_count": null,
   "metadata": {},
   "outputs": [],
   "source": []
  }
 ],
 "metadata": {
  "kernelspec": {
   "display_name": "Python 3",
   "language": "python",
   "name": "python3"
  },
  "language_info": {
   "codemirror_mode": {
    "name": "ipython",
    "version": 3
   },
   "file_extension": ".py",
   "mimetype": "text/x-python",
   "name": "python",
   "nbconvert_exporter": "python",
   "pygments_lexer": "ipython3",
   "version": "3.6.5"
  }
 },
 "nbformat": 4,
 "nbformat_minor": 2
}
