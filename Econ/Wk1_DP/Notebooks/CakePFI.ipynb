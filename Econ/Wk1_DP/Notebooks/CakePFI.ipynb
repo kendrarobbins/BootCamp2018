{
 "cells": [
  {
   "cell_type": "markdown",
   "metadata": {},
   "source": [
    "#  The Deterministic Cake Eating Problem - Policy Function Iteration Solution\n",
    "### by [Jason DeBacker](http://jasondebacker.com), June 2018\n",
    "This Jupyter notebook illustrates how to solve the deterministic cake eating problem using Coleman's policy function iteration (PFI).\n",
    "\n",
    "## The Problem:\n",
    "\n",
    "$$V(w)=\\max_{c} u(c)+\\beta V(w'), \\forall w\\in[0,\\bar{w}]$$\n",
    "\n",
    "The necessary condition (after applying the envelope theorem) is given by the Euler equation:\n",
    "\n",
    "$$ u'(c) = \\beta u'(c') $$\n",
    "\n",
    "The unknowns in this system are functions: The value function, $V(w)$, and the policy function, $c = \\phi(w)$ (or, equivalently, $w' = p(w)$).\n",
    "\n",
    "## The Solution:\n",
    "\n",
    "We'll solve this problem with policy function iteration (PFI).  With this method, we'll use an iterative procedure to converge to a fixed point in function space, the true policy function, $\\phi(w)$.  \n",
    "\n",
    "The computational algorithm for PFI is as follows:\n",
    "\n",
    "1. Create a discrete grid of the state variable, $w$\n",
    "2. Make an initial guess at the policy function, $\\phi_{0}(w)$\n",
    "    * This will be a consumption value for each point in the state space\n",
    "3. Find $K\\phi(w)$, where $K\\phi(w)$ is the root (zero) of:\n",
    "$$ u'(K\\phi(w)) - \\beta u'(\\phi_{0}(w - K\\phi(w))$$\n",
    "4. Update the guess at the policy function: $\\phi_{1}(w) = K\\phi(w)$\n",
    "5. Repeat this process:\n",
    "$$\\phi_{i+1} \\ (w) = K\\phi(w), \\text{ where } K\\phi(w) \\text{ solves } u'(K\\phi(w)) - \\beta u'(\\phi_{i}(w - K\\phi(w)) = 0$$\n",
    "6. Stop when, $|\\phi_{i+1} \\ (w)-\\phi_{i}(w)|<\\varepsilon$, where $\\varepsilon$ is a small number.\n",
    "\n"
   ]
  },
  {
   "cell_type": "code",
   "execution_count": 1,
   "metadata": {},
   "outputs": [],
   "source": [
    "# Import packages\n",
    "import numpy as np\n",
    "import matplotlib.pyplot as plt\n",
    "import scipy.optimize as opt\n",
    "from scipy.optimize import fminbound\n",
    "from scipy import interpolate\n",
    "\n",
    "# to print plots inline\n",
    "%matplotlib inline"
   ]
  },
  {
   "cell_type": "markdown",
   "metadata": {},
   "source": [
    "## Step 1: Set parameters and create grid for state space\n",
    "\n",
    "Parameters:\n",
    "* $\\beta$ = rate of time preference\n",
    "* $\\sigma$ = coefficient of relative risk aversion (if $\\sigma = 1$, $u(c)=log(c)$), parameter describes the curvature of the utility function"
   ]
  },
  {
   "cell_type": "code",
   "execution_count": 2,
   "metadata": {},
   "outputs": [],
   "source": [
    "beta = 0.95\n",
    "sigma = 1.0\n",
    "R = 1\n",
    "\n",
    "'''\n",
    "------------------------------------------------------------------------\n",
    "Create Grid for State Space    \n",
    "------------------------------------------------------------------------\n",
    "lb_w      = scalar, lower bound of cake grid\n",
    "ub_w      = scalar, upper bound of cake grid \n",
    "size_w    = integer, number of grid points in cake state space\n",
    "w_grid    = vector, size_w x 1 vector of cake grid points \n",
    "------------------------------------------------------------------------\n",
    "'''\n",
    "lb_w = 0.4 \n",
    "ub_w = 2.0 \n",
    "size_w = 200  # Number of grid points\n",
    "w_grid = np.linspace(lb_w, ub_w, size_w)"
   ]
  },
  {
   "cell_type": "markdown",
   "metadata": {},
   "source": [
    "## Step 2: Create functions to use in solution"
   ]
  },
  {
   "cell_type": "code",
   "execution_count": 3,
   "metadata": {},
   "outputs": [],
   "source": [
    "def utility(w, wprime, sigma, R):\n",
    "    \"\"\"\n",
    "    Per period utility function\n",
    "    \"\"\"\n",
    "    C = w - wprime / R\n",
    "    try:\n",
    "        C[C<=0] = 1e-10 # replace 0 and negative consumption with a tiny value - to impose non-negativity on cons\n",
    "    except TypeError:\n",
    "        if C <= 0:\n",
    "            C = 1e-10\n",
    "    if sigma == 1:\n",
    "        U = np.log(C)\n",
    "    else:\n",
    "        U = (C ** (1 - sigma)) / (1 - sigma)\n",
    "    \n",
    "    return U\n",
    "\n",
    "\n",
    "def u_prime(C, sigma):\n",
    "    MU = C ** - sigma\n",
    "    try:\n",
    "        MU[C<=0] = 999999999 # replace 0 and negative consumption with a tiny value - to impose non-negativity on cons\n",
    "    except TypeError:\n",
    "        if C <= 0:\n",
    "            MU = 999999999\n",
    "    \n",
    "    return MU"
   ]
  },
  {
   "cell_type": "code",
   "execution_count": 4,
   "metadata": {},
   "outputs": [],
   "source": [
    "def coleman_operator(phi, w_grid, params):\n",
    "    '''\n",
    "    The Coleman operator, which takes an existing guess phi of the\n",
    "    optimal consumption policy and computes and returns the updated function\n",
    "    Kphi on the grid points.\n",
    "    '''\n",
    "    beta, sigma = params\n",
    "    \n",
    "    # === Apply linear interpolation to phi === #\n",
    "    phi_func = interpolate.interp1d(w_grid, phi, fill_value='extrapolate')\n",
    "\n",
    "    # == Initialize Kphi if necessary == #\n",
    "    Kphi = np.empty_like(phi)\n",
    "\n",
    "    # == solve for updated consumption value\n",
    "    for i, w in enumerate(w_grid):\n",
    "        def h(c):\n",
    "            return u_prime(c, sigma) - beta * u_prime(phi_func(R * (w - c)), sigma)\n",
    "        results = opt.root(h, 1e-10)\n",
    "        c_star = results.x[0]\n",
    "        Kphi[i] = c_star\n",
    "        \n",
    "    return Kphi"
   ]
  },
  {
   "cell_type": "markdown",
   "metadata": {},
   "source": [
    "## Step 3: Policy Function Iteration"
   ]
  },
  {
   "cell_type": "code",
   "execution_count": null,
   "metadata": {},
   "outputs": [
    {
     "name": "stdout",
     "output_type": "stream",
     "text": [
      "Iteration  1  distance =  0.9743589743589745\n",
      "Iteration  2  distance =  0.3245016741949327\n",
      "Iteration  3  distance =  0.16203762968996904\n",
      "Iteration  4  distance =  0.09705232549890097\n",
      "Iteration  5  distance =  0.06456000857510014\n",
      "Iteration  6  distance =  0.04599332036889442\n",
      "Iteration  7  distance =  0.034389500854108024\n",
      "Iteration  8  distance =  0.02665398942464242\n",
      "Iteration  9  distance =  0.021239505165381423\n",
      "Iteration  10  distance =  0.017302076043669207\n",
      "Iteration  11  distance =  0.014349384407750049\n",
      "Iteration  12  distance =  0.012078464911242037\n",
      "Iteration  13  distance =  0.010294553477425028\n",
      "Iteration  14  distance =  0.00886780674902729\n",
      "Iteration  15  distance =  0.007708956780644871\n",
      "Iteration  16  distance =  0.006754990271822581\n",
      "Iteration  17  distance =  0.005960396989169808\n",
      "Iteration  18  distance =  0.005291642456029366\n",
      "Iteration  19  distance =  0.00472357520273306\n",
      "Iteration  20  distance =  0.004237031601989405\n",
      "Iteration  21  distance =  0.003817202803910874\n",
      "Iteration  22  distance =  0.0034524986926975643\n",
      "Iteration  23  distance =  0.0031337431908834423\n",
      "Iteration  24  distance =  0.0028535948801797217\n",
      "Iteration  25  distance =  0.002606123610538691\n",
      "Iteration  26  distance =  0.0023864968787516982\n",
      "Iteration  27  distance =  0.002190744613957324\n",
      "Iteration  28  distance =  0.0020155807403111903\n",
      "Iteration  29  distance =  0.0018582663764368512\n",
      "Iteration  30  distance =  0.0017165039265373272\n",
      "Iteration  31  distance =  0.001588354340271686\n",
      "Iteration  32  distance =  0.0014721719246062331\n",
      "Iteration  33  distance =  0.0013665525778579213\n",
      "Iteration  34  distance =  0.0012702923777909991\n",
      "Iteration  35  distance =  0.0011823542230611633\n",
      "Iteration  36  distance =  0.0011018407863833957\n",
      "Iteration  37  distance =  0.0010279724509021926\n",
      "Iteration  38  distance =  0.0009600692073213069\n",
      "Iteration  39  distance =  0.000897535719700332\n",
      "Iteration  40  distance =  0.000839848941505017\n",
      "Iteration  41  distance =  0.0007865477962722411\n",
      "Iteration  42  distance =  0.0007372245384789228\n",
      "Iteration  43  distance =  0.0006915174893322579\n",
      "Iteration  44  distance =  0.000649104902847919\n",
      "Iteration  45  distance =  0.0006096997656680619\n",
      "Iteration  46  distance =  0.0005730453716372291\n",
      "Iteration  47  distance =  0.0005389115419600632\n",
      "Iteration  48  distance =  0.000507091385519437\n",
      "Iteration  49  distance =  0.0004773985128865704\n",
      "Iteration  50  distance =  0.0004496646328240317\n",
      "Iteration  51  distance =  0.0004237374724084392\n",
      "Iteration  52  distance =  0.00039947897189547554\n",
      "Iteration  53  distance =  0.00037676371359085525\n",
      "Iteration  54  distance =  0.0003554775506764002\n",
      "Iteration  55  distance =  0.0003355164074083372\n",
      "Iteration  56  distance =  0.000316785226570665\n",
      "Iteration  57  distance =  0.0002991970439142899\n",
      "Iteration  58  distance =  0.00028267217230272534\n",
      "Iteration  59  distance =  0.00026713748094045475\n",
      "Iteration  60  distance =  0.00025252575717248094\n",
      "Iteration  61  distance =  0.00023877514023411262\n",
      "Iteration  62  distance =  0.00022582861775294338\n",
      "Iteration  63  distance =  0.00021363357717577025\n",
      "Iteration  64  distance =  0.00020214140534995095\n",
      "Iteration  65  distance =  0.00019130713040184377\n",
      "Iteration  66  distance =  0.00018108910086796215\n",
      "Iteration  67  distance =  0.00017144869768426219\n",
      "Iteration  68  distance =  0.00016235007521392397\n",
      "Iteration  69  distance =  0.00015375992800659155\n",
      "Iteration  70  distance =  0.00014564728037080865\n",
      "Iteration  71  distance =  0.00013798329622906336\n",
      "Iteration  72  distance =  0.00013074110703703568\n",
      "Iteration  73  distance =  0.00012389565580234185\n",
      "Iteration  74  distance =  0.00011742355549458627\n",
      "Iteration  75  distance =  0.0001113029603277832\n",
      "Iteration  76  distance =  0.00010551344858202027\n",
      "Iteration  77  distance =  0.00010003591578269799\n",
      "Iteration  78  distance =  9.485247718210577e-05\n",
      "Iteration  79  distance =  8.994637862905219e-05\n",
      "Iteration  80  distance =  8.53019149872486e-05\n",
      "Iteration  81  distance =  8.090435539023777e-05\n",
      "Iteration  82  distance =  7.673987464035248e-05\n",
      "Iteration  83  distance =  7.2795490210803e-05\n",
      "Iteration  84  distance =  6.905900429904355e-05\n",
      "Iteration  85  distance =  6.551895048362288e-05\n",
      "Iteration  86  distance =  6.216454453737696e-05\n",
      "Iteration  87  distance =  5.898563907477672e-05\n",
      "Iteration  88  distance =  5.5972681623425724e-05\n",
      "Iteration  89  distance =  5.3116675879635866e-05\n",
      "Iteration  90  distance =  5.0409145840521474e-05\n",
      "Iteration  91  distance =  4.7842102573567025e-05\n",
      "Iteration  92  distance =  4.540801340542633e-05\n",
      "Iteration  93  distance =  4.309977331960757e-05\n",
      "Iteration  94  distance =  4.0910678380592924e-05\n",
      "Iteration  95  distance =  3.883440104301972e-05\n",
      "Iteration  96  distance =  3.686496714992715e-05\n",
      "Iteration  97  distance =  3.499673452617147e-05\n",
      "Iteration  98  distance =  3.322437302233361e-05\n",
      "Iteration  99  distance =  3.154284590038692e-05\n",
      "Iteration  100  distance =  2.9947392456222688e-05\n",
      "Iteration  101  distance =  2.8433511788827914e-05\n",
      "Iteration  102  distance =  2.6996947628948886e-05\n",
      "Iteration  103  distance =  2.5633674143946128e-05\n",
      "Iteration  104  distance =  2.4339882655058376e-05\n"
     ]
    }
   ],
   "source": [
    "'''\n",
    "------------------------------------------------------------------------\n",
    "Policy Function Iteration    \n",
    "------------------------------------------------------------------------\n",
    "PFtol     = scalar, tolerance required for policy function to converge\n",
    "PFdist    = scalar, distance between last two policy functions\n",
    "PFmaxiter = integer, maximum number of iterations for policy function\n",
    "phi       = vector, policy function for choice of consumption at each iteration\n",
    "PFstore   = matrix, stores phi at each iteration \n",
    "PFiter    = integer, current iteration number\n",
    "PF_params = tuple, contains parameters to pass into Coleman operator: beta, sigma\n",
    "new_phi   = vector, updated policy function after applying Coleman operator \n",
    "------------------------------------------------------------------------\n",
    "'''\n",
    "PFtol = 1e-8 \n",
    "PFdist = 7.0 \n",
    "PFmaxiter = 500 \n",
    "phi = w_grid # initial guess at policy function is to eat all cake\n",
    "PFstore = np.zeros((size_w, PFmaxiter)) #initialize PFstore array\n",
    "PFiter = 1 \n",
    "PF_params = (beta, sigma)\n",
    "while PFdist > PFtol and PFiter < PFmaxiter:\n",
    "    PFstore[:, PFiter] = phi\n",
    "    new_phi = coleman_operator(phi, w_grid, PF_params)\n",
    "    PFdist = (np.absolute(phi - new_phi)).max()\n",
    "    phi = new_phi\n",
    "    print('Iteration ', PFiter, ' distance = ', PFdist)\n",
    "    PFiter += 1\n",
    "\n",
    "if PFiter < PFmaxiter:\n",
    "    print('Policy function converged after this many iterations:', PFiter)\n",
    "else:\n",
    "    print('Policy function did not converge')            "
   ]
  },
  {
   "cell_type": "markdown",
   "metadata": {},
   "source": [
    "## Step 4: Extract decision rules from solution"
   ]
  },
  {
   "cell_type": "code",
   "execution_count": null,
   "metadata": {
    "collapsed": true
   },
   "outputs": [],
   "source": [
    "'''\n",
    "------------------------------------------------------------------------\n",
    "Find savings policy function and value function   \n",
    "------------------------------------------------------------------------\n",
    "optC  = vector, the optimal choice of c for each c\n",
    "optW  = vector, the optimal choice of w' for each w\n",
    "VF    = vector, the \"true\" value function\n",
    "------------------------------------------------------------------------\n",
    "'''\n",
    "optC = phi # optimal consumption\n",
    "optW = R * (w_grid - optC) # solution to the savings policy function from transition equation"
   ]
  },
  {
   "cell_type": "markdown",
   "metadata": {},
   "source": [
    "## Visualize output"
   ]
  },
  {
   "cell_type": "code",
   "execution_count": null,
   "metadata": {
    "collapsed": true
   },
   "outputs": [],
   "source": [
    "#Plot optimal consumption rule as a function of cake size\n",
    "plt.figure()\n",
    "fig, ax = plt.subplots()\n",
    "ax.plot(w_grid[1:], optC[1:], label='Consumption')\n",
    "# Now add the legend with some customizations.\n",
    "legend = ax.legend(loc='upper left', shadow=False)\n",
    "# Set the fontsize\n",
    "for label in legend.get_texts():\n",
    "    label.set_fontsize('large')\n",
    "for label in legend.get_lines():\n",
    "    label.set_linewidth(1.5)  # the legend line width\n",
    "plt.xlabel('Size of Cake')\n",
    "plt.ylabel('Optimal Consumption')\n",
    "plt.title('Policy Function, consumption - deterministic cake eating')\n",
    "plt.show()"
   ]
  },
  {
   "cell_type": "code",
   "execution_count": null,
   "metadata": {
    "collapsed": true
   },
   "outputs": [],
   "source": [
    "#Plot cake to leave rule as a function of cake size\n",
    "plt.figure()\n",
    "fig, ax = plt.subplots()\n",
    "ax.plot(w_grid[1:], optW[1:], label='Savings')\n",
    "ax.plot(w_grid[1:], w_grid[1:], '--', label='45 degree line')\n",
    "# Now add the legend with some customizations.\n",
    "legend = ax.legend(loc='upper left', shadow=False)\n",
    "# Set the fontsize\n",
    "for label in legend.get_texts():\n",
    "    label.set_fontsize('large')\n",
    "for label in legend.get_lines():\n",
    "    label.set_linewidth(1.5)  # the legend line width\n",
    "plt.xlabel('Size of Cake')\n",
    "plt.ylabel('Optimal Savings')\n",
    "plt.title('Policy Function, savings - deterministic cake eating')\n",
    "plt.show()"
   ]
  },
  {
   "cell_type": "markdown",
   "metadata": {
    "collapsed": true
   },
   "source": [
    "## Finding approximation errors\n",
    "\n",
    "It's a little complicated (we need to do the guess and verify method), but we can show that with $\\sigma = 1.0$ (i.e., $u(c) = log(c)$), then the policy function is $w' = \\beta w$.  Knowing this, we can find the approximation error from our solution method (VFI over a discrete grid).  This errors are found as:"
   ]
  },
  {
   "cell_type": "code",
   "execution_count": null,
   "metadata": {
    "collapsed": true
   },
   "outputs": [],
   "source": [
    "Wprime_errors = optW - beta * w_grid\n",
    "\n",
    "# Plot policy function approximation errors\n",
    "plt.figure()\n",
    "plt.plot(w_grid[1:], Wprime_errors[1:])\n",
    "plt.xlabel('Size of Cake')\n",
    "plt.ylabel('Error')\n",
    "plt.title('VFI w prime policy function errors')\n",
    "plt.show()"
   ]
  },
  {
   "cell_type": "code",
   "execution_count": null,
   "metadata": {
    "collapsed": true
   },
   "outputs": [],
   "source": [
    "C_errors = optC - (1 - beta) * w_grid\n",
    "# Plot policy function approximation errors\n",
    "plt.figure()\n",
    "plt.plot(w_grid[1:], C_errors[1:])\n",
    "plt.xlabel('Size of Cake')\n",
    "plt.ylabel('Error')\n",
    "plt.title('VFI consumption policy function errors')\n",
    "plt.show()"
   ]
  }
 ],
 "metadata": {
  "kernelspec": {
   "display_name": "Python 3",
   "language": "python",
   "name": "python3"
  },
  "language_info": {
   "codemirror_mode": {
    "name": "ipython",
    "version": 3
   },
   "file_extension": ".py",
   "mimetype": "text/x-python",
   "name": "python",
   "nbconvert_exporter": "python",
   "pygments_lexer": "ipython3",
   "version": "3.6.5"
  }
 },
 "nbformat": 4,
 "nbformat_minor": 2
}
