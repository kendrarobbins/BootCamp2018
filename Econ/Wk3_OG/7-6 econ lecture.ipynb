{
 "cells": [
  {
   "cell_type": "code",
   "execution_count": 1,
   "metadata": {},
   "outputs": [],
   "source": [
    "import numpy as np"
   ]
  },
  {
   "cell_type": "code",
   "execution_count": null,
   "metadata": {},
   "outputs": [],
   "source": [
    "# Set parameters\n",
    "beta_annual = 0.96\n",
    "beta = beta_annual**20 #idk\n",
    "sigma = 2.2\n",
    "n_vec = np.array([1.0,1.0,.2])\n",
    "alpha = .35\n",
    "A = 1.0\n",
    "delta_annual = .05\n",
    "delta = 1-(1-delta_annual)**20 #idk\n",
    "\n",
    "T = 50 \n",
    "path_toler = 1e-9 \n",
    "xi = .2 #greek c\n"
   ]
  },
  {
   "cell_type": "code",
   "execution_count": null,
   "metadata": {},
   "outputs": [],
   "source": [
    "# Solve for steady state\n",
    "b2bar, b3bar = get_SS() # from previous hw question \n",
    "\n",
    "#Set initial condition \n",
    "b21 = 0.8 * b2bar\n",
    "b31 = 1.1 * b3bar \n",
    "\n",
    "# inital guess for K \n",
    "K1 = b21+b31\n",
    "Kbar = b2bar + b3bar\n",
    "Kpath = np.linspace(K1, Kbar, T)\n",
    "\n",
    "rpath = get_r(Kpath, stuff)\n",
    "wpath = get_w(Kpath, stuff)"
   ]
  },
  {
   "cell_type": "code",
   "execution_count": null,
   "metadata": {},
   "outputs": [],
   "source": [
    "# solve for individual lifetime dicisions \n",
    "def get_a_life(b2, rpath, wpath, nvec, beta, sigma):\n",
    "    \n",
    "\n",
    "    return b3 \n",
    "\n",
    "def get_some_lives(b1, rpath, wpath, n_vec, beta, sigma):\n",
    "    \n",
    "    \n",
    "    return b2, b3\n",
    "    "
   ]
  },
  {
   "cell_type": "code",
   "execution_count": null,
   "metadata": {},
   "outputs": [],
   "source": [
    "bmat = np.zeros((T+1, 2))\n",
    "diag_mask = np.eye(2, dtype=bool)\n",
    "for t in range(T+1):\n",
    "    #solve for b2 and b3\n",
    "    \n",
    "Kpath_prime =bmat[:-1].sum(axis=1) #because last element is Nan \n",
    "\n",
    "dist = ((Kpath_prime - Kpath)**2).sum()\n",
    "Kpath_new = xi * Kpath_prime + (1-xi)*Kpath\n",
    "\n",
    "\n",
    "#put in a while loop for while dist>tol and iteration number < max_iter_number"
   ]
  }
 ],
 "metadata": {
  "kernelspec": {
   "display_name": "Python 3",
   "language": "python",
   "name": "python3"
  },
  "language_info": {
   "codemirror_mode": {
    "name": "ipython",
    "version": 3
   },
   "file_extension": ".py",
   "mimetype": "text/x-python",
   "name": "python",
   "nbconvert_exporter": "python",
   "pygments_lexer": "ipython3",
   "version": "3.6.5"
  }
 },
 "nbformat": 4,
 "nbformat_minor": 2
}
