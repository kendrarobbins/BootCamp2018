{
 "cells": [
  {
   "cell_type": "markdown",
   "metadata": {},
   "source": [
    "Kendra Robbins"
   ]
  },
  {
   "cell_type": "markdown",
   "metadata": {},
   "source": [
    "## Introduction to Numpy"
   ]
  },
  {
   "cell_type": "code",
   "execution_count": 105,
   "metadata": {},
   "outputs": [],
   "source": [
    "import numpy as np"
   ]
  },
  {
   "cell_type": "markdown",
   "metadata": {},
   "source": [
    "Problem 1"
   ]
  },
  {
   "cell_type": "code",
   "execution_count": 9,
   "metadata": {},
   "outputs": [],
   "source": [
    "A = np.array([[3,-1,4],\n",
    "             [1,5,-9]])\n"
   ]
  },
  {
   "cell_type": "code",
   "execution_count": 10,
   "metadata": {},
   "outputs": [],
   "source": [
    "B = np.array([[2,6,-5,3],\n",
    "              [5,-8,9,7],\n",
    "              [9,-3,-2,-3]])"
   ]
  },
  {
   "cell_type": "code",
   "execution_count": 13,
   "metadata": {},
   "outputs": [
    {
     "data": {
      "text/plain": [
       "array([[ 37,  14, -32, -10],\n",
       "       [-54,  -7,  58,  65]])"
      ]
     },
     "execution_count": 13,
     "metadata": {},
     "output_type": "execute_result"
    }
   ],
   "source": [
    "A@B\n"
   ]
  },
  {
   "cell_type": "markdown",
   "metadata": {},
   "source": [
    "Problem 2"
   ]
  },
  {
   "cell_type": "code",
   "execution_count": 29,
   "metadata": {},
   "outputs": [],
   "source": [
    "def prob2():\n",
    "    A = np.array([[3,1,4],\n",
    "             [1,5,9],\n",
    "             [-5,3,1]])\n",
    "    return (-1*(A@A@A)+9*(A@A)-15*A)"
   ]
  },
  {
   "cell_type": "code",
   "execution_count": 30,
   "metadata": {},
   "outputs": [
    {
     "data": {
      "text/plain": [
       "array([[0, 0, 0],\n",
       "       [0, 0, 0],\n",
       "       [0, 0, 0]])"
      ]
     },
     "execution_count": 30,
     "metadata": {},
     "output_type": "execute_result"
    }
   ],
   "source": [
    "prob2()"
   ]
  },
  {
   "cell_type": "code",
   "execution_count": 31,
   "metadata": {},
   "outputs": [
    {
     "data": {
      "text/plain": [
       "array([[0, 0, 0],\n",
       "       [0, 0, 0],\n",
       "       [0, 0, 0]])"
      ]
     },
     "execution_count": 31,
     "metadata": {},
     "output_type": "execute_result"
    }
   ],
   "source": [
    "prob2()"
   ]
  },
  {
   "cell_type": "markdown",
   "metadata": {},
   "source": [
    "Problem 3\n"
   ]
  },
  {
   "cell_type": "code",
   "execution_count": 81,
   "metadata": {},
   "outputs": [],
   "source": [
    "def prob3():\n",
    "    I = np.ones((7,7))\n",
    "    A = np.triu(I)\n",
    "    print(A)\n",
    "    J = 6* np.ones((7,7))\n",
    "    K = np.triu(J)\n",
    "    L = K -1\n",
    "    M = np.diag([-6,-6,-6,-6,-6,-6,-6])\n",
    "    B = M+L\n",
    "    print(B)\n",
    "    C = A@B@A\n",
    "    type(C)\n",
    "    print(C.dtype)\n",
    "    C = C.astype(np.int64)\n",
    "    return C\n",
    "    "
   ]
  },
  {
   "cell_type": "code",
   "execution_count": 82,
   "metadata": {},
   "outputs": [
    {
     "name": "stdout",
     "output_type": "stream",
     "text": [
      "[[1. 1. 1. 1. 1. 1. 1.]\n",
      " [0. 1. 1. 1. 1. 1. 1.]\n",
      " [0. 0. 1. 1. 1. 1. 1.]\n",
      " [0. 0. 0. 1. 1. 1. 1.]\n",
      " [0. 0. 0. 0. 1. 1. 1.]\n",
      " [0. 0. 0. 0. 0. 1. 1.]\n",
      " [0. 0. 0. 0. 0. 0. 1.]]\n",
      "[[-1.  5.  5.  5.  5.  5.  5.]\n",
      " [-1. -1.  5.  5.  5.  5.  5.]\n",
      " [-1. -1. -1.  5.  5.  5.  5.]\n",
      " [-1. -1. -1. -1.  5.  5.  5.]\n",
      " [-1. -1. -1. -1. -1.  5.  5.]\n",
      " [-1. -1. -1. -1. -1. -1.  5.]\n",
      " [-1. -1. -1. -1. -1. -1. -1.]]\n",
      "float64\n"
     ]
    },
    {
     "data": {
      "text/plain": [
       "array([[ -7,  -8,  -3,   8,  25,  48,  77],\n",
       "       [ -6, -12, -12,  -6,   6,  24,  48],\n",
       "       [ -5, -10, -15, -14,  -7,   6,  25],\n",
       "       [ -4,  -8, -12, -16, -14,  -6,   8],\n",
       "       [ -3,  -6,  -9, -12, -15, -12,  -3],\n",
       "       [ -2,  -4,  -6,  -8, -10, -12,  -8],\n",
       "       [ -1,  -2,  -3,  -4,  -5,  -6,  -7]])"
      ]
     },
     "execution_count": 82,
     "metadata": {},
     "output_type": "execute_result"
    }
   ],
   "source": [
    "prob3()"
   ]
  },
  {
   "cell_type": "markdown",
   "metadata": {},
   "source": [
    "Problem 4"
   ]
  },
  {
   "cell_type": "code",
   "execution_count": 16,
   "metadata": {},
   "outputs": [],
   "source": [
    "def prob4(A):\n",
    "    np.copy(A)\n",
    "    mask= A<0\n",
    "    A[mask]=0\n",
    "    return A"
   ]
  },
  {
   "cell_type": "code",
   "execution_count": 86,
   "metadata": {},
   "outputs": [
    {
     "data": {
      "text/plain": [
       "array([1, 0, 3, 0])"
      ]
     },
     "execution_count": 86,
     "metadata": {},
     "output_type": "execute_result"
    }
   ],
   "source": [
    "prob4(np.array([1,-2,3,-4]))"
   ]
  },
  {
   "cell_type": "markdown",
   "metadata": {},
   "source": [
    "Problem 5"
   ]
  },
  {
   "cell_type": "code",
   "execution_count": 124,
   "metadata": {},
   "outputs": [],
   "source": [
    "def prob5():\n",
    "    A = np.array([[0,2,4],\n",
    "                  [1,3,5]])\n",
    "    B = np.array([[3,0,0],\n",
    "                  [3,3,0],\n",
    "                  [3,3,3]])\n",
    "    C = np.diag([-2, -2, -2])\n",
    "    D = np.zeros((3,3))\n",
    "    AT = A.T\n",
    "    I = np.eye(3)\n",
    "    E = np.vstack((D,A,B))\n",
    "    F = np.zeros((2,2))\n",
    "    F2 = np.zeros((3,2))\n",
    "    F3 = np.zeros((2,3))\n",
    "    G = np.vstack((AT,F,F2))\n",
    "    H = np.vstack((I,F3,C))\n",
    "    J = np.hstack((E,G,H))\n",
    "    return J"
   ]
  },
  {
   "cell_type": "code",
   "execution_count": 125,
   "metadata": {
    "scrolled": true
   },
   "outputs": [
    {
     "data": {
      "text/plain": [
       "array([[ 0.,  0.,  0.,  0.,  1.,  1.,  0.,  0.],\n",
       "       [ 0.,  0.,  0.,  2.,  3.,  0.,  1.,  0.],\n",
       "       [ 0.,  0.,  0.,  4.,  5.,  0.,  0.,  1.],\n",
       "       [ 0.,  2.,  4.,  0.,  0.,  0.,  0.,  0.],\n",
       "       [ 1.,  3.,  5.,  0.,  0.,  0.,  0.,  0.],\n",
       "       [ 3.,  0.,  0.,  0.,  0., -2.,  0.,  0.],\n",
       "       [ 3.,  3.,  0.,  0.,  0.,  0., -2.,  0.],\n",
       "       [ 3.,  3.,  3.,  0.,  0.,  0.,  0., -2.]])"
      ]
     },
     "execution_count": 125,
     "metadata": {},
     "output_type": "execute_result"
    }
   ],
   "source": [
    "prob5()"
   ]
  },
  {
   "cell_type": "markdown",
   "metadata": {},
   "source": [
    "Problem 6\n"
   ]
  },
  {
   "cell_type": "code",
   "execution_count": 108,
   "metadata": {},
   "outputs": [],
   "source": [
    "def prob6(A):\n",
    "    \n",
    "    i, j = np.shape(A)\n",
    "    rowSums = np.sum(A, axis=1).reshape((j,1))\n",
    "    B = A / rowSums\n",
    "    \n",
    "    return B\n"
   ]
  },
  {
   "cell_type": "markdown",
   "metadata": {},
   "source": [
    "Problem 7"
   ]
  },
  {
   "cell_type": "code",
   "execution_count": 110,
   "metadata": {},
   "outputs": [],
   "source": [
    "def problem_7():\n",
    "    grid = np.load(\"grid.npy\")\n",
    "    \n",
    "    horizontalMax = np.max(grid[:,:-3] * grid[:,1:-2] * grid[:,2:-1] * grid[:,3:])\n",
    "    verticalMax = np.max(grid[:-3,:] * grid[1:-2,:] * grid[2:-1,:] * grid[3:,:])\n",
    "    rightDiagonalMax = np.max(grid[:-3,:-3] * grid[1:-2,1:-2] * grid[2:-1,2:-1] * grid[3:,3:])\n",
    "    leftDiagonalMax = np.max(grid[3:,:-3] * grid[2:-1,1:-2] * grid[1:-2,2:-1] * grid[:-3,3:])\n",
    "    \n",
    "    return max(horizontalMax, verticalMax, rightDiagonalMax, leftDiagonalMax)\n",
    "   \n"
   ]
  },
  {
   "cell_type": "markdown",
   "metadata": {},
   "source": [
    "## The Standard Library"
   ]
  },
  {
   "cell_type": "raw",
   "metadata": {},
   "source": [
    "Problem 1 \n"
   ]
  },
  {
   "cell_type": "code",
   "execution_count": 3,
   "metadata": {},
   "outputs": [],
   "source": [
    "def prob1(L):\n",
    "    A = min(L)\n",
    "    B = max(L)\n",
    "    C = sum(L) / len(L)\n",
    "    return A, B, C"
   ]
  },
  {
   "cell_type": "raw",
   "metadata": {},
   "source": [
    "Problem 2"
   ]
  },
  {
   "cell_type": "code",
   "execution_count": 6,
   "metadata": {},
   "outputs": [],
   "source": [
    "B = int(2)"
   ]
  },
  {
   "cell_type": "code",
   "execution_count": 8,
   "metadata": {},
   "outputs": [],
   "source": [
    "C = B\n"
   ]
  },
  {
   "cell_type": "code",
   "execution_count": 10,
   "metadata": {},
   "outputs": [],
   "source": [
    "C = C+1"
   ]
  },
  {
   "cell_type": "code",
   "execution_count": 11,
   "metadata": {},
   "outputs": [
    {
     "data": {
      "text/plain": [
       "3"
      ]
     },
     "execution_count": 11,
     "metadata": {},
     "output_type": "execute_result"
    }
   ],
   "source": [
    "C"
   ]
  },
  {
   "cell_type": "code",
   "execution_count": 12,
   "metadata": {},
   "outputs": [
    {
     "data": {
      "text/plain": [
       "2"
      ]
     },
     "execution_count": 12,
     "metadata": {},
     "output_type": "execute_result"
    }
   ],
   "source": [
    "B"
   ]
  },
  {
   "cell_type": "code",
   "execution_count": 13,
   "metadata": {},
   "outputs": [],
   "source": [
    "D = str(2)"
   ]
  },
  {
   "cell_type": "code",
   "execution_count": 22,
   "metadata": {},
   "outputs": [
    {
     "data": {
      "text/plain": [
       "'2'"
      ]
     },
     "execution_count": 22,
     "metadata": {},
     "output_type": "execute_result"
    }
   ],
   "source": [
    "D\n"
   ]
  },
  {
   "cell_type": "code",
   "execution_count": 15,
   "metadata": {},
   "outputs": [],
   "source": [
    "E=D"
   ]
  },
  {
   "cell_type": "code",
   "execution_count": 16,
   "metadata": {},
   "outputs": [
    {
     "data": {
      "text/plain": [
       "'2'"
      ]
     },
     "execution_count": 16,
     "metadata": {},
     "output_type": "execute_result"
    }
   ],
   "source": [
    "E"
   ]
  },
  {
   "cell_type": "code",
   "execution_count": 18,
   "metadata": {},
   "outputs": [],
   "source": [
    "F = str(1)"
   ]
  },
  {
   "cell_type": "code",
   "execution_count": 19,
   "metadata": {},
   "outputs": [],
   "source": [
    "E= E+F"
   ]
  },
  {
   "cell_type": "code",
   "execution_count": 20,
   "metadata": {},
   "outputs": [
    {
     "data": {
      "text/plain": [
       "'21'"
      ]
     },
     "execution_count": 20,
     "metadata": {},
     "output_type": "execute_result"
    }
   ],
   "source": [
    "E"
   ]
  },
  {
   "cell_type": "code",
   "execution_count": 23,
   "metadata": {},
   "outputs": [
    {
     "data": {
      "text/plain": [
       "'2'"
      ]
     },
     "execution_count": 23,
     "metadata": {},
     "output_type": "execute_result"
    }
   ],
   "source": [
    "D\n"
   ]
  },
  {
   "cell_type": "code",
   "execution_count": 28,
   "metadata": {},
   "outputs": [],
   "source": [
    "list = [1,2,3]"
   ]
  },
  {
   "cell_type": "code",
   "execution_count": 29,
   "metadata": {},
   "outputs": [],
   "source": [
    "list2=list"
   ]
  },
  {
   "cell_type": "code",
   "execution_count": 32,
   "metadata": {},
   "outputs": [],
   "source": [
    "list2.append(4)"
   ]
  },
  {
   "cell_type": "code",
   "execution_count": 35,
   "metadata": {},
   "outputs": [],
   "source": [
    "tup = (1,2,3)"
   ]
  },
  {
   "cell_type": "code",
   "execution_count": 37,
   "metadata": {},
   "outputs": [],
   "source": [
    "tup2 = tup"
   ]
  },
  {
   "cell_type": "code",
   "execution_count": 39,
   "metadata": {},
   "outputs": [],
   "source": [
    "set = {1,2,3}"
   ]
  },
  {
   "cell_type": "code",
   "execution_count": 41,
   "metadata": {},
   "outputs": [],
   "source": [
    "set2 = set"
   ]
  },
  {
   "cell_type": "code",
   "execution_count": 45,
   "metadata": {},
   "outputs": [],
   "source": [
    "set3 = {4}"
   ]
  },
  {
   "cell_type": "code",
   "execution_count": 47,
   "metadata": {},
   "outputs": [],
   "source": [
    "set2.add(4)"
   ]
  },
  {
   "cell_type": "code",
   "execution_count": 48,
   "metadata": {},
   "outputs": [
    {
     "data": {
      "text/plain": [
       "{1, 2, 3, 4}"
      ]
     },
     "execution_count": 48,
     "metadata": {},
     "output_type": "execute_result"
    }
   ],
   "source": [
    "set2"
   ]
  },
  {
   "cell_type": "code",
   "execution_count": 49,
   "metadata": {},
   "outputs": [
    {
     "data": {
      "text/plain": [
       "{1, 2, 3, 4}"
      ]
     },
     "execution_count": 49,
     "metadata": {},
     "output_type": "execute_result"
    }
   ],
   "source": [
    "set"
   ]
  },
  {
   "cell_type": "markdown",
   "metadata": {},
   "source": [
    "Sets and lists are mutable\n",
    "Tuples, integers, and strings are immutable. "
   ]
  },
  {
   "cell_type": "markdown",
   "metadata": {},
   "source": [
    "Problem 3"
   ]
  },
  {
   "cell_type": "code",
   "execution_count": 3,
   "metadata": {},
   "outputs": [],
   "source": [
    "import calculator as cl"
   ]
  },
  {
   "cell_type": "code",
   "execution_count": 4,
   "metadata": {},
   "outputs": [],
   "source": [
    "def hyp(a,b):\n",
    "    A = cl.myproduct(a,a)\n",
    "    B = cl.myproduct(b,b)\n",
    "    C = cl.mysum(A,B)\n",
    "    D = cl.sqrt(C)\n",
    "    return D"
   ]
  },
  {
   "cell_type": "code",
   "execution_count": 5,
   "metadata": {},
   "outputs": [
    {
     "data": {
      "text/plain": [
       "5.0"
      ]
     },
     "execution_count": 5,
     "metadata": {},
     "output_type": "execute_result"
    }
   ],
   "source": [
    "hyp(3,4)"
   ]
  },
  {
   "cell_type": "markdown",
   "metadata": {},
   "source": [
    "Problem 4"
   ]
  },
  {
   "cell_type": "code",
   "execution_count": 56,
   "metadata": {},
   "outputs": [],
   "source": [
    "from itertools import combinations\n",
    "def prob4(A):\n",
    "    powerA = []\n",
    "    for i in range(len(A)+1):\n",
    "        addSet = combinations(A,i)\n",
    "        for items in addSet:\n",
    "            powerA.append(set(items))\n",
    "            \n",
    "    return powerA\n",
    "    \n",
    "    \n",
    "  \n",
    "    "
   ]
  },
  {
   "cell_type": "code",
   "execution_count": 57,
   "metadata": {},
   "outputs": [
    {
     "data": {
      "text/plain": [
       "[set(), {1}, {2}, {3}, {1, 2}, {1, 3}, {2, 3}, {1, 2, 3}]"
      ]
     },
     "execution_count": 57,
     "metadata": {},
     "output_type": "execute_result"
    }
   ],
   "source": [
    "prob4([1,2,3])"
   ]
  },
  {
   "cell_type": "markdown",
   "metadata": {},
   "source": [
    "## Unit Testing"
   ]
  },
  {
   "cell_type": "markdown",
   "metadata": {},
   "source": [
    "Problem 1: see test_smallest_factor.py"
   ]
  },
  {
   "cell_type": "code",
   "execution_count": null,
   "metadata": {},
   "outputs": [],
   "source": [
    "def smallest_factor(n):\n",
    "    \"\"\"Return the smallest prime factor of the positive integer n.\"\"\"\n",
    "    if n == 1: return 1\n",
    "    for i in range(2, int(n**.5) + 1):\n",
    "        if n % i == 0: return i\n",
    "    return n"
   ]
  },
  {
   "cell_type": "markdown",
   "metadata": {},
   "source": [
    "Problem 2: see test_month_length.py"
   ]
  },
  {
   "cell_type": "markdown",
   "metadata": {},
   "source": [
    "Problem 3: see test_operate.py"
   ]
  },
  {
   "cell_type": "markdown",
   "metadata": {},
   "source": [
    "Problem 4: fixed addition, subtraction. See test_fractions.py"
   ]
  },
  {
   "cell_type": "code",
   "execution_count": 67,
   "metadata": {},
   "outputs": [],
   "source": [
    "class Fraction(object):\n",
    "    \"\"\"Reduced fraction class with integer numerator and denominator.\"\"\"\n",
    "    def __init__(self, numerator, denominator):\n",
    "        if denominator == 0:\n",
    "            raise ZeroDivisionError(\"denominator cannot be zero\")\n",
    "\n",
    "        elif type(numerator) is not int or type(denominator) is not int:\n",
    "            raise TypeError(\"numerator and denominator must be integers\")\n",
    "    \n",
    "        def gcd(a,b):\n",
    "            while b != 0:\n",
    "                a, b = b, a % b\n",
    "            return a\n",
    "\n",
    "        common_factor = gcd(numerator, denominator)\n",
    "        self.numer = numerator // common_factor\n",
    "        self.denom = denominator // common_factor\n",
    "\n",
    "    def __str__(self):\n",
    "        if self.denom != 1:\n",
    "            return \"{} / {}\".format(self.numer, self.denom)\n",
    "        \n",
    "        else:\n",
    "            return str(self.numer)\n",
    "\n",
    "    def __float__(self):\n",
    "        return self.numer / self.denom\n",
    "\n",
    "    def __eq__(self, other):\n",
    "        if type(other) is Fraction:\n",
    "            return self.numer==other.numer and self.denom==other.denom\n",
    "        else:\n",
    "            return float(self) == other\n",
    "\n",
    "    def __add__(self, other):\n",
    "        return Fraction(self.numer*other.denom + self.denom*other.numer, self.denom*other.denom)\n",
    "\n",
    "    def __sub__(self, other):\n",
    "        return Fraction(self.numer*other.denom - self.denom*other.numer, self.denom*other.denom)\n",
    "\n",
    "    def __mul__(self, other):\n",
    "        return Fraction(self.numer*other.numer, self.denom*other.denom)\n",
    "\n",
    "    def __truediv__(self, other):\n",
    "        if self.denom*other.numer == 0:\n",
    "            raise ZeroDivisionError(\"cannot divide by zero\")\n",
    "\n",
    "        return Fraction(self.numer*other.denom, self.denom*other.numer)"
   ]
  },
  {
   "cell_type": "code",
   "execution_count": 68,
   "metadata": {},
   "outputs": [],
   "source": [
    "A = Fraction(2,3)"
   ]
  },
  {
   "cell_type": "code",
   "execution_count": 69,
   "metadata": {},
   "outputs": [],
   "source": [
    "B = Fraction(1,3)"
   ]
  },
  {
   "cell_type": "code",
   "execution_count": 70,
   "metadata": {},
   "outputs": [
    {
     "data": {
      "text/plain": [
       "'1'"
      ]
     },
     "execution_count": 70,
     "metadata": {},
     "output_type": "execute_result"
    }
   ],
   "source": [
    "str(A+B)"
   ]
  },
  {
   "cell_type": "code",
   "execution_count": 71,
   "metadata": {},
   "outputs": [
    {
     "data": {
      "text/plain": [
       "'1 / 3'"
      ]
     },
     "execution_count": 71,
     "metadata": {},
     "output_type": "execute_result"
    }
   ],
   "source": [
    "str(A-B)"
   ]
  },
  {
   "cell_type": "code",
   "execution_count": 75,
   "metadata": {},
   "outputs": [],
   "source": [
    "def set_up_fractions():\n",
    "    frac_1_3 = Fraction(1, 3)\n",
    "    frac_1_2 = Fraction(1, 2)\n",
    "    frac_n2_3 = Fraction(-2, 3)\n",
    "    return frac_1_3, frac_1_2, frac_n2_3\n",
    "\n",
    "def test_fraction_init(set_up_fractions):\n",
    "    frac_1_3, frac_1_2, frac_n2_3 = set_up_fractions\n",
    "    assert frac_1_3.numer == 1\n",
    "    assert frac_1_2.denom == 2\n",
    "    assert frac_n2_3.numer == -2\n",
    "    frac = Fraction(30, 42) # 30/42 reduces to 5/7.\n",
    "    assert frac.numer == 5\n",
    "    assert frac.denom == 7\n",
    "\n",
    "def test_fraction_str(set_up_fractions):\n",
    "    frac_1_3, frac_1_2, frac_n2_3 = set_up_fractions\n",
    "    assert str(frac_1_3) == \"1/3\"\n",
    "    assert str(frac_1_2) == \"1/2\"\n",
    "    assert str(frac_n2_3) == \"-2/3\"\n",
    "    return print(str(frac_1_3))\n",
    "\n",
    "def test_fraction_float(set_up_fractions):\n",
    "    frac_1_3, frac_1_2, frac_n2_3 = set_up_fractions\n",
    "    assert float(frac_1_3) == 1 / 3.\n",
    "    assert float(frac_1_2) == .5\n",
    "    assert float(frac_n2_3) == -2 / 3.\n",
    "\n",
    "def test_fraction_eq(set_up_fractions):\n",
    "    frac_1_3, frac_1_2, frac_n2_3 = set_up_fractions\n",
    "    assert frac_1_2 == Fraction(1, 2)\n",
    "    assert frac_1_3 == Fraction(2, 6)\n",
    "    assert frac_n2_3 == Fraction(8, -12)\n",
    "\n",
    "\n",
    "    \n"
   ]
  },
  {
   "cell_type": "markdown",
   "metadata": {},
   "source": [
    "Problem 5"
   ]
  },
  {
   "cell_type": "code",
   "execution_count": null,
   "metadata": {},
   "outputs": [],
   "source": [
    "#@pytest.fixture\n",
    "def set_up_hands():\n",
    "    hand1 = [\"1022\", \"1122\", \"0100\", \"2021\", \"0010\", \"2201\",\n",
    "             \"2111\", \"0020\", \"1102\", \"0210\", \"2110\", \"1020\"]\n",
    "    Not12 = [\"0000\"]\n",
    "    NotUnique = [\"0000\", \"0000\", \"0000\", \"0000\", \"0000\", \"0000\",\n",
    "                     \"0000\", \"0000\", \"0000\", \"0000\", \"0000\", \"0000\"]\n",
    "    WrongDigits = [\"00000\", \"1122\", \"0100\", \"2021\", \"0010\", \"2201\",\n",
    "                       \"2111\", \"0020\", \"1102\", \"0210\", \"2110\", \"1020\"]\n",
    "    NotMod3 = [\"3022\", \"1122\", \"0100\", \"2021\", \"0010\", \"2201\",\n",
    "                     \"2111\", \"0020\", \"1102\", \"0210\", \"2110\", \"1020\"]\n",
    "    return hand1, not12, NotUnique, WrongDigits, NotMod3\n",
    "    \n",
    "    \n",
    "def test_count_sets():\n",
    "    \n",
    "    hand1, not12, NotUnique, WrongDigits, NotMod3 = set_up_hands\n",
    "    assert func.count_sets(hand1) = 6\n",
    "    pytest.raises(ValueError, func.count_sets, cards = Not12)\n",
    "    pytest.raises(ValueError, func.count_sets, cards = NotMod3)\n",
    "    pytest.raises(ValueError, func.count_sets, cards = NotUnique)\n",
    "    pytest.raises(ValueError, func.count_sets, cards = WrongDigits)\n",
    "    \n",
    "def test_is_set():\n",
    "    \n",
    "    assert is_set(\"1010\", \"0101\", \"2222\") = True\n",
    "    assert is_set(\"1111\", \"0000\", \"1111\") = False\n",
    "    assert is_set(\"1000\", \"1121\", \"1212\") = True\n",
    "    \n",
    "    "
   ]
  },
  {
   "cell_type": "markdown",
   "metadata": {},
   "source": [
    "# Problem 6 - - - - - needs revision"
   ]
  },
  {
   "cell_type": "code",
   "execution_count": 79,
   "metadata": {},
   "outputs": [],
   "source": [
    "from itertools import combinations, permutations"
   ]
  },
  {
   "cell_type": "code",
   "execution_count": 7,
   "metadata": {},
   "outputs": [],
   "source": [
    "def count_sets(cards):\n",
    "    \n",
    "    if len(cards) != 12:\n",
    "        raise ValueError(\"hand must contain 12 cards\")\n",
    "    if len(cards)>len(set(cards)):\n",
    "        raise ValueError(\"all cards must be unique\")\n",
    "    for card in cards:\n",
    "        if len(card) != 4:\n",
    "            raise ValueError(\"each card must be described by 4 numbers\")\n",
    "    for card in cards:\n",
    "        for num in card:\n",
    "            if num not in \"012\":\n",
    "                raise ValueError(\"each card must contain only numbers 0, 1, 2\")\n",
    "                \n",
    "                \n",
    "    numSets = 0\n",
    "    combs = list(combinations(cards, 3))\n",
    "    for potSet in combs:\n",
    "        if is_set(str(potSet[0]), str(potSet[1]), str(potSet[2])):\n",
    "            numSets += 1\n",
    "\n",
    "    return numSets\n",
    "    \n",
    "    \n",
    "def is_set(a,b,c):\n",
    "    \n",
    "    firstdigits = True\n",
    "    seconddigits = True\n",
    "    thirddigits = True\n",
    "    fourthdigits = True\n",
    "    \n",
    "    set_first = {a[0], b[0], c[0]}\n",
    "    set_second = {a[1], b[1], c[1]}\n",
    "    set_third = {a[2], b[2], c[2]}\n",
    "    set_fourth = {a[3], b[3], c[3]}\n",
    "    \n",
    "    A = [1,3]\n",
    "    \n",
    "    if len(set_first) not in A:\n",
    "        firstdigits = False\n",
    "    if len(set_second) not in A:\n",
    "        seconddigits = False\n",
    "    if len(set_third) not in A:\n",
    "        thirddigits = False\n",
    "    if len(set_fourth) not in A:\n",
    "        fourthdigits = False\n",
    "        \n",
    "    print(firstdigits)\n",
    "    print(fourthdigits)\n",
    "        \n",
    "    if firstdigits and seconddigits and thirddigits and fourthdigits:\n",
    "        is_set = True\n",
    "        \n",
    "    else:\n",
    "        is_set = False\n",
    "        \n",
    "    print(is_set)\n",
    "        \n",
    "    return is_set"
   ]
  },
  {
   "cell_type": "code",
   "execution_count": 8,
   "metadata": {},
   "outputs": [
    {
     "name": "stdout",
     "output_type": "stream",
     "text": [
      "True\n",
      "True\n",
      "True\n"
     ]
    },
    {
     "data": {
      "text/plain": [
       "True"
      ]
     },
     "execution_count": 8,
     "metadata": {},
     "output_type": "execute_result"
    }
   ],
   "source": [
    "is_set(\"0000\",\"0000\",\"0000\")"
   ]
  },
  {
   "cell_type": "code",
   "execution_count": null,
   "metadata": {},
   "outputs": [],
   "source": []
  },
  {
   "cell_type": "code",
   "execution_count": null,
   "metadata": {},
   "outputs": [],
   "source": []
  },
  {
   "cell_type": "markdown",
   "metadata": {},
   "source": [
    "## Object Oriented"
   ]
  },
  {
   "cell_type": "markdown",
   "metadata": {},
   "source": [
    "Problem 1&3"
   ]
  },
  {
   "cell_type": "code",
   "execution_count": 288,
   "metadata": {},
   "outputs": [],
   "source": [
    "class Backpack:\n",
    "    \n",
    "    def __init__(self, name, color, max_size=5): \n",
    "        \n",
    "        #name, color, max_size are attributes \n",
    "        # __init__ is the constructor, which is a method\n",
    "        \n",
    "        \n",
    "        self.name=name\n",
    "        self.contents = []\n",
    "        \n",
    "        self.color = color\n",
    "        self.max_size = max_size\n",
    "        \n",
    "    def put(self, item): #a method that adds 'item' to contents if possible\n",
    "        \n",
    "        if len(self.contents) >= self.max_size : \n",
    "            \n",
    "            # if the bag is full, 'item' is not added to contents and \"No Room!\" is printed.\n",
    "            print(\"No Room!\")\n",
    "        \n",
    "        if len(self.contents) < self.max_size:\n",
    "            \n",
    "            # if there is room for 'item' in the backpack, 'item' is added.\n",
    "            \n",
    "            self.contents.append(item)\n",
    "        \n",
    "    def take(self, item):\n",
    "        \n",
    "        #'item' is removed from the backpack\n",
    "        \n",
    "        self.contents.remove(item)\n",
    "        \n",
    "    def dump(self): \n",
    "        \n",
    "        #removes all contents from the backpack\n",
    "        self.contents = []\n",
    "        \n",
    "    def __eq__(self, other):\n",
    "    \n",
    "        #determine when two backpacks are equal.\n",
    "        #two backpacks are equal iff their names, number of contents, and color are the same. \n",
    "        \n",
    "        if self.name != other.name:\n",
    "            return False \n",
    "        if len(self.contents) != len(other.contents):\n",
    "            return False\n",
    "        if self.color != other.color:\n",
    "            return False\n",
    "        else:\n",
    "            return True\n",
    "        \n",
    "        \n",
    "    def __str__(self):\n",
    "        \n",
    "        string = f'''\n",
    "            Owner: \\t {self.name}\n",
    "            Color: \\t {self.color}\n",
    "            Size: \\t{len(self.contents)}\n",
    "            Max Size: \\t{self.max_size}\n",
    "            Contents: \\t{self.contents}\n",
    "        '''\n",
    "        return string\n",
    "        \n",
    "        "
   ]
  },
  {
   "cell_type": "code",
   "execution_count": 289,
   "metadata": {},
   "outputs": [],
   "source": [
    "def test_backpack():\n",
    "    testpack = Backpack(\"Barry\", \"black\")\n",
    "    if testpack.name != \"Barry\":\n",
    "        print(\"Backpack.name assigned incorrectly.\")\n",
    "\n",
    "    for item in [\"pencil\", \"pen\", \"paper\", \"computer\"]:\n",
    "        testpack.put(item)\n",
    "\n",
    "    print(testpack.contents)"
   ]
  },
  {
   "cell_type": "code",
   "execution_count": 290,
   "metadata": {},
   "outputs": [
    {
     "name": "stdout",
     "output_type": "stream",
     "text": [
      "['pencil', 'pen', 'paper', 'computer']\n"
     ]
    }
   ],
   "source": [
    "test_backpack()"
   ]
  },
  {
   "cell_type": "code",
   "execution_count": 291,
   "metadata": {},
   "outputs": [],
   "source": [
    "bag = Backpack(\"Kendra\", \"green\")"
   ]
  },
  {
   "cell_type": "code",
   "execution_count": 292,
   "metadata": {},
   "outputs": [],
   "source": [
    "bag.put(\"book\")"
   ]
  },
  {
   "cell_type": "code",
   "execution_count": 293,
   "metadata": {},
   "outputs": [
    {
     "name": "stdout",
     "output_type": "stream",
     "text": [
      "\n",
      "            Owner: \t Kendra\n",
      "            Color: \t green\n",
      "            Size: \t1\n",
      "            Max Size: \t5\n",
      "            Contents: \t['book']\n",
      "        \n"
     ]
    }
   ],
   "source": [
    "print(bag)"
   ]
  },
  {
   "cell_type": "code",
   "execution_count": null,
   "metadata": {},
   "outputs": [],
   "source": []
  },
  {
   "cell_type": "markdown",
   "metadata": {},
   "source": [
    "Problem 2 "
   ]
  },
  {
   "cell_type": "code",
   "execution_count": 52,
   "metadata": {},
   "outputs": [],
   "source": [
    "class Jetpack(Backpack):\n",
    "    \n",
    "    #Jetpack is a subclass of Backpack with attributes name, color, max_size, and fuel.\n",
    "    \n",
    "    def __init__(self, name, color, max_size=2, fuel=10):\n",
    "        \n",
    "        Backpack.__init__(self, name, color, maxsize=3, fuel=10)\n",
    "        \n",
    "        self.fuel=fuel\n",
    "        \n",
    "        def fly(x): #x is the amount of fuel needed for flying.\n",
    "            if self.fuel<x:  #the jetpack does not fly if there is not enough fuel.\n",
    "                print(\"Not enough fuel!\")\n",
    "            \n",
    "            else:   # fuel level decreases by the amount needed for flying\n",
    "                self.fuel = self.fuel-x\n",
    "                \n",
    "        def dump(): #dump empties contents and fuel \n",
    "            self.contents = []\n",
    "            self.fuel = 0"
   ]
  },
  {
   "cell_type": "markdown",
   "metadata": {},
   "source": [
    "Problem 4"
   ]
  },
  {
   "cell_type": "code",
   "execution_count": 186,
   "metadata": {},
   "outputs": [],
   "source": [
    "class ComplexNumber():\n",
    "    \n",
    "    def __init__(self, a, b):\n",
    "    \n",
    "        self.real = a\n",
    "        self.imag = b\n",
    "    \n",
    "    def conjugate(self, a, b): \n",
    "        \n",
    "        return ComplexNumber(self.real, -(self.imag))\n",
    "    \n",
    "    def __str__(self):\n",
    "        \n",
    "        if self.imag >=0:\n",
    "            string = str( \"(\" + str(self.real) + '+' + str(self.imag) + 'j'+')')\n",
    "            return string\n",
    "        \n",
    "        if self.imag <0:\n",
    "            string = str('('+str(self.real)+'-'+str(-self.imag)+'j'+')')\n",
    "            return string\n",
    "        \n",
    "    def __abs__(self):\n",
    "        \n",
    "        C = (self.real)**2+(self.imag)**2\n",
    "        D = C**(.5)\n",
    "        return D\n",
    "    \n",
    "    def __eq__(self, other):\n",
    "        \n",
    "        if self.real != other.real:\n",
    "            return False\n",
    "        if self.imag != other.imag:\n",
    "            return False\n",
    "        else:\n",
    "            return True \n",
    "        \n",
    "    def __add__(self, other):\n",
    "        \n",
    "        real = self.real + other.real\n",
    "        imag = self.imag + other.imag \n",
    "        \n",
    "        return ComplexNumber(real, imag)\n",
    "    \n",
    "    def __sub__(self, other):\n",
    "        \n",
    "        real = self.real - other.real\n",
    "        imag = self.imag - other.imag\n",
    "        \n",
    "        return ComplexNumber(real, imag)\n",
    "    \n",
    "    def __mul__(self, other):\n",
    "        \n",
    "        real = self.real * other.real - self.imag * other.imag\n",
    "        imag = self.real * other.imag + self.imag * other.real\n",
    "        \n",
    "        return ComplexNumber(real, imag)\n",
    "    \n",
    "    def __truediv__(self, other):\n",
    "\n",
    "        if other.real == 0 and other.imag == 0:\n",
    "            raise ZeroDivisionError(\"cannot divide by zero\")\n",
    "        \n",
    "        denom = other.real**2 + other.imag**2\n",
    "        real = (self.real * other.real + self.imag * other.imag) / denom\n",
    "        imag = (self.imag * other.real - self.real * other.imag) / denom\n",
    "        \n",
    "        return ComplexNumber(real, imag)"
   ]
  },
  {
   "cell_type": "code",
   "execution_count": 187,
   "metadata": {},
   "outputs": [],
   "source": [
    "A = ComplexNumber(2,3)"
   ]
  },
  {
   "cell_type": "code",
   "execution_count": 188,
   "metadata": {},
   "outputs": [
    {
     "name": "stdout",
     "output_type": "stream",
     "text": [
      "(2+3j)\n"
     ]
    }
   ],
   "source": [
    "print(A)"
   ]
  },
  {
   "cell_type": "code",
   "execution_count": 189,
   "metadata": {},
   "outputs": [],
   "source": [
    "B = ComplexNumber(2,-3)"
   ]
  },
  {
   "cell_type": "code",
   "execution_count": 190,
   "metadata": {},
   "outputs": [
    {
     "name": "stdout",
     "output_type": "stream",
     "text": [
      "(2-3j)\n"
     ]
    }
   ],
   "source": [
    "print(B)"
   ]
  },
  {
   "cell_type": "code",
   "execution_count": 191,
   "metadata": {},
   "outputs": [
    {
     "data": {
      "text/plain": [
       "3.605551275463989"
      ]
     },
     "execution_count": 191,
     "metadata": {},
     "output_type": "execute_result"
    }
   ],
   "source": [
    "abs(B)"
   ]
  },
  {
   "cell_type": "code",
   "execution_count": 192,
   "metadata": {},
   "outputs": [
    {
     "data": {
      "text/plain": [
       "False"
      ]
     },
     "execution_count": 192,
     "metadata": {},
     "output_type": "execute_result"
    }
   ],
   "source": [
    "A == B"
   ]
  },
  {
   "cell_type": "code",
   "execution_count": 194,
   "metadata": {},
   "outputs": [
    {
     "name": "stdout",
     "output_type": "stream",
     "text": [
      "(13+0j)\n"
     ]
    }
   ],
   "source": [
    "print(A*B)"
   ]
  },
  {
   "cell_type": "code",
   "execution_count": 299,
   "metadata": {},
   "outputs": [],
   "source": [
    "def test_ComplexNumber(a,b):\n",
    "    py_cnum, my_cnum = complex(a,b), ComplexNumber(a,b)\n",
    "    \n",
    "    # Validate the constructor.\n",
    "    if my_cnum.real != a or my_cnum.imag != b:\n",
    "        print(\"__init__() set self.real and self.imag incorrectly\")\n",
    "    \n",
    "    # Validate conjugate() by checking the new number's imag attribute.\n",
    "    if py_cnum.conjugate().imag != my_cnum.conjugate().imag:\n",
    "        print(\"conjugate() failed for\", py_cnum)\n",
    "    \n",
    "    # Validate __str__().\n",
    "    if str(py_cnum) != str(my_cnum):\n",
    "        print(\"__str__() failed for\", py_cnum)\n",
    "        \n",
    "   "
   ]
  },
  {
   "cell_type": "markdown",
   "metadata": {},
   "source": [
    "## Exceptions and File Input/Output"
   ]
  },
  {
   "cell_type": "markdown",
   "metadata": {},
   "source": [
    "Problem 1"
   ]
  },
  {
   "cell_type": "code",
   "execution_count": 20,
   "metadata": {},
   "outputs": [],
   "source": [
    "def arithmagic():\n",
    "    step_1 = input(\"Enter a 3-digit number where the first and last digits differ by 2 or more: \")\n",
    "    \n",
    "    if len(step_1) !=3:\n",
    "        raise ValueError(\"step_1 should be a 3 digit number\")\n",
    "        \n",
    "    if abs(int(step_1[0]) - int(step_1[2])) <2 :\n",
    "        raise ValueError(\"first and last digits of step_1 must differ by 2 or more\")\n",
    "    \n",
    "    step_2 = input(\"Enter the reverse of the first number, obtained by reading it backwards: \")\n",
    "    \n",
    "    if step_2 != step_1[::-1]:\n",
    "        raise ValueError(\"step_2 is not the reverse of step_1\")\n",
    "    \n",
    "    step_3 = input(\"Enter the positive difference of these numbers: \")\n",
    "    \n",
    "    if int(step_3) != abs(int(step_1)-int(step_2)):\n",
    "        raise ValueError(\"step_3 is not the positive difference of step_1 and step_2\")\n",
    "    \n",
    "    step_4 = input(\"Enter the reverse of the previous result: \")\n",
    "    \n",
    "    if step_4 != step_3[::-1]:\n",
    "        raise ValueError(\"step_4 is not the reverse of step_3\")\n",
    "    \n",
    "    print(str(step_3), \"+\", str(step_4), \"= 1089 (ta-da!)\")"
   ]
  },
  {
   "cell_type": "code",
   "execution_count": 22,
   "metadata": {},
   "outputs": [
    {
     "name": "stdout",
     "output_type": "stream",
     "text": [
      "Enter a 3-digit number where the first and last digits differ by 2 or more: 125\n",
      "Enter the reverse of the first number, obtained by reading it backwards: 521\n",
      "Enter the positive difference of these numbers: 396\n",
      "Enter the reverse of the previous result: 693\n",
      "396 + 693 = 1089 (ta-da!)\n"
     ]
    }
   ],
   "source": [
    "arithmagic()"
   ]
  },
  {
   "cell_type": "markdown",
   "metadata": {},
   "source": [
    "Problem 2"
   ]
  },
  {
   "cell_type": "code",
   "execution_count": 23,
   "metadata": {},
   "outputs": [],
   "source": [
    "from random import choice "
   ]
  },
  {
   "cell_type": "code",
   "execution_count": 39,
   "metadata": {},
   "outputs": [],
   "source": [
    "def random_walk(max_iters=100):\n",
    "    walk = 0\n",
    "    directions = [1, -1]\n",
    "    \n",
    "    try:\n",
    "        for i in range(int(max_iters)):\n",
    "            walk += choice(directions)\n",
    "        \n",
    "    except KeyboardInterrupt:\n",
    "        print(\"Process interrupted at iteration\", ind)\n",
    "        \n",
    "    else:\n",
    "        print(\"Process completed.\")\n",
    "        \n",
    "    finally:\n",
    "        print(\"Value of walk is\", walk)\n",
    "        return walk"
   ]
  },
  {
   "cell_type": "markdown",
   "metadata": {},
   "source": [
    "# Problem 3 & 4"
   ]
  },
  {
   "cell_type": "code",
   "execution_count": null,
   "metadata": {},
   "outputs": [],
   "source": [
    "class ContentFilter():\n",
    "    \"\"\"\n",
    "    \n",
    "    Attributes:\n",
    "        filename (str): the name of the file to be read\n",
    "        contents (str): the contents of the file \"filname\"\n",
    "        totalChar (int): the total number of characters in the file\n",
    "        totalAlph (int): the total number of letters in file\n",
    "        totalNum (int): the total number of digits in file\n",
    "        totalSpaces (int): the total number of spaces in file\n",
    "        totalLines (int): the total number of lines in file\n",
    "        \n",
    "     \"\"\"\n",
    "    \n",
    "    def __init__(self, filename):\n",
    "        \"\"\" Construct a file.\n",
    "        \n",
    "        Paramters:\n",
    "            filename (str): the name of the file to read\n",
    "        \n",
    "        \"\"\"\n",
    "        \n",
    "        correctFile = False\n",
    "        self.filename = filename\n",
    "        \n",
    "        while not correctFile:\n",
    "            try:\n",
    "                myFile = open(self.filename, 'r')\n",
    "            except FileNotFoundError as e:\n",
    "                self.filename = input(\"Please enter a valid file name: \")\n",
    "                continue\n",
    "            except TypeError as e:\n",
    "                self.filename = input(\"Please enter a valid file name: \")\n",
    "                continue\n",
    "            except OSError as e:\n",
    "                self.filename = input(\"Please enter a valid file name: \")\n",
    "                continue\n",
    "            else:\n",
    "                correctFile = True\n",
    "                  \n",
    "        self.filename = filename\n",
    "        self.lines = myFile.readlines()\n",
    "        \n",
    "        content = \"\"\n",
    "        for line in self.lines:\n",
    "            content += line\n",
    "            \n",
    "        self.contents = content\n",
    "            \n",
    "        self.totalLines = sum(1 for line in open(filename))\n",
    "        myFile.close()\n",
    "        \n",
    "        \n",
    "        self.totalChar = len(self.contents)\n",
    "        self.totalAlph = sum(char.isalpha() for char in self.contents)\n",
    "        self.totalNum = sum(char.isdigit() for char in self.contents)\n",
    "        self.totalSpaces = sum(char.isspace() for char in self.contents)\n",
    "        \n",
    "    def uniform(self, outfile, mode='w', case='upper'):\n",
    "        \"\"\"Write the data to the outfile with uniform case.\n",
    "        \n",
    "        Parameters:\n",
    "            outfile (str): the name of the file to write to\n",
    "            mode (str): the file access mode, either 'w', 'x', or 'a'; \n",
    "                        defaults to 'w'\n",
    "            case (str): the case in which the text will be written to outfile; \n",
    "                        defaults to 'upper'\n",
    "            \n",
    "        \"\"\"\n",
    "        \n",
    "        if mode not in ['w', 'x', 'a']:\n",
    "            raise ValueError(\"Mode must be either w, x, or a.\")\n",
    "        if case not in ['upper', 'lower']:\n",
    "            raise ValueError(\"Case must be either upper or lower.\")\n",
    "        try:\n",
    "            myFileOut = open(outfile, mode)\n",
    "\n",
    "            if case == \"upper\":\n",
    "                for line in self.contents:\n",
    "                    myFileOut.write(line.upper())\n",
    "            elif case == \"lower\":\n",
    "                for line in self.contents:\n",
    "                    myFileOut.write(line.lower())\n",
    "        finally:\n",
    "            myFileOut.close()\n",
    "            \n",
    "    def reverse(self, outfile, mode='w', unit='line'):\n",
    "        \"\"\"Write the data to the outfile in reverse order.\n",
    "        \n",
    "        Parameters:\n",
    "            outfile (str): the name of the file to write to\n",
    "            mode (str): the file access mode, either 'w', 'x', or 'a'; \n",
    "                        defaults to 'w'\n",
    "            unit (str): If unit=\"word\", reverse the ordering of the words in each line, \n",
    "                        but write the lines in the same order as the original ﬁle. \n",
    "                        If unit=\"line\", reverse the ordering of the lines, \n",
    "                        but do not change the ordering of the words on each individual line. \n",
    "                        If unit is not one of these two values, raise a ValueError. \n",
    "                        Defaults to \"line.\"\n",
    "            \n",
    "        \"\"\"    \n",
    "        if mode not in ['w', 'x', 'a']:\n",
    "            raise ValueError(\"Mode must be either w, x, or a.\")\n",
    "        \n",
    "        if unit not in [\"line\", \"word\"]:\n",
    "            raise ValueError(\"unit must be either line or word\")\n",
    "            \n",
    "        try:\n",
    "            myFileOut = open(outfile, mode)\n",
    "\n",
    "            if unit == \"line\":\n",
    "                for i in range(len(self.lines)):\n",
    "                    myFileOut.write(self.lines[-(i+1)])\n",
    "            elif unit == \"word\":\n",
    "                for line in self.lines: \n",
    "                    words = line.split()\n",
    "                    line_rev = \" \".join(reversed(words)) + '\\n'\n",
    "                    myFileOut.write(line_rev)\n",
    "        finally:\n",
    "            myFileOut.close()       \n",
    "        \n",
    "    def transpose(self, outfile, mode='w'):\n",
    "        \"\"\"Write a transposed version of the data to the outfile.\n",
    "        This means writing the first word of each line of the data to the\n",
    "        first line of the new file, the second word of each line of the data\n",
    "        to the second line of the new file, and so on. \n",
    "        \n",
    "        We assume that there are an equal number of words on each line\n",
    "        of the input file.\n",
    "        \n",
    "        Parameters:\n",
    "            outfile (str): the name of the file to write to\n",
    "            mode (str): the file access mode, either 'w', 'x', or 'a'; \n",
    "                        defaults to 'w'\n",
    "            \n",
    "        \"\"\"   \n",
    "        \n",
    "        if mode not in ['w', 'x', 'a']:\n",
    "            raise ValueError(\"Mode must be either w, x, or a.\")\n",
    "            \n",
    "        try:\n",
    "            myFileOut = open(outfile, mode)\n",
    "            wordMat = []\n",
    "            \n",
    "            for line in self.lines:\n",
    "                words = line.split()\n",
    "                wordMat.append(words)\n",
    "            \n",
    "            wordMat2 = np.array(wordMat)\n",
    "            wordMatT = wordMat2.T\n",
    "            \n",
    "            for row in wordMatT:\n",
    "                nextline = \" \".join(row)\n",
    "                myFileOut.write(nextline + \"\\n\")\n",
    "            \n",
    "        finally:\n",
    "            myFileOut.close()\n",
    "        \n",
    "    def __str__(self):\n",
    "        \"\"\"Returns a string with characters of the file.\"\"\"\n",
    "        \n",
    "        string = (\"Source file:\\t\\t\\t\" + self.filename +\n",
    "                 \"\\nTotal characters:\\t\\t\" + str(self.totalChar) +\n",
    "                 \"\\nAlphabetic characters:\\t\\t\" + str(self.totalAlph) +\n",
    "                 \"\\nNumerical characters:\\t\\t\" + str(self.totalNum) +\n",
    "                 \"\\nWhitespace characters:\\t\\t\" + str(self.totalSpaces) +\n",
    "                 \"\\nNumber of lines:\\t\\t\" + str(self.totalLines))\n",
    "        \n",
    "        return string"
   ]
  },
  {
   "cell_type": "code",
   "execution_count": null,
   "metadata": {},
   "outputs": [],
   "source": []
  },
  {
   "cell_type": "code",
   "execution_count": null,
   "metadata": {},
   "outputs": [],
   "source": []
  }
 ],
 "metadata": {
  "kernelspec": {
   "display_name": "Python 3",
   "language": "python",
   "name": "python3"
  },
  "language_info": {
   "codemirror_mode": {
    "name": "ipython",
    "version": 3
   },
   "file_extension": ".py",
   "mimetype": "text/x-python",
   "name": "python",
   "nbconvert_exporter": "python",
   "pygments_lexer": "ipython3",
   "version": "3.6.5"
  }
 },
 "nbformat": 4,
 "nbformat_minor": 2
}
