{
 "cells": [
  {
   "cell_type": "markdown",
   "metadata": {},
   "source": [
    "Kendra Robbins\n",
    "\n",
    "# Iterative Solvers lab"
   ]
  },
  {
   "cell_type": "code",
   "execution_count": 12,
   "metadata": {},
   "outputs": [],
   "source": [
    "import numpy as np\n",
    "from numpy import linalg as LA\n",
    "import scipy\n",
    "from scipy import linalg as la\n",
    "from matplotlib import pyplot as plt\n",
    "import pandas as pd\n",
    "import sympy as sy\n",
    "import math"
   ]
  },
  {
   "cell_type": "markdown",
   "metadata": {},
   "source": [
    "#### Problem 1"
   ]
  },
  {
   "cell_type": "code",
   "execution_count": 42,
   "metadata": {},
   "outputs": [],
   "source": [
    "def jacobi(A,b,tol=1e-6,maxiters=500):\n",
    "    \n",
    "    #D will be a diagonal matrix with diagonal entries that are the inverses of A's diagonal entries\n",
    "    D_inv = np.zeros_like(A)\n",
    "    \n",
    "    for j in range(np.shape(A)[0]):\n",
    "        D_inv[j,j]= 1/A[j,j]\n",
    "        \n",
    "    dist = 1\n",
    "    k=0\n",
    "    x=np.zeros(np.shape(A)[0])\n",
    "    \n",
    "    while k<maxiters and dist>tol:\n",
    "        xnext = x**k + D_inv@(b-A@x)\n",
    "        dist = la.norm(x-xnext, np.inf)\n",
    "        x= xnext \n",
    "        k =+1\n",
    "    \n",
    "    if k==maxiters:\n",
    "        print(\"The function did not converge\")\n",
    "        \n",
    "    else: \n",
    "        return x \n",
    "    "
   ]
  },
  {
   "cell_type": "code",
   "execution_count": 43,
   "metadata": {},
   "outputs": [],
   "source": [
    "def diag_dom(n, num_entries=None):\n",
    "    if num_entries is None:\n",
    "        num_entries = int(n**1.5) - n\n",
    "    A = np.zeros((n,n))\n",
    "    rows = np.random.choice(np.arange(0,n), size=num_entries)\n",
    "    cols = np.random.choice(np.arange(0,n), size=num_entries)\n",
    "    data = np.random.randint(-4, 4, size=num_entries)\n",
    "    for i in range(num_entries):\n",
    "        A[rows[i], cols[i]] = data[i]\n",
    "    for i in range(n):\n",
    "        A[i,i] = np.sum(np.abs(A[i])) + 1\n",
    "    return A"
   ]
  },
  {
   "cell_type": "code",
   "execution_count": 45,
   "metadata": {},
   "outputs": [],
   "source": [
    "b = np.random.random(4)\n",
    "A=diag_dom(4)\n",
    "\n",
    "C=jacobi(A,b)"
   ]
  },
  {
   "cell_type": "code",
   "execution_count": 46,
   "metadata": {},
   "outputs": [
    {
     "data": {
      "text/plain": [
       "True"
      ]
     },
     "execution_count": 46,
     "metadata": {},
     "output_type": "execute_result"
    }
   ],
   "source": [
    "np.allclose(b,A@C)"
   ]
  },
  {
   "cell_type": "code",
   "execution_count": null,
   "metadata": {},
   "outputs": [],
   "source": []
  }
 ],
 "metadata": {
  "kernelspec": {
   "display_name": "Python 3",
   "language": "python",
   "name": "python3"
  },
  "language_info": {
   "codemirror_mode": {
    "name": "ipython",
    "version": 3
   },
   "file_extension": ".py",
   "mimetype": "text/x-python",
   "name": "python",
   "nbconvert_exporter": "python",
   "pygments_lexer": "ipython3",
   "version": "3.6.5"
  }
 },
 "nbformat": 4,
 "nbformat_minor": 2
}
