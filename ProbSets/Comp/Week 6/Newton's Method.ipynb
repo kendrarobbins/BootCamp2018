{
 "cells": [
  {
   "cell_type": "markdown",
   "metadata": {},
   "source": [
    "Kendra Robbins\n",
    "\n",
    "OSM Week 6 \n",
    "\n",
    "Newton's Method Lab\n",
    "\n"
   ]
  },
  {
   "cell_type": "code",
   "execution_count": 73,
   "metadata": {},
   "outputs": [],
   "source": [
    "import numpy as np\n",
    "from autograd import grad\n",
    "from scipy import optimize as opt\n",
    "from matplotlib import pyplot as plt\n",
    "from scipy import linalg as la"
   ]
  },
  {
   "cell_type": "markdown",
   "metadata": {},
   "source": [
    "## Problem 1"
   ]
  },
  {
   "cell_type": "code",
   "execution_count": 2,
   "metadata": {},
   "outputs": [],
   "source": [
    "def newton(f, fprime, x0, tol=1e-5, maxiters=15):\n",
    "    \n",
    "    xk=x0\n",
    "    convergence = False \n",
    "    \n",
    "    for i in range(maxiters):\n",
    "        x_kp1 = xk - f(xk)/fprime(xk)\n",
    "        \n",
    "        dist = np.abs(x_kp1-xk)\n",
    "        if dist<tol:\n",
    "            break\n",
    "            convergence=True\n",
    "        xk=x_kp1\n",
    "        \n",
    "    return x_kp1\n",
    "        "
   ]
  },
  {
   "cell_type": "code",
   "execution_count": 3,
   "metadata": {},
   "outputs": [],
   "source": [
    "f= lambda x: np.exp(x)-2\n",
    "fprime = lambda x: np.exp(x)"
   ]
  },
  {
   "cell_type": "code",
   "execution_count": 4,
   "metadata": {},
   "outputs": [
    {
     "data": {
      "text/plain": [
       "7.38905609893065"
      ]
     },
     "execution_count": 4,
     "metadata": {},
     "output_type": "execute_result"
    }
   ],
   "source": [
    "fprime(2.)"
   ]
  },
  {
   "cell_type": "code",
   "execution_count": 5,
   "metadata": {},
   "outputs": [
    {
     "data": {
      "text/plain": [
       "0.6931471805600254"
      ]
     },
     "execution_count": 5,
     "metadata": {},
     "output_type": "execute_result"
    }
   ],
   "source": [
    "newton(f,fprime, 1)"
   ]
  },
  {
   "cell_type": "code",
   "execution_count": 6,
   "metadata": {},
   "outputs": [
    {
     "data": {
      "text/plain": [
       "1.603162047558726e-13"
      ]
     },
     "execution_count": 6,
     "metadata": {},
     "output_type": "execute_result"
    }
   ],
   "source": [
    "f(newton(f,fprime, 1))"
   ]
  },
  {
   "cell_type": "code",
   "execution_count": 7,
   "metadata": {},
   "outputs": [
    {
     "data": {
      "text/plain": [
       "0.6931471805599453"
      ]
     },
     "execution_count": 7,
     "metadata": {},
     "output_type": "execute_result"
    }
   ],
   "source": [
    "opt.newton(f,1,fprime)"
   ]
  },
  {
   "cell_type": "markdown",
   "metadata": {},
   "source": [
    "## Problem 2"
   ]
  },
  {
   "cell_type": "code",
   "execution_count": 8,
   "metadata": {},
   "outputs": [],
   "source": [
    "def findr(N1,N2,P1,P2):\n",
    "    \n",
    "    f = lambda r: P1*((1+r)**N1-1)-P2*(1-(1+r)**(-N2))\n",
    "    \n",
    "    fprime = lambda r: P1*N1*(1+r)**(N1-1) - P2*N2*(1+r)**(-N2-1)\n",
    "    \n",
    "    zero = newton(f,fprime,.05)\n",
    "    \n",
    "    return zero"
   ]
  },
  {
   "cell_type": "code",
   "execution_count": 9,
   "metadata": {},
   "outputs": [
    {
     "data": {
      "text/plain": [
       "0.03877843204799235"
      ]
     },
     "execution_count": 9,
     "metadata": {},
     "output_type": "execute_result"
    }
   ],
   "source": [
    "findr(30,20,2000,8000)"
   ]
  },
  {
   "cell_type": "markdown",
   "metadata": {},
   "source": [
    "## Problem 3"
   ]
  },
  {
   "cell_type": "code",
   "execution_count": 76,
   "metadata": {},
   "outputs": [],
   "source": [
    "def newton2(f, fprime,x0, α=1, tol=1e-5, maxiters=15):\n",
    "\n",
    "    j = 0\n",
    "    dist = 10\n",
    "    converged = False\n",
    "    xk=x0\n",
    "    while dist >= tol and j < maxiters:\n",
    "        xkp1 = xk - α * (f(xk) / fprime(xk))\n",
    "        dist = np.abs(xkp1 - xk)\n",
    "        xk = xkp1\n",
    "        j += 1\n",
    "    if j < maxiters:\n",
    "        converged = True\n",
    "        \n",
    "    return xkp1, converged, j"
   ]
  },
  {
   "cell_type": "code",
   "execution_count": 77,
   "metadata": {},
   "outputs": [],
   "source": [
    "g = lambda x: np.sign(x) * np.power(np.abs(x), 1./3)\n",
    "gprime = lambda x: (1./3)*np.power(np.abs(x), -2./3)"
   ]
  },
  {
   "cell_type": "code",
   "execution_count": 78,
   "metadata": {},
   "outputs": [
    {
     "data": {
      "text/plain": [
       "(-327.6800000000003, False, 15)"
      ]
     },
     "execution_count": 78,
     "metadata": {},
     "output_type": "execute_result"
    }
   ],
   "source": [
    "newton2(g,gprime,.01)"
   ]
  },
  {
   "cell_type": "code",
   "execution_count": 79,
   "metadata": {},
   "outputs": [
    {
     "data": {
      "text/plain": [
       "(6.400000000000134e-07, True, 6)"
      ]
     },
     "execution_count": 79,
     "metadata": {},
     "output_type": "execute_result"
    }
   ],
   "source": [
    "newton2(g,gprime,.01,.4)"
   ]
  },
  {
   "cell_type": "markdown",
   "metadata": {},
   "source": [
    "## Problem 4"
   ]
  },
  {
   "cell_type": "code",
   "execution_count": 71,
   "metadata": {},
   "outputs": [],
   "source": [
    "def newton3(f, fprime,n, x0, tol=1e-12, maxiters=15):\n",
    "    \n",
    "    #n is the number of different values of α \n",
    "    \n",
    "    α_grid = np.linspace(.01,1.0001,n)\n",
    "    convergence = False\n",
    "    iters_vec = np.empty(n)\n",
    "    \n",
    "    for j in range(len(α_grid)):\n",
    "        \n",
    "        α=α_grid[j]\n",
    "        iters_vec[j] = newton2(f,fprime,x0,α,tol,maxiters)[2]\n",
    "\n",
    "    plt.plot(α_grid, iters_vec)\n",
    "    plt.xlabel(\"α\")\n",
    "    plt.ylabel(\"iterations\")\n",
    "    \n",
    "    α_min = α_grid[np.argwhere(iters_vec == np.min(iters_vec))][0][0]\n",
    "    return α_min "
   ]
  },
  {
   "cell_type": "code",
   "execution_count": 80,
   "metadata": {},
   "outputs": [
    {
     "data": {
      "text/plain": [
       "0.3330956956956957"
      ]
     },
     "execution_count": 80,
     "metadata": {},
     "output_type": "execute_result"
    },
    {
     "data": {
      "image/png": "[encoded data removed]",
      "text/plain": [
       "<Figure size 432x288 with 1 Axes>"
      ]
     },
     "metadata": {},
     "output_type": "display_data"
    }
   ],
   "source": [
    "newton3(g,gprime,1000,.01)"
   ]
  },
  {
   "cell_type": "markdown",
   "metadata": {},
   "source": [
    "## Problem 5"
   ]
  },
  {
   "cell_type": "code",
   "execution_count": 82,
   "metadata": {},
   "outputs": [],
   "source": [
    "def newton5(f, Df,x0, α=1, tol=1e-5, maxiters=15):\n",
    "\n",
    "    j = 0\n",
    "    dist = 10\n",
    "    converged = False\n",
    "    xk=x0\n",
    "    \n",
    "    if np.isscalar(x0):\n",
    "        while dist >= tol and j < maxiters:\n",
    "            xkp1 = xk - α * (f(xk) / Df(xk))\n",
    "            dist = np.abs(xkp1 - xk)\n",
    "            xk = xkp1\n",
    "            j += 1\n",
    "        if j < maxiters:\n",
    "            converged = True\n",
    "        \n",
    "        return xkp1, converged, j\n",
    "    \n",
    "    else:\n",
    "        while dist >= tol and j < maxiters:\n",
    "            y = la.solve(Df(xk), f(xk))\n",
    "            xkp1 = xk - α*y\n",
    "            dist = la.norm(xkp1-xk,np.inf)\n",
    "            xk=xkp1\n",
    "            j=+1\n",
    "        if j < maxiters:\n",
    "            converged = True         \n",
    "            \n",
    "    return xkp1, converged, j"
   ]
  },
  {
   "cell_type": "code",
   "execution_count": 83,
   "metadata": {},
   "outputs": [
    {
     "data": {
      "text/plain": [
       "(0.6931471805600254, True, 4)"
      ]
     },
     "execution_count": 83,
     "metadata": {},
     "output_type": "execute_result"
    }
   ],
   "source": [
    "newton5(f,fprime,1)"
   ]
  },
  {
   "cell_type": "code",
   "execution_count": 84,
   "metadata": {},
   "outputs": [
    {
     "data": {
      "text/plain": [
       "(6.400000000000134e-07, True, 6)"
      ]
     },
     "execution_count": 84,
     "metadata": {},
     "output_type": "execute_result"
    }
   ],
   "source": [
    "newton5(g,gprime,.01,.4)"
   ]
  },
  {
   "cell_type": "markdown",
   "metadata": {},
   "source": [
    "## Problem 6"
   ]
  },
  {
   "cell_type": "code",
   "execution_count": 87,
   "metadata": {},
   "outputs": [],
   "source": [
    "def bio():\n",
    "    \n",
    "    γ, δ = 5, 1\n",
    "    \n",
    "    # function and jacobian\n",
    "    def f(vec): \n",
    "        x, y = vec\n",
    "        return np.array([γ * x * y - x * (1 + y), - x * y + (δ - y) * (1 + y)])\n",
    "    def Df(vec): \n",
    "        x, y = vec\n",
    "        return np.array([[γ * y - (1 + y), γ * x - x], [-y, -x + (δ - y - (1 + y))]])\n",
    "    \n",
    "    xgrid = np.linspace(-0.25, 0, 100)\n",
    "    ygrid = np.linspace(0, 0.25, 100)    \n",
    "    \n",
    "    # solutions and αs\n",
    "    result1 = np.array([3.75, 0.25])\n",
    "    result2 = np.array([0, 1])\n",
    "    α1 = 0.55\n",
    "    α2 = 1\n",
    "    \n",
    "    for x in xgrid:\n",
    "        for y in ygrid:\n",
    "            start = np.array([x, y])\n",
    "            \n",
    "            xvec1, converged1 = newton5(f, Df, start, α1, maxiters=50)[:-1]\n",
    "            xvec2, converged2 = newton5(f, Df,start, α2, maxiters=50)[:-1]\n",
    "            \n",
    "            # check 4 conditions: algorthim converges for each call and solution vectors\n",
    "            # are approximately equal to expected results\n",
    "            if converged1 and converged2 and np.allclose(np.abs(xvec1), \\\n",
    "                            np.abs(result1)) and np.allclose(np.abs(xvec2), np.abs(result2)):\n",
    "                return np.array([x, y])\n",
    "    \n",
    "    \n",
    "    "
   ]
  },
  {
   "cell_type": "code",
   "execution_count": 88,
   "metadata": {},
   "outputs": [
    {
     "data": {
      "text/plain": [
       "array([-0.25     ,  0.1969697])"
      ]
     },
     "execution_count": 88,
     "metadata": {},
     "output_type": "execute_result"
    }
   ],
   "source": [
    "bio()"
   ]
  },
  {
   "cell_type": "markdown",
   "metadata": {},
   "source": [
    "## Problem 7"
   ]
  },
  {
   "cell_type": "code",
   "execution_count": 93,
   "metadata": {},
   "outputs": [],
   "source": [
    "f_7_1 = lambda x: x**3 -1\n",
    "f_7_1_prime = lambda x: 3*x**2\n",
    "f_7_1_zeros = np.array([1.0, -0.5 + 1j*(3**0.5)/2, -0.5 - 1j*(3**0.5)/2])"
   ]
  },
  {
   "cell_type": "code",
   "execution_count": 94,
   "metadata": {},
   "outputs": [],
   "source": [
    "def p_7(f, f_prime, zeros, res = 200, iters = 100, bounds = [-1.5, 1.5, -1.5, 1.5]):\n",
    "    x_real = np.linspace(bounds[0], bounds[1], res) #real\n",
    "    x_imag = np.linspace(bounds[2], bounds[3], res) #imaginary\n",
    "    X_real, X_imag = np.meshgrid(x_real, x_imag)\n",
    "    X_0 = X_real + 1j*X_imag #combine into complex numbers\n",
    "    \n",
    "    #Newton iteration, gives grid X_k\n",
    "    it = 0\n",
    "    X_k = X_0\n",
    "    while it < iters:\n",
    "        X_kp1 = X_k - f(X_k)/f_prime(X_k)\n",
    "        X_k = X_kp1\n",
    "        it += 1\n",
    "    \n",
    "    Y = np.zeros((res, res))\n",
    "    for i in range(res):\n",
    "        for j in range(res):\n",
    "            Y[i, j] = np.argmin(np.abs(zeros - X_k[i, j]))\n",
    "    \n",
    "    plt.figure(figsize=(10,10))\n",
    "    plt.pcolormesh(X_real, X_imag, Y, cmap='brg')\n",
    "    plt.show()\n",
    "    return"
   ]
  },
  {
   "cell_type": "code",
   "execution_count": 95,
   "metadata": {},
   "outputs": [
    {
     "data": {
      "image/png": "[encoded data removed]",
      "text/plain": [
       "<Figure size 720x720 with 1 Axes>"
      ]
     },
     "metadata": {},
     "output_type": "display_data"
    }
   ],
   "source": [
    "p_7(f_7_1, f_7_1_prime, f_7_1_zeros)"
   ]
  },
  {
   "cell_type": "code",
   "execution_count": null,
   "metadata": {},
   "outputs": [],
   "source": []
  }
 ],
 "metadata": {
  "kernelspec": {
   "display_name": "Python 3",
   "language": "python",
   "name": "python3"
  },
  "language_info": {
   "codemirror_mode": {
    "name": "ipython",
    "version": 3
   },
   "file_extension": ".py",
   "mimetype": "text/x-python",
   "name": "python",
   "nbconvert_exporter": "python",
   "pygments_lexer": "ipython3",
   "version": "3.6.5"
  }
 },
 "nbformat": 4,
 "nbformat_minor": 2
}
