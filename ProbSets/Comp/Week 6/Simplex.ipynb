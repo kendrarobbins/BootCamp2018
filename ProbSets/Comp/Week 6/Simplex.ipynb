{
 "cells": [
  {
   "cell_type": "markdown",
   "metadata": {},
   "source": [
    "Kendra Robbins \n",
    "\n",
    "OSM Week 6 \n",
    "\n",
    "Simplex Algorithm Lab "
   ]
  },
  {
   "cell_type": "code",
   "execution_count": 22,
   "metadata": {},
   "outputs": [],
   "source": [
    "import numpy as np"
   ]
  },
  {
   "cell_type": "markdown",
   "metadata": {},
   "source": [
    "# Problem 1-6"
   ]
  },
  {
   "cell_type": "code",
   "execution_count": 49,
   "metadata": {},
   "outputs": [],
   "source": [
    "class simplex: \n",
    "    \n",
    "    def __init__(self,c,A,b):\n",
    "    \n",
    "        #attributes \n",
    "        self.c = c\n",
    "        self.A = A \n",
    "        self.b = b \n",
    "\n",
    "        self.n = len(self.c) #dimension of domain \n",
    "        self.m = len(self.b) #dimension of target space\n",
    "    \n",
    "        if np.any(self.A @ np.zeros(len(self.c)) > self.b):\n",
    "            raise ValueError(\"Not feasible at the origin\")\n",
    "            \n",
    "        basic = np.arange(self.n, self.n + self.m) # initial basic variables\n",
    "        nonbasic = np.arange(0, self.n)            # initial nonbasic variables\n",
    "            \n",
    "        self.basic = basic\n",
    "        self.nonbasic=nonbasic\n",
    "        \n",
    "        self.L = np.concatenate((basic, nonbasic))\n",
    "        self.T = self.init_tableau()\n",
    "        self.basic = self.L[:self.m]\n",
    "        self.nonbasic = self.L[self.m:]\n",
    "        \n",
    "    #a method that creates the first tableau    \n",
    "    def init_tableau(self):\n",
    "        '''Creates the initial tableau'''\n",
    "        c_bar = np.hstack((self.c, np.zeros(self.m))) \n",
    "        A_bar = np.hstack((self.A, np.identity(self.m)))\n",
    "        T_toprow = np.hstack((0, -1 * c_bar, 1))\n",
    "        T_bottomrow = np.column_stack((self.b, A_bar, np.zeros(self.m)))\n",
    "        T = np.vstack((T_toprow, T_bottomrow))\n",
    "        return T\n",
    "    \n",
    "    #determine the pivot row and column using bland's rule\n",
    "    def findpivot(self):\n",
    "\n",
    "        j = np.argwhere(self.T[0, 1:-1] < 0)[0][0] + 1    # pivot column\n",
    "        col_j = self.T[1:, j].copy()\n",
    "        \n",
    "        if np.all(col_j <= 0):\n",
    "            raise ValueError(\"The problem is unbounded.\") # terminate algorithm -- no optimal solution\n",
    "        \n",
    "        non_pos = col_j <= 0                              # find non-positive coefficients in column j\n",
    "        col_0 = self.T[1:, 0].copy()\n",
    "        col_j[non_pos] = np.nan                           # set these entries to NA in copy of column j\n",
    "        i = np.nanargmin(col_0 / col_j) + 1               # pivot row\n",
    "        \n",
    "        return i, j\n",
    "    \n",
    "    def pivot(self):\n",
    "        '''Perform a pivot and update list of basic/nonbasic variables and tableau.'''\n",
    "        i, j = self.findpivot()                   # get pivot row and column\n",
    "        \n",
    "        temp = self.L[i - 1]                     # swap entering and leaving variables in index list\n",
    "        self.L[i - 1] = self.L[self.m + j - 1]\n",
    "        self.L[self.m + j - 1] = temp\n",
    "        \n",
    "        self.T[i] /= self.T[i, j]                # update tableau\n",
    "        row_i = self.T[i]\n",
    "        for k, row in enumerate(self.T):\n",
    "            if k == i:\n",
    "                pass\n",
    "            else:\n",
    "                mult = -row[j]\n",
    "                self.T[k] = row_i * mult + row\n",
    "                \n",
    "                \n",
    "    def solve(self):\n",
    "        '''Call pivot() until a solution is found or problem is determined to be unbounded.'''\n",
    "        \n",
    "        while np.any(self.T[0] < 0):\n",
    "            self.pivot()\n",
    "        basic_dict = {self.basic[i]: round(self.T[i+1, 0], 2) for i in range(self.m)}\n",
    "        nonbasic_dict = {self.nonbasic[i]: 0 for i in range(self.n)}\n",
    "        \n",
    "        return self.T[0, 0], basic_dict, nonbasic_dict\n",
    "            \n",
    "            "
   ]
  },
  {
   "cell_type": "code",
   "execution_count": 50,
   "metadata": {},
   "outputs": [
    {
     "data": {
      "text/plain": [
       "(0.25, {1: 0.25, 3: 0.5}, {0: 0, 2: 0})"
      ]
     },
     "execution_count": 50,
     "metadata": {},
     "output_type": "execute_result"
    }
   ],
   "source": [
    "b = np.array([1,2])\n",
    "A = np.array([[3,4],[0,6]])\n",
    "c = np.array([0,1])\n",
    "b2 = np.array([-1,2])\n",
    "\n",
    "A =simplex(c,A,b)\n",
    "A.basic\n",
    "A.b\n",
    "A.solve()"
   ]
  },
  {
   "cell_type": "markdown",
   "metadata": {},
   "source": [
    "# Problem 7"
   ]
  },
  {
   "cell_type": "code",
   "execution_count": 70,
   "metadata": {},
   "outputs": [],
   "source": [
    "data = np.load('productMix.npz')\n",
    "a = data['A']\n",
    "p = data['p']\n",
    "m = data['m']\n",
    "d = data['d']"
   ]
  },
  {
   "cell_type": "code",
   "execution_count": 71,
   "metadata": {},
   "outputs": [],
   "source": [
    "A = np.row_stack([a, np.eye((4))])\n",
    "b = np.concatenate([m, d])"
   ]
  },
  {
   "cell_type": "code",
   "execution_count": 73,
   "metadata": {},
   "outputs": [
    {
     "data": {
      "text/plain": [
       "(7453.596491228071,\n",
       " {1: 6.19, 3: 1.79, 6: 0.97, 0: 10.0, 8: 13.81, 2: 12.0, 10: 8.21},\n",
       " {7: 0, 4: 0, 9: 0, 5: 0})"
      ]
     },
     "execution_count": 73,
     "metadata": {},
     "output_type": "execute_result"
    }
   ],
   "source": [
    "simplex(p, A, b).solve()"
   ]
  },
  {
   "cell_type": "code",
   "execution_count": null,
   "metadata": {},
   "outputs": [],
   "source": []
  }
 ],
 "metadata": {
  "kernelspec": {
   "display_name": "Python 3",
   "language": "python",
   "name": "python3"
  },
  "language_info": {
   "codemirror_mode": {
    "name": "ipython",
    "version": 3
   },
   "file_extension": ".py",
   "mimetype": "text/x-python",
   "name": "python",
   "nbconvert_exporter": "python",
   "pygments_lexer": "ipython3",
   "version": "3.6.5"
  }
 },
 "nbformat": 4,
 "nbformat_minor": 2
}
