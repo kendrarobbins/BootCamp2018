{
 "cells": [
  {
   "cell_type": "markdown",
   "metadata": {},
   "source": [
    "Kendra Robbins\n",
    "\n",
    "# Iterative Solvers lab"
   ]
  },
  {
   "cell_type": "code",
   "execution_count": 4,
   "metadata": {},
   "outputs": [],
   "source": [
    "import numpy as np\n",
    "from numpy import linalg as LA\n",
    "import scipy\n",
    "from scipy import linalg as la\n",
    "from matplotlib import pyplot as plt\n",
    "import pandas as pd\n",
    "import sympy as sy\n",
    "import math"
   ]
  },
  {
   "cell_type": "markdown",
   "metadata": {},
   "source": [
    "#### Problem 1"
   ]
  },
  {
   "cell_type": "code",
   "execution_count": 44,
   "metadata": {},
   "outputs": [],
   "source": [
    "def jacobi(A,b,tol=1e-9,maxiters=500):\n",
    "    \n",
    "    #D will be a diagonal matrix with diagonal entries that are the inverses of A's diagonal entries\n",
    "    D_inv = np.zeros_like(A)\n",
    "    \n",
    "    for j in range(np.shape(A)[0]):\n",
    "        D_inv[j,j]= 1/A[j,j]\n",
    "        \n",
    "    dist = 1\n",
    "    k=0\n",
    "    x=np.zeros(np.shape(A)[0])\n",
    "    \n",
    "    while k<maxiters and dist>tol:\n",
    "        xnext = x + D_inv@(b-A@x)\n",
    "        dist = la.norm(x-xnext, np.inf)\n",
    "        x= xnext \n",
    "        k =+1\n",
    "    \n",
    "    if k==maxiters:\n",
    "        print(\"The function did not converge\")\n",
    "        \n",
    "    else: \n",
    "        return x \n",
    "    "
   ]
  },
  {
   "cell_type": "code",
   "execution_count": 45,
   "metadata": {},
   "outputs": [],
   "source": [
    "def diag_dom(n, num_entries=None):\n",
    "    '''generates an nxn matrix that will converge with the\n",
    "    jacobi method'''\n",
    "    \n",
    "    if num_entries is None:\n",
    "        num_entries = int(n**1.5) - n\n",
    "    A = np.zeros((n,n))\n",
    "    rows = np.random.choice(np.arange(0,n), size=num_entries)\n",
    "    cols = np.random.choice(np.arange(0,n), size=num_entries)\n",
    "    data = np.random.randint(-4, 4, size=num_entries)\n",
    "    for i in range(num_entries):\n",
    "        A[rows[i], cols[i]] = data[i]\n",
    "    for i in range(n):\n",
    "        A[i,i] = np.sum(np.abs(A[i])) + 1\n",
    "    return A"
   ]
  },
  {
   "cell_type": "code",
   "execution_count": 46,
   "metadata": {},
   "outputs": [],
   "source": [
    "b = np.random.random(6)\n",
    "A=diag_dom(6)\n",
    "\n",
    "C=jacobi(A,b)"
   ]
  },
  {
   "cell_type": "code",
   "execution_count": 47,
   "metadata": {},
   "outputs": [
    {
     "data": {
      "text/plain": [
       "True"
      ]
     },
     "execution_count": 47,
     "metadata": {},
     "output_type": "execute_result"
    }
   ],
   "source": [
    "np.allclose(b,A@C)"
   ]
  },
  {
   "cell_type": "markdown",
   "metadata": {},
   "source": [
    "## Problem 2"
   ]
  },
  {
   "cell_type": "code",
   "execution_count": 42,
   "metadata": {},
   "outputs": [],
   "source": [
    "def jacobi2(A,b,tol=1e-6,maxiters=500,plot=False):\n",
    "    \n",
    "    #D will be a diagonal matrix with diagonal entries that are the inverses of A's diagonal entries\n",
    "    D_inv = np.zeros_like(A)\n",
    "    \n",
    "    for j in range(np.shape(A)[0]):\n",
    "        D_inv[j,j]= 1/A[j,j]\n",
    "        \n",
    "    dist = 1\n",
    "    k=0\n",
    "    x=np.zeros(np.shape(A)[0])\n",
    "    \n",
    "    #dist_list will hold errors of each approximation\n",
    "    dist_list = []\n",
    "        \n",
    "    while k<maxiters and dist>tol:\n",
    "        xnext = x + D_inv@(b-A@x)\n",
    "        dist = la.norm(x-xnext, np.inf)\n",
    "        dist_list = np.append(dist_list,dist)\n",
    "        \n",
    "        x= xnext \n",
    "        k =+1\n",
    "    \n",
    "    if k==maxiters:\n",
    "        print(\"The function did not converge\")\n",
    "        \n",
    "    else: \n",
    "        \n",
    "        if plot==True:\n",
    "            D = np.arange(0,len(dist_list))\n",
    "            plt.semilogy(D, dist_list)\n",
    "            plt.xlabel('iteration')\n",
    "            plt.ylabel('absolute error of approximation')\n",
    "            plt.plot()\n",
    "        \n",
    "            return x \n",
    "        \n",
    "        else:\n",
    "            return x"
   ]
  },
  {
   "cell_type": "code",
   "execution_count": 43,
   "metadata": {},
   "outputs": [
    {
     "data": {
      "text/plain": [
       "array([0.21696312, 0.33764237, 0.39995622, 0.54570713, 0.5836116 ,\n",
       "       0.33531128])"
      ]
     },
     "execution_count": 43,
     "metadata": {},
     "output_type": "execute_result"
    },
    {
     "data": {
      "image/png": "[encoded data removed]",
      "text/plain": [
       "<Figure size 432x288 with 1 Axes>"
      ]
     },
     "metadata": {},
     "output_type": "display_data"
    }
   ],
   "source": [
    "jacobi2(A,b,plot=True)"
   ]
  },
  {
   "cell_type": "markdown",
   "metadata": {},
   "source": [
    "## Problem 3"
   ]
  },
  {
   "cell_type": "code",
   "execution_count": 62,
   "metadata": {},
   "outputs": [],
   "source": [
    "def gs(A,b,tol=1e-12, maxiters=500, plot=False):\n",
    "    \n",
    "    \n",
    "    dist = 10\n",
    "    k=0 #k is number of iterations\n",
    "    x=np.zeros(np.shape(A)[0])\n",
    "    \n",
    "    dist_list = []\n",
    "    xnext=np.zeros_like(x)\n",
    "    while k<maxiters and dist>tol:\n",
    "        \n",
    "        xcopy=x.copy()\n",
    "        for i in range(len(x)):\n",
    "            xnext[i] = xcopy[i]+(b[i] - A[i,:]@xcopy)/A[i,i]\n",
    "        \n",
    "        dist = la.norm(xcopy-xnext, np.inf)\n",
    "        dist_list = np.append(dist_list,dist)\n",
    "        x = xnext \n",
    "        k=+1\n",
    "    \n",
    "    if k==maxiters:\n",
    "        print(\"The algorithm did not converge\")\n",
    "        \n",
    "    else: \n",
    "        \n",
    "        if plot==True:\n",
    "            D = np.arange(0,len(dist_list))\n",
    "            plt.semilogy(D, dist_list)\n",
    "            plt.xlabel('iteration')\n",
    "            plt.ylabel('absolute error of approximation')\n",
    "            plt.plot()\n",
    "            \n",
    "            return x\n",
    "        \n",
    "        \n",
    "        else:\n",
    "            return x"
   ]
  },
  {
   "cell_type": "code",
   "execution_count": 63,
   "metadata": {},
   "outputs": [
    {
     "data": {
      "text/plain": [
       "array([0.45605747, 0.28487501, 0.35276236, 0.06925772, 0.07236727,\n",
       "       0.00789254])"
      ]
     },
     "execution_count": 63,
     "metadata": {},
     "output_type": "execute_result"
    },
    {
     "data": {
      "image/png": "[encoded data removed]",
      "text/plain": [
       "<Figure size 432x288 with 1 Axes>"
      ]
     },
     "metadata": {},
     "output_type": "display_data"
    }
   ],
   "source": [
    "gs(A,b,plot=True)"
   ]
  },
  {
   "cell_type": "markdown",
   "metadata": {},
   "source": [
    "## Problem 4"
   ]
  },
  {
   "cell_type": "code",
   "execution_count": 64,
   "metadata": {},
   "outputs": [],
   "source": [
    "def gs_sparse(A,b,tol=1e-12, maxiters=500):\n",
    "    \n",
    "    \n",
    "    dist = 10\n",
    "    k=0 #k is number of iterations\n",
    "    x=np.zeros(np.shape(A)[0])\n",
    "    \n",
    "    dist_list = []\n",
    "    xnext=np.zeros_like(x)\n",
    "    while k<maxiters and dist>tol:\n",
    "        \n",
    "        xcopy=x.copy()\n",
    "        for i in range(len(x)):\n",
    "            rowstart = A.indptr[i]\n",
    "            rowend = A.indptr[i+1]\n",
    "            Aix = A.data[rowstart:rowend] @ xcopy[A.indices[rowstart:rowend]]\n",
    "\n",
    "\n",
    "            xnext[i] = xcopy[i]+(b[i] - Aix)/A[i,i]\n",
    "        \n",
    "        dist = la.norm(xcopy-xnext, np.inf)\n",
    "        dist_list = np.append(dist_list,dist)\n",
    "        x = xnext \n",
    "        k=+1\n",
    "\n",
    "    \n",
    "    if k==maxiters:\n",
    "        print(\"The algorithm did not converge\")\n",
    "        \n",
    "    else: \n",
    "        return x"
   ]
  },
  {
   "cell_type": "code",
   "execution_count": 65,
   "metadata": {},
   "outputs": [
    {
     "data": {
      "text/plain": [
       "array([0.0017464 , 0.00118228, 0.00215158, ..., 0.00186911, 0.00102731,\n",
       "       0.00053425])"
      ]
     },
     "execution_count": 65,
     "metadata": {},
     "output_type": "execute_result"
    }
   ],
   "source": [
    "from scipy import sparse\n",
    "A = sparse.csr_matrix(diag_dom(50000))\n",
    "b = np.random.random(50000)\n",
    "\n",
    "gs_sparse(A,b)"
   ]
  },
  {
   "cell_type": "markdown",
   "metadata": {},
   "source": [
    "## Problem 5"
   ]
  },
  {
   "cell_type": "code",
   "execution_count": 144,
   "metadata": {},
   "outputs": [],
   "source": [
    "from numpy import linalg as LA"
   ]
  },
  {
   "cell_type": "code",
   "execution_count": 146,
   "metadata": {},
   "outputs": [],
   "source": [
    "def gs_relax(A,b,ω,tol=1e-12, maxiters=500):\n",
    "    \n",
    "    dist = 10\n",
    "    k=0 #k is number of iterations\n",
    "    x=np.zeros(np.shape(A)[0])\n",
    "    \n",
    "    dist_list = []\n",
    "    xnext=np.zeros_like(x)\n",
    "    while k<maxiters and dist>tol:\n",
    "        \n",
    "        xcopy=x.copy()\n",
    "        for i in range(len(x)):\n",
    "            rowstart = A.indptr[i]\n",
    "            rowend = A.indptr[i+1]\n",
    "            Aix = A.data[rowstart:rowend] @ xcopy[A.indices[rowstart:rowend]]\n",
    "\n",
    "            xnext[i] = xcopy[i]+ ω*(b[i] - Aix)/A[i,i]\n",
    "        \n",
    "        dist = LA.norm(xcopy-xnext)\n",
    "        dist_list = np.append(dist_list,dist)\n",
    "        x = xnext \n",
    "        k=+1\n",
    "\n",
    "    \n",
    "    if k==maxiters:\n",
    "        print(\"The algorithm did not converge\")\n",
    "        \n",
    "    else: \n",
    "        return x, k"
   ]
  },
  {
   "cell_type": "markdown",
   "metadata": {},
   "source": [
    "## Problem 6"
   ]
  },
  {
   "cell_type": "code",
   "execution_count": 147,
   "metadata": {},
   "outputs": [],
   "source": [
    "def p6(n,ω,tol=1e-8,maxiters=100,plot=False):\n",
    "    \n",
    "    #Create B\n",
    "    ones = np.ones(n-1)\n",
    "    fours = -4*np.ones(n)\n",
    "    B = np.diag(fours)\n",
    "    np.fill_diagonal(B[1:], ones)\n",
    "    np.fill_diagonal(B[:, 1:], ones)\n",
    "    \n",
    "    #Create A\n",
    "    I = np.eye(n)\n",
    "    BB = np.eye(n)\n",
    "    II = np.zeros((n, n))\n",
    "    np.fill_diagonal(II[1:], ones)\n",
    "    np.fill_diagonal(II[:, 1:], ones)\n",
    "    A = np.kron(II, I) + np.kron(BB, B)\n",
    "    A_use = sparse.csr_matrix(A)\n",
    "    \n",
    "    #Create b\n",
    "    b_tile = np.zeros(n)\n",
    "    b_tile[0] = -100\n",
    "    b_tile[n-1] = -100\n",
    "    b = np.tile(b_tile, n)\n",
    "    \n",
    "    x_k, iters = gs_relax(A_use, b, ω, tol, maxiters)\n",
    "    \n",
    "    if plot == True:\n",
    "        x_grid = np.reshape(x_k, (n,n))\n",
    "        plt.pcolormesh(np.linspace(0, n, n+1), np.linspace(0, n, n+1), x_grid, cmap='coolwarm')\n",
    "        plt.show()\n",
    "        \n",
    "    return iters\n",
    "  "
   ]
  },
  {
   "cell_type": "code",
   "execution_count": 148,
   "metadata": {},
   "outputs": [
    {
     "data": {
      "image/png": "[encoded data removed]",
      "text/plain": [
       "<Figure size 432x288 with 1 Axes>"
      ]
     },
     "metadata": {},
     "output_type": "display_data"
    },
    {
     "data": {
      "text/plain": [
       "1"
      ]
     },
     "execution_count": 148,
     "metadata": {},
     "output_type": "execute_result"
    }
   ],
   "source": [
    "p6(10,1,plot=True)"
   ]
  },
  {
   "cell_type": "markdown",
   "metadata": {},
   "source": [
    "## Problem 7"
   ]
  },
  {
   "cell_type": "code",
   "execution_count": 149,
   "metadata": {},
   "outputs": [],
   "source": [
    "def p7(n):\n",
    "\n",
    "    ω_grid = np.arange(1,2,.05)\n",
    "    \n",
    "    iters_vec = np.zeros(len(ω_grid))\n",
    "    \n",
    "    for i in range(20):\n",
    "        iters_vec[i] = p6(n,ω_grid[i],1e-2, 1000)\n",
    "       \n",
    "        \n",
    "    plt.plot(np.linspace(1,1.95,len(iters_vec)), iters_vec)\n",
    "    plt.xlabel(\"ω\")\n",
    "    plt.ylabel(\"iterations\")\n",
    "    \n",
    "    min_iter = np.min(iters_vec)\n",
    "    \n",
    "    return min_iter\n",
    "    "
   ]
  },
  {
   "cell_type": "code",
   "execution_count": 150,
   "metadata": {},
   "outputs": [
    {
     "name": "stderr",
     "output_type": "stream",
     "text": [
      "/anaconda3/lib/python3.6/site-packages/ipykernel_launcher.py:17: RuntimeWarning: overflow encountered in double_scalars\n",
      "/anaconda3/lib/python3.6/site-packages/ipykernel_launcher.py:17: RuntimeWarning: invalid value encountered in double_scalars\n"
     ]
    },
    {
     "data": {
      "text/plain": [
       "1.0"
      ]
     },
     "execution_count": 150,
     "metadata": {},
     "output_type": "execute_result"
    },
    {
     "data": {
      "image/png": "[encoded data removed]",
      "text/plain": [
       "<Figure size 432x288 with 1 Axes>"
      ]
     },
     "metadata": {},
     "output_type": "display_data"
    }
   ],
   "source": [
    "p7(3)"
   ]
  },
  {
   "cell_type": "code",
   "execution_count": 152,
   "metadata": {},
   "outputs": [
    {
     "name": "stderr",
     "output_type": "stream",
     "text": [
      "/anaconda3/lib/python3.6/site-packages/ipykernel_launcher.py:17: RuntimeWarning: overflow encountered in double_scalars\n",
      "/anaconda3/lib/python3.6/site-packages/ipykernel_launcher.py:17: RuntimeWarning: invalid value encountered in double_scalars\n"
     ]
    },
    {
     "data": {
      "text/plain": [
       "1.0"
      ]
     },
     "execution_count": 152,
     "metadata": {},
     "output_type": "execute_result"
    },
    {
     "data": {
      "image/png": "[encoded data removed]",
      "text/plain": [
       "<Figure size 432x288 with 1 Axes>"
      ]
     },
     "metadata": {},
     "output_type": "display_data"
    }
   ],
   "source": [
    "p7(20)"
   ]
  },
  {
   "cell_type": "code",
   "execution_count": 153,
   "metadata": {},
   "outputs": [
    {
     "name": "stderr",
     "output_type": "stream",
     "text": [
      "/anaconda3/lib/python3.6/site-packages/ipykernel_launcher.py:17: RuntimeWarning: overflow encountered in double_scalars\n",
      "/anaconda3/lib/python3.6/site-packages/ipykernel_launcher.py:17: RuntimeWarning: invalid value encountered in double_scalars\n"
     ]
    },
    {
     "data": {
      "image/png": "[encoded data removed]",
      "text/plain": [
       "<Figure size 432x288 with 1 Axes>"
      ]
     },
     "metadata": {},
     "output_type": "display_data"
    }
   ],
   "source": [
    "w_7 = np.linspace(1, 1.95, 20)\n",
    "iterations = np.zeros(20)\n",
    "for i in range(20):\n",
    "    iterations[i] = p6(20, w_7[i], tol=1e-2, maxiters = 1000, plot=False)\n",
    "\n",
    "plt.plot(w_7, iterations)\n",
    "plt.show()"
   ]
  },
  {
   "cell_type": "code",
   "execution_count": null,
   "metadata": {},
   "outputs": [],
   "source": []
  }
 ],
 "metadata": {
  "kernelspec": {
   "display_name": "Python 3",
   "language": "python",
   "name": "python3"
  },
  "language_info": {
   "codemirror_mode": {
    "name": "ipython",
    "version": 3
   },
   "file_extension": ".py",
   "mimetype": "text/x-python",
   "name": "python",
   "nbconvert_exporter": "python",
   "pygments_lexer": "ipython3",
   "version": "3.6.5"
  }
 },
 "nbformat": 4,
 "nbformat_minor": 2
}
