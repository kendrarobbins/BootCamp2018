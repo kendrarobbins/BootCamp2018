{
 "cells": [
  {
   "cell_type": "markdown",
   "metadata": {},
   "source": [
    "Kendra Robbins \n",
    "\n",
    "Nonlinear Optimization \n",
    "\n",
    "Week 6 homework - Python problems "
   ]
  },
  {
   "cell_type": "code",
   "execution_count": 1,
   "metadata": {},
   "outputs": [],
   "source": [
    "import numpy as np\n",
    "from scipy import linalg as la "
   ]
  },
  {
   "cell_type": "markdown",
   "metadata": {},
   "source": [
    "# 9.6"
   ]
  },
  {
   "cell_type": "code",
   "execution_count": 12,
   "metadata": {},
   "outputs": [],
   "source": [
    "def steepdescent(Q,b,c,x0,tol=1e-8,maxiters=100):\n",
    "    \n",
    "    '''this function computes the steepest descent method for a \n",
    "    quadratic function of the form 1/2 x^T Q x - b^T x + c\n",
    "    x0 is an initial guess of the minimum'''\n",
    "    \n",
    "    Df = lambda x: Q@x - b \n",
    "    \n",
    "    it=0 #iterations\n",
    "    dist =10 #distance\n",
    "    xk=x0\n",
    "    \n",
    "    while dist>tol and it<maxiters:\n",
    "        α = Df(xk)@Df(xk).T / (Df(xk)@Q@Df(xk).T)\n",
    "        xkp1 = xk - α*Df(xk).T\n",
    "        \n",
    "        dist = la.norm(Df(xkp1))\n",
    "        xk = xkp1\n",
    "        it=+1\n",
    "        \n",
    "    if it==maxiters:\n",
    "        print(\"The algorithm did not converge\")\n",
    "      \n",
    "    else:\n",
    "        func_min = .5 * (xk.T @ Q @ xk) - b.T @ xk + c\n",
    "        \n",
    "        return xk, func_min \n",
    "    "
   ]
  },
  {
   "cell_type": "code",
   "execution_count": 13,
   "metadata": {},
   "outputs": [
    {
     "data": {
      "text/plain": [
       "(array([-0.83333333,  1.33333333]), -0.49999999989681543)"
      ]
     },
     "execution_count": 13,
     "metadata": {},
     "output_type": "execute_result"
    }
   ],
   "source": [
    "#test\n",
    "Q = np.array([[4, 1],[2,2]])\n",
    "b = np.array([-2, 1])\n",
    "c = 1\n",
    "x0 = np.array([10, 10])\n",
    "\n",
    "\n",
    "steepdescent(Q,b,c,x0)"
   ]
  },
  {
   "cell_type": "markdown",
   "metadata": {},
   "source": [
    "# 9.7"
   ]
  },
  {
   "cell_type": "code",
   "execution_count": 14,
   "metadata": {},
   "outputs": [],
   "source": [
    "#what is Rerr"
   ]
  },
  {
   "cell_type": "code",
   "execution_count": null,
   "metadata": {},
   "outputs": [],
   "source": []
  }
 ],
 "metadata": {
  "kernelspec": {
   "display_name": "Python 3",
   "language": "python",
   "name": "python3"
  },
  "language_info": {
   "codemirror_mode": {
    "name": "ipython",
    "version": 3
   },
   "file_extension": ".py",
   "mimetype": "text/x-python",
   "name": "python",
   "nbconvert_exporter": "python",
   "pygments_lexer": "ipython3",
   "version": "3.6.5"
  }
 },
 "nbformat": 4,
 "nbformat_minor": 2
}
