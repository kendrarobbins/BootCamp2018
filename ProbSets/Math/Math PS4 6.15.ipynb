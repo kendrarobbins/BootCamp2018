{
 "cells": [
  {
   "cell_type": "markdown",
   "metadata": {},
   "source": [
    "Math Probset 4\n",
    "\n",
    "Kendra Robbins"
   ]
  },
  {
   "cell_type": "markdown",
   "metadata": {},
   "source": [
    "Problem 6.15"
   ]
  },
  {
   "cell_type": "code",
   "execution_count": 49,
   "metadata": {},
   "outputs": [],
   "source": [
    "import numpy as np\n",
    "import matplotlib.pyplot as plt"
   ]
  },
  {
   "cell_type": "code",
   "execution_count": 41,
   "metadata": {},
   "outputs": [],
   "source": [
    "def fprime(f, x, ϵ=1e-9):\n",
    "    fprime = (f(x)-f(x+ϵ))/ϵ\n",
    "    return fprime\n",
    "\n",
    "def secmethod(x0, x1, ϵ=1e-9):\n",
    "    \n",
    " \n",
    "    max_iter = 500\n",
    "    dist = ϵ + 1\n",
    "    i = 0\n",
    "    xvec =[x0, x1]\n",
    "    converged = True\n",
    "    \n",
    "    while i < max_iter and dist > ϵ:\n",
    "        print(fprime(f,x0))\n",
    "        x = x1 - fprime(f, x1) * (x1 - x0) / ( fprime(f,x1) - fprime(f,x0) )\n",
    "        x0 = x1\n",
    "        x1 = x\n",
    "        xvec.append(x1)\n",
    "        dist = abs(x1 - x0) / abs(x0)\n",
    "        i += 1\n",
    "    \n",
    "    if i == max_iter:\n",
    "        converged = False\n",
    "        \n",
    "    return xvec, converged\n",
    "    \n",
    "    "
   ]
  },
  {
   "cell_type": "code",
   "execution_count": 42,
   "metadata": {},
   "outputs": [],
   "source": [
    "def f(x):\n",
    "    \n",
    "    f = x**4-14*x**3+60*x**2-70*x\n",
    "    return f"
   ]
  },
  {
   "cell_type": "code",
   "execution_count": 56,
   "metadata": {},
   "outputs": [
    {
     "name": "stdout",
     "output_type": "stream",
     "text": [
      "-12.00000809831181\n",
      "-34.00000991859997\n",
      "23.756602018920603\n",
      "-16.089536813979066\n",
      "-3.160394612677919\n",
      "0.6257572238155262\n",
      "-0.017632117987886886\n",
      "-9.947598300641403e-05\n",
      "3.5527136788005005e-06\n",
      "-3.5527136788005005e-06\n",
      "7.105427357601001e-06\n",
      "-3.5527136788005005e-06\n"
     ]
    },
    {
     "data": {
      "text/plain": [
       "<function matplotlib.pyplot.show(*args, **kw)>"
      ]
     },
     "execution_count": 56,
     "metadata": {},
     "output_type": "execute_result"
    },
    {
     "data": {
      "image/png": "[encoded data removed]",
      "text/plain": [
       "<Figure size 432x288 with 1 Axes>"
      ]
     },
     "metadata": {},
     "output_type": "display_data"
    }
   ],
   "source": [
    "xvec, converged = secmethod(1,2)\n",
    "X = np.array([xvec])\n",
    "fx = f(X)\n",
    "D = np.linspace(0,2,100)\n",
    "fD = f(D)\n",
    "\n",
    "plt.plot(X, fx, \"o\")\n",
    "plt.plot(D,fD)\n",
    "\n",
    "plt.show"
   ]
  },
  {
   "cell_type": "code",
   "execution_count": 60,
   "metadata": {},
   "outputs": [
    {
     "name": "stdout",
     "output_type": "stream",
     "text": [
      "69.99999994\n",
      "-12.00000809831181\n",
      "-4.320597213336441\n",
      "0.593082916111598\n",
      "-0.023295143591894885\n",
      "-0.00011368683772161602\n",
      "-3.5527136788005005e-06\n",
      "3.5527136788005005e-06\n"
     ]
    },
    {
     "data": {
      "text/plain": [
       "<function matplotlib.pyplot.show(*args, **kw)>"
      ]
     },
     "execution_count": 60,
     "metadata": {},
     "output_type": "execute_result"
    },
    {
     "data": {
      "image/png": "[encoded data removed]",
      "text/plain": [
       "<Figure size 432x288 with 1 Axes>"
      ]
     },
     "metadata": {},
     "output_type": "display_data"
    }
   ],
   "source": [
    "xvec, converged = secmethod(0,1)\n",
    "X = np.array([xvec])\n",
    "fx = f(X)\n",
    "D = np.linspace(0,2,100)\n",
    "fD = f(D)\n",
    "\n",
    "plt.plot(X, fx, \"o\")\n",
    "plt.plot(D,fD)\n",
    "\n",
    "plt.show"
   ]
  },
  {
   "cell_type": "code",
   "execution_count": null,
   "metadata": {},
   "outputs": [],
   "source": []
  }
 ],
 "metadata": {
  "kernelspec": {
   "display_name": "Python 3",
   "language": "python",
   "name": "python3"
  },
  "language_info": {
   "codemirror_mode": {
    "name": "ipython",
    "version": 3
   },
   "file_extension": ".py",
   "mimetype": "text/x-python",
   "name": "python",
   "nbconvert_exporter": "python",
   "pygments_lexer": "ipython3",
   "version": "3.6.5"
  }
 },
 "nbformat": 4,
 "nbformat_minor": 2
}
