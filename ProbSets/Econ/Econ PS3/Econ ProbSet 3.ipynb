{
 "cells": [
  {
   "cell_type": "markdown",
   "metadata": {},
   "source": [
    "Econ Probset 3\n",
    "\n",
    "Overlapping Generations Models\n",
    "\n",
    "Rick Evans\n",
    "\n",
    "Kendra Robbins "
   ]
  },
  {
   "cell_type": "code",
   "execution_count": 16,
   "metadata": {},
   "outputs": [],
   "source": [
    "import numpy as np"
   ]
  },
  {
   "cell_type": "markdown",
   "metadata": {},
   "source": [
    "## Exercise 2.1"
   ]
  },
  {
   "cell_type": "code",
   "execution_count": 17,
   "metadata": {},
   "outputs": [],
   "source": [
    "nvec = np.array([1,1,.2])\n",
    "A=1\n",
    "alpha = .35\n",
    "delta = .05\n",
    "beta = .96\n",
    "sigma = 3"
   ]
  },
  {
   "cell_type": "code",
   "execution_count": 34,
   "metadata": {},
   "outputs": [],
   "source": [
    "f_params = (nvec, A, alpha, delta) \n",
    "\n",
    "def feasible(f_params, bvec_guess): \n",
    "\n",
    "    nvec, A, alpha, delta = f_params\n",
    "    \n",
    "    K_cnstr = False \n",
    "    c_cnstr = [False, False, False] \n",
    "    b_cnstr = [False, False] \n",
    "\n",
    "\n",
    "    K = bvec_guess.sum()  \n",
    "    L = nvec.sum() \n",
    "    \n",
    "    w = (1-alpha)*A*(K/L)**alpha #equilibrium wage, equation 2.25\n",
    "    r = alpha*A*(L/K)**(1-alpha)-delta #equilibrium interest rate, 2.26\n",
    "      \n",
    "        \n",
    "    \n",
    "    #using equations 2.3, 2.4, 2.5:\n",
    "    c_vec = np.zeros((3,1))\n",
    "    c_vec[0] = w*nvec[0] - bvec_guess[0]\n",
    "    c_vec[1] = w*nvec[1] + (1+r)*bvec_guess[0] - bvec_guess[1]\n",
    "    c_vec[2] = w*nvec[2] + (1+r)*bvec_guess[1]\n",
    "\n",
    "\n",
    "    \n",
    "    if K<=0:\n",
    "        K_cnstr = True\n",
    "        print(\"Capital is not positive\")\n",
    "        \n",
    "    #update c_cnstr:\n",
    "    if c_vec[0]<=0:\n",
    "        c_cnstr[0] = True\n",
    "    if c_vec[1]<=0:\n",
    "        c_cnstr[1]=True\n",
    "    if c_vec[2]<=0:\n",
    "        c_cnstr[2]=True \n",
    "        \n",
    "        \n",
    "    #update b_cnstr:\n",
    "    if c_cnstr[0] == True:\n",
    "        b_cnstr[0] = True\n",
    "    if c_cnstr[1]==True:\n",
    "        b_cnstr[0] = True\n",
    "        b_cnstr[1] = True\n",
    "    if c_cnstr[2] == True:\n",
    "        b_cnstr[1]=True\n",
    "        \n",
    "        \n",
    "        \n",
    "    return b_cnstr, c_cnstr, K_cnstr"
   ]
  },
  {
   "cell_type": "code",
   "execution_count": null,
   "metadata": {},
   "outputs": [],
   "source": []
  },
  {
   "cell_type": "code",
   "execution_count": 24,
   "metadata": {},
   "outputs": [
    {
     "data": {
      "text/plain": [
       "([True, False], [True, False, False], False)"
      ]
     },
     "execution_count": 24,
     "metadata": {},
     "output_type": "execute_result"
    }
   ],
   "source": [
    "#a:\n",
    "\n",
    "bvec_guess = np.array([1,1.2])\n",
    "feasible(f_params, bvec_guess)\n"
   ]
  },
  {
   "cell_type": "code",
   "execution_count": 31,
   "metadata": {},
   "outputs": [
    {
     "data": {
      "text/plain": [
       "([False, False], [False, False, False], False)"
      ]
     },
     "execution_count": 31,
     "metadata": {},
     "output_type": "execute_result"
    }
   ],
   "source": [
    "#b:\n",
    "bvec_guess = np.array([.06,-.001])\n",
    "feasible(f_params, bvec_guess)"
   ]
  },
  {
   "cell_type": "code",
   "execution_count": 30,
   "metadata": {},
   "outputs": [
    {
     "data": {
      "text/plain": [
       "([False, False], [False, False, False], False)"
      ]
     },
     "execution_count": 30,
     "metadata": {},
     "output_type": "execute_result"
    }
   ],
   "source": [
    "#c:\n",
    "bvec_guess = np.array([.1,.1])\n",
    "feasible(f_params, bvec_guess)"
   ]
  },
  {
   "cell_type": "markdown",
   "metadata": {},
   "source": [
    "For a, the constraint that c1 must be positive is violated. \n",
    "\n",
    "For b and c, no constraints are violated. "
   ]
  },
  {
   "cell_type": "code",
   "execution_count": 35,
   "metadata": {},
   "outputs": [],
   "source": [
    "a=np.array([.01,.02])\n",
    "b = np.array([.07,.1])\n",
    "c = np.array([.04,.001])"
   ]
  },
  {
   "cell_type": "code",
   "execution_count": 36,
   "metadata": {},
   "outputs": [
    {
     "data": {
      "text/plain": [
       "([False, False], [False, False, False], False)"
      ]
     },
     "execution_count": 36,
     "metadata": {},
     "output_type": "execute_result"
    }
   ],
   "source": [
    "feasible(f_params,a)"
   ]
  },
  {
   "cell_type": "code",
   "execution_count": 37,
   "metadata": {},
   "outputs": [
    {
     "data": {
      "text/plain": [
       "([False, False], [False, False, False], False)"
      ]
     },
     "execution_count": 37,
     "metadata": {},
     "output_type": "execute_result"
    }
   ],
   "source": [
    "feasible(f_params,b)"
   ]
  },
  {
   "cell_type": "code",
   "execution_count": 38,
   "metadata": {},
   "outputs": [
    {
     "data": {
      "text/plain": [
       "([False, False], [False, False, False], False)"
      ]
     },
     "execution_count": 38,
     "metadata": {},
     "output_type": "execute_result"
    }
   ],
   "source": [
    "feasible(f_params,c)"
   ]
  },
  {
   "cell_type": "code",
   "execution_count": null,
   "metadata": {},
   "outputs": [],
   "source": []
  },
  {
   "cell_type": "markdown",
   "metadata": {},
   "source": [
    "## Exercise 2.2"
   ]
  },
  {
   "cell_type": "code",
   "execution_count": 4,
   "metadata": {},
   "outputs": [],
   "source": [
    "import time\n",
    "import scipy.optimize as opt\n",
    "from matplotlib import pyplot as plt"
   ]
  },
  {
   "cell_type": "code",
   "execution_count": 20,
   "metadata": {},
   "outputs": [],
   "source": [
    "beta = 0.442\n",
    "delta = 0.6415\n",
    "sigma = 3\n",
    "A = 1\n",
    "alpha = 0.35\n",
    "L = 2.2\n",
    "\n",
    "f_params_21 = (L, A, alpha, delta)\n",
    "eul_args_22 = (beta, sigma, L, A, alpha, delta)"
   ]
  },
  {
   "cell_type": "code",
   "execution_count": 42,
   "metadata": {},
   "outputs": [],
   "source": [
    "def Eul_error(bvec_guess, eul_params):\n",
    "    \n",
    "    beta, sigma, L, A, alpha, delta = eul_params\n",
    "    \n",
    "    K = bvec_guess.sum()  \n",
    "    L = 2.2 \n",
    "    \n",
    "    w = (1-alpha)*A*(K/L)**alpha #equilibrium wage, equation 2.25\n",
    "    r = alpha*A*(L/K)**(1-alpha)-delta #equilibrium interest rate, 2.26\n",
    "      \n",
    "        \n",
    "    \n",
    "    #using budget constraint equations 2.3, 2.4, 2.5:\n",
    "    c1 = w - bvec_guess[0]\n",
    "    c2 = w + (1+r)*bvec_guess[0] - bvec_guess[1]\n",
    "    c3 = .2*w + (1+r)*bvec_guess[1]\n",
    "\n",
    "    \n",
    "    if c1 <= 1e-6:\n",
    "        Uprime1 = 1e8\n",
    "    else:\n",
    "        Uprime1 = c1**(-sigma)\n",
    "    \n",
    "    if c2 <= 1e-6:\n",
    "        Uprime2 = 1e8\n",
    "    else:\n",
    "        Uprime2 = c2**(-sigma)\n",
    "        \n",
    "    if c3 <= 1e-6:\n",
    "        Uprime3 = 1e8\n",
    "    else:\n",
    "        Uprime3 = c3**(-sigma)\n",
    "\n",
    "    eul_errors = np.zeros(2)\n",
    "    eul_errors[0] = beta*(1+r)*Uprime2 - Uprime1\n",
    "    eul_errors[1] = beta*(1+r)*Uprime3 - Uprime2\n",
    "    \n",
    "    return eul_errors "
   ]
  },
  {
   "cell_type": "code",
   "execution_count": 56,
   "metadata": {},
   "outputs": [],
   "source": [
    "def get_SS(params, bvec_guess, SS_graphs=False):\n",
    "    \n",
    "    start_time = time.clock()\n",
    "    \n",
    "    beta, sigma, L, A, alpha, delta, ss_tol = params\n",
    "    eul_args = beta, sigma, 2.2, A, alpha, delta \n",
    "    \n",
    "    root = opt.root(Eul_error, bvec_guess, [beta, sigma, L, A, alpha, delta], tol=ss_tol)\n",
    "    \n",
    "    bvec = root.x\n",
    "    b_ss = bvec\n",
    "    \n",
    "    K_ss = b_ss.sum()\n",
    "    w_ss = (1-alpha)*A*(K_ss/2.2)**alpha\n",
    "    r_ss = alpha*A*(2.2/K_ss)**(1-alpha)-delta\n",
    "    \n",
    "    c_ss = np.zeros(3)\n",
    "    \n",
    "    c_ss[0] = w_ss - b_ss[0]\n",
    "    c_ss[1] = w_ss + (1+r_ss)*b_ss[0] - b_ss[1]\n",
    "    c_ss[2] = .2*w_ss + (1+r_ss)*b_ss[1]\n",
    "    \n",
    "    C_ss = c_ss.sum()\n",
    "    Y_ss = A*(K_ss**alpha)*L**(1-alpha)\n",
    "    \n",
    "    EulErr_ss = Eul_error(bvec, (beta, sigma, L, A, alpha, delta))\n",
    "    \n",
    "    RCerr_ss = Y_ss - C_ss - delta * K_ss\n",
    "    \n",
    "    if SS_graphs == True:\n",
    "        plt.bar(['c1', 'c2', 'c3'], c_ss)\n",
    "        plt.xlabel(\"age\")\n",
    "        plt.ylabel('consumption')\n",
    "        plt.show()\n",
    "        \n",
    "    if SS_graphs == True:\n",
    "        plt.bar(['b2', 'b3'], b_ss)\n",
    "        plt.xlabel(\"period\")\n",
    "        plt.ylabel('savings')\n",
    "        plt.show()\n",
    "        \n",
    "    ss_time = time.clock() - start_time \n",
    "    ss_output = {'b_ss': b_ss, 'c_ss': c_ss, 'w_ss': w_ss, 'r_ss': r_ss, \n",
    "                 'K_ss': K_ss, 'Y_ss': Y_ss, 'C_ss': C_ss,\n",
    "                 'EulErr_ss': EulErr_ss, 'RCerr_ss': RCerr_ss,\n",
    "                 'ss_time': ss_time}\n",
    "    \n",
    "    \n",
    "    return ss_output "
   ]
  },
  {
   "cell_type": "markdown",
   "metadata": {},
   "source": [
    "2.2 a & b:"
   ]
  },
  {
   "cell_type": "code",
   "execution_count": 57,
   "metadata": {},
   "outputs": [
    {
     "data": {
      "image/png": "[encoded data removed]",
      "text/plain": [
       "<Figure size 432x288 with 1 Axes>"
      ]
     },
     "metadata": {},
     "output_type": "display_data"
    },
    {
     "data": {
      "image/png": "[encoded data removed]",
      "text/plain": [
       "<Figure size 432x288 with 1 Axes>"
      ]
     },
     "metadata": {},
     "output_type": "display_data"
    },
    {
     "data": {
      "text/plain": [
       "{'b_ss': array([0.01931253, 0.0584111 ]),\n",
       " 'c_ss': array([0.18241213, 0.20961468, 0.24087387]),\n",
       " 'w_ss': 0.20172465936076353,\n",
       " 'r_ss': 2.433062283358659,\n",
       " 'K_ss': 0.0777236279220895,\n",
       " 'Y_ss': 0.6827603855287382,\n",
       " 'C_ss': 0.6329006782167177,\n",
       " 'EulErr_ss': array([ 4.50781670e-06, -8.92472291e-06]),\n",
       " 'RCerr_ss': 8.326672684688674e-17,\n",
       " 'ss_time': 0.16841099999999987}"
      ]
     },
     "execution_count": 57,
     "metadata": {},
     "output_type": "execute_result"
    }
   ],
   "source": [
    "params = beta, sigma, 2.2, A, alpha, delta, 0.00001\n",
    "get_SS(params, [.1,.1],SS_graphs=True)"
   ]
  },
  {
   "cell_type": "markdown",
   "metadata": {},
   "source": [
    "2.2 c:\n",
    "\n",
    "Savings increases and consumption in period 3 increases."
   ]
  },
  {
   "cell_type": "code",
   "execution_count": 58,
   "metadata": {},
   "outputs": [
    {
     "data": {
      "image/png": "[encoded data removed]",
      "text/plain": [
       "<Figure size 432x288 with 1 Axes>"
      ]
     },
     "metadata": {},
     "output_type": "display_data"
    },
    {
     "data": {
      "image/png": "[encoded data removed]",
      "text/plain": [
       "<Figure size 432x288 with 1 Axes>"
      ]
     },
     "metadata": {},
     "output_type": "display_data"
    },
    {
     "data": {
      "text/plain": [
       "{'b_ss': array([0.10461281, 0.23277231]),\n",
       " 'c_ss': array([0.23260421, 0.26581261, 0.42650055]),\n",
       " 'w_ss': 0.3372170233087267,\n",
       " 'r_ss': 0.5425251808594584,\n",
       " 'K_ss': 0.3373851166541525,\n",
       " 'Y_ss': 1.1413499250449213,\n",
       " 'C_ss': 0.9249173727112824,\n",
       " 'EulErr_ss': array([-79.4592382 , -53.24418698]),\n",
       " 'RCerr_ss': 8.326672684688674e-17,\n",
       " 'ss_time': 0.17009200000000035}"
      ]
     },
     "execution_count": 58,
     "metadata": {},
     "output_type": "execute_result"
    }
   ],
   "source": [
    "params = .55**20, sigma, 2.2, A, alpha, delta, 0.00001\n",
    "get_SS(params, [.1,.1],SS_graphs=True)"
   ]
  },
  {
   "cell_type": "markdown",
   "metadata": {},
   "source": [
    "## Exercise 2.3"
   ]
  },
  {
   "cell_type": "code",
   "execution_count": 71,
   "metadata": {},
   "outputs": [],
   "source": [
    "T = 20\n",
    "path_toler = 1e-9\n",
    "xi = 0.2\n",
    "L = 2.2\n",
    "A = 1\n",
    "beta = 0.442\n",
    "delta = 0.6415\n",
    "sigma = 3\n",
    "A = 1\n",
    "alpha = 0.35\n",
    "n_vec = np.array([1.0, 1.0, 0.2])\n",
    "ss_tol = 1e-9"
   ]
  },
  {
   "cell_type": "code",
   "execution_count": 72,
   "metadata": {},
   "outputs": [],
   "source": [
    "params = beta, sigma, L, A, alpha, delta, ss_tol \n",
    "bvec_guess = np.array([.1,.1])\n",
    "\n",
    "output_ss = get_SS(params, bvec_guess)\n",
    "b2bar = output_ss['b_ss'][0]\n",
    "b3bar = output_ss['b_ss'][1]\n",
    "b_ss = np.array([b2bar, b3bar])\n",
    "\n",
    "bvec_initial = np.zeros(2)\n",
    "b21 =.8*b2bar\n",
    "b31 = 1.1*b3bar\n",
    "bvec_initial[0] = b21\n",
    "bvec_initial[1] = b31\n"
   ]
  },
  {
   "cell_type": "markdown",
   "metadata": {},
   "source": [
    "K path"
   ]
  },
  {
   "cell_type": "code",
   "execution_count": 130,
   "metadata": {},
   "outputs": [],
   "source": [
    "Kbar = b2bar + b3bar\n",
    "K1 = b21 + b31\n",
    "Kpath = np.linspace(K1, Kbar, T)\n",
    "Kpath = np.append(Kpath, Kbar)\n"
   ]
  },
  {
   "cell_type": "markdown",
   "metadata": {},
   "source": [
    "w path and r path:"
   ]
  },
  {
   "cell_type": "code",
   "execution_count": 131,
   "metadata": {},
   "outputs": [],
   "source": [
    "def get_rw_paths(T, Kpath, Kbar, rw_params):\n",
    "\n",
    "    A, alpha, delta = rw_params \n",
    "\n",
    "    rpath = np.zeros(T)\n",
    "    wpath = np.zeros(T)\n",
    "\n",
    "    for i in range(T):\n",
    "        wpath[i] = (1-alpha)*A*(Kpath[i]/2.2)**alpha\n",
    "        rpath[i] = alpha*A*(2.2/Kpath[i])**(1-alpha)-delta\n",
    "    \n",
    "    wbar = (1-alpha)*A*(Kbar/2.2)**alpha\n",
    "    rbar = alpha*A*(2.2/Kbar)**(1-alpha)-delta\n",
    "    \n",
    "    rpath = np.append(rpath, rbar)\n",
    "    wpath = np.append(wpath, wbar)\n",
    "    \n",
    "    return rpath, wpath "
   ]
  },
  {
   "cell_type": "markdown",
   "metadata": {},
   "source": [
    "b32 Euler error:"
   ]
  },
  {
   "cell_type": "code",
   "execution_count": 207,
   "metadata": {},
   "outputs": [],
   "source": [
    "def b32_eulererror(b32, b32_params): \n",
    "    \n",
    "    b21, b22, rpath, wpath, params = b32_params \n",
    "\n",
    "    \n",
    "    # using equation 2.31:\n",
    "    c1 = (1 + rpath[0]) * b21 + wpath[0] - b32\n",
    "    \n",
    "    if c1 <= 1e-6:\n",
    "        Uprime1 = 1e8\n",
    "    else:\n",
    "        Uprime1 = c1**(-sigma)\n",
    "    \n",
    "    c2 = (1 + rpath[1]) * b32 + .2*wpath[1]\n",
    "    \n",
    "    if c2 <= 1e-6:\n",
    "        Uprime2 = 1e8\n",
    "    else:\n",
    "        Uprime2 = c2**(-sigma)\n",
    "        \n",
    "    \n",
    "    eulererror = Uprime1  - beta*(1+rpath[1])*Uprime2\n",
    "     \n",
    "    \n",
    "    return eulererror \n",
    "  \n",
    "    "
   ]
  },
  {
   "cell_type": "markdown",
   "metadata": {},
   "source": [
    "solve for b32:"
   ]
  },
  {
   "cell_type": "code",
   "execution_count": 211,
   "metadata": {},
   "outputs": [],
   "source": [
    "def get_b32(b21, b22, rpath, wpath, params, bvec_initial):\n",
    "        \n",
    "    b32_params = [b21, b22, rpath, wpath, params]    \n",
    "    result = opt.root(b32_eulererror, \n",
    "                      bvec_initial[0], \n",
    "                      args = b32_params,\n",
    "                      tol = 1e-9)\n",
    "    b32 = result.x\n",
    "    b32_EulErrs = result.fun\n",
    "    \n",
    "    return np.array([b32, b32_EulErrs])"
   ]
  },
  {
   "cell_type": "markdown",
   "metadata": {},
   "source": [
    "Euler errors for b2t and b3t+1"
   ]
  },
  {
   "cell_type": "code",
   "execution_count": 176,
   "metadata": {},
   "outputs": [],
   "source": [
    "def b_EulErr(b, b_params):\n",
    "    \n",
    "    t, rpath, wpath, params = b_params\n",
    "    \n",
    "    b2 = b[0]\n",
    "    b3 = b[1]\n",
    "    t = b_params[0]\n",
    "    rpath  = b_params[1]\n",
    "    wpath  = b_params[2]\n",
    "    params = b_params[3]\n",
    "    \n",
    "    \n",
    "    c21 = wpath[t] - b2\n",
    "    c22 = (1 + rpath[t+1]) * b[0] + wpath[t+1] - b3\n",
    "\n",
    "\n",
    "    if c21 <= 1e-6:\n",
    "        Uprime21 = 1e8\n",
    "    else:\n",
    "        Uprime21 = c21**(-sigma)\n",
    "        \n",
    "    if c22 <= 1e-6:\n",
    "        Uprime22 = 1e8\n",
    "    else:\n",
    "        Uprime22 = c22**(-sigma)\n",
    "    \n",
    "    b2_Eulerr = Uprime21 - beta * (1 + rpath[t+1]) * Uprime22\n",
    "    \n",
    "    c31 = (1 + rpath[t+1]) * b2 + wpath[t+1] - b3\n",
    "    c32 = (1 + rpath[t+2]) * b3 + wpath[t+2] \n",
    "    \n",
    "    if c31 <= 1e-6:\n",
    "        Uprime31 = 1e8\n",
    "    else:\n",
    "        Uprime31 = c31**(-sigma)\n",
    "        \n",
    "    if c21 <= 1e-6:\n",
    "        Uprime32 = 1e8\n",
    "    else:\n",
    "        Uprime32 = c32**(-sigma)\n",
    "    \n",
    "    b3_Eulerr = Uprime31 - beta * (1 + rpath[t+2]) * Uprime32\n",
    "    \n",
    "    return np.array([b2_Eulerr, b3_Eulerr])"
   ]
  },
  {
   "cell_type": "code",
   "execution_count": null,
   "metadata": {},
   "outputs": [],
   "source": []
  },
  {
   "cell_type": "code",
   "execution_count": null,
   "metadata": {},
   "outputs": [],
   "source": []
  },
  {
   "cell_type": "code",
   "execution_count": 183,
   "metadata": {},
   "outputs": [],
   "source": [
    "def get_b(t, rpath, wpath, params, bvec_initial):\n",
    "    \n",
    "    #what should b_params be?\n",
    "    b_params = [t, rpath, wpath, params]\n",
    "    result = opt.root(b_EulErr, bvec_initial, \n",
    "                      args = (b_params), tol = ss_tol)\n",
    "    b = result.x\n",
    "    b_Eulerrs = result.fun\n",
    "    \n",
    "    return np.array([b, b_Eulerrs])"
   ]
  },
  {
   "cell_type": "code",
   "execution_count": 143,
   "metadata": {},
   "outputs": [],
   "source": [
    "def aggregate_errs(Kpath, rpath, wpath, bmat, ag_params):\n",
    "   \n",
    "    alpha, A,delta= ag_params \n",
    "    \n",
    "    L = 2.2\n",
    "    C = L * wpath[:-1] + (1 + rpath[:-1]) * bmat[:-1,0] - bmat[1:,0] + (1 + rpath[:-1]) * bmat[:-1,1] - bmat[1:,1]\n",
    "    Y = A * (Kpath[:-1]**alpha) * L**(1 - alpha)\n",
    "    \n",
    "    agg_err = Y - C - Kpath[1:] + (1 - delta) * Kpath[:-1]\n",
    "    max_agg_err = np.abs(agg_err).max()\n",
    "    \n",
    "    return max_agg_err"
   ]
  },
  {
   "cell_type": "code",
   "execution_count": 218,
   "metadata": {},
   "outputs": [],
   "source": [
    "def donut(T, rpath, wpath, Kpath, bvec_initial, b_ss, params):\n",
    "        \n",
    "    beta, sigma, nvec, L, A, alpha, delta, ss_tol = params\n",
    "\n",
    "    bmat = np.zeros((T+1, 2))\n",
    "    bmat[0,:] = bvec_initial\n",
    "    EulErrs = np.zeros((T+1, 2))\n",
    "    cols = [0,1]\n",
    "    for t in range(T-1):\n",
    "        rows = [t+1, t+2]\n",
    "        bmat[rows, cols], EulErrs[rows, cols] = get_b(t, rpath, wpath, params, bvec_initial)\n",
    "    \n",
    "    bmat[1,1], EulErrs[1,1] = get_b32(bmat[0,0], bmat[0,1], rpath, wpath, params, bvec_initial)\n",
    "    max_EulErrs = np.abs(EulErrs).max(axis = 0)\n",
    "    \n",
    "    ag_params = alpha, A, delta\n",
    "    agg_errs = aggregate_errs(Kpath, rpath, wpath, bmat, ag_params)\n",
    "    \n",
    "    return bmat, max_EulErrs, agg_errs"
   ]
  },
  {
   "cell_type": "code",
   "execution_count": null,
   "metadata": {},
   "outputs": [],
   "source": []
  },
  {
   "cell_type": "code",
   "execution_count": null,
   "metadata": {},
   "outputs": [],
   "source": []
  },
  {
   "cell_type": "code",
   "execution_count": null,
   "metadata": {},
   "outputs": [],
   "source": []
  },
  {
   "cell_type": "code",
   "execution_count": null,
   "metadata": {},
   "outputs": [],
   "source": []
  },
  {
   "cell_type": "markdown",
   "metadata": {},
   "source": [
    "Find Kprime"
   ]
  },
  {
   "cell_type": "code",
   "execution_count": 145,
   "metadata": {},
   "outputs": [],
   "source": [
    "def Kprime(bmat, Kbar):\n",
    "    \n",
    "    Kprime_path = bmat[:-1,:].sum(axis = 1)\n",
    "    Kprime_path = np.append(Kprime_path, Kbar)\n",
    "    \n",
    "    return Kprime_path"
   ]
  },
  {
   "cell_type": "code",
   "execution_count": 223,
   "metadata": {},
   "outputs": [],
   "source": [
    "def TPI(T, Kpath, Kbar, bvec_initial, b_ss, params, tol, max_iter):\n",
    "    \n",
    "    beta, sigma, nvec, L, A, alpha, delta, ss_tol = params\n",
    "    \n",
    "    dist = tol + 1\n",
    "    i = 0\n",
    "    \n",
    "    rw_params = A, alpha, delta \n",
    "    \n",
    "    while (dist > tol) & (i < max_iter):\n",
    "        i += 1\n",
    "        rpath, wpath = get_rw_paths(T, Kpath, Kbar, rw_params)\n",
    "        bmat, max_EulErrs, max_agg_errs = donut(T, rpath, wpath, Kpath, bvec_initial, b_ss, params)\n",
    "        Kp_path = Kprime(bmat, Kbar)\n",
    "        dist = la.norm(Kp_path - Kpath, 2)\n",
    "        #Kpath = xi * Kp_path + (1 - xi) * Kpath\n",
    "    \n",
    "    #print('Max absolute Euler errors for generation 2: ', max_EulErrs[0])\n",
    "    #print('Max absolute Euler errors for generation 3: ', max_EulErrs[1])\n",
    "    #print('Max absolute aggregate resources constraint error:', max_agg_errs)\n",
    "    \n",
    "    #return Kpath, rpath, wpath"
   ]
  },
  {
   "cell_type": "code",
   "execution_count": 224,
   "metadata": {},
   "outputs": [
    {
     "ename": "NameError",
     "evalue": "name 'la' is not defined",
     "output_type": "error",
     "traceback": [
      "\u001b[0;31m---------------------------------------------------------------------------\u001b[0m",
      "\u001b[0;31mNameError\u001b[0m                                 Traceback (most recent call last)",
      "\u001b[0;32m<ipython-input-224-625a06762ba8>\u001b[0m in \u001b[0;36m<module>\u001b[0;34m()\u001b[0m\n\u001b[1;32m      1\u001b[0m \u001b[0mnvec\u001b[0m \u001b[0;34m=\u001b[0m \u001b[0mnp\u001b[0m\u001b[0;34m.\u001b[0m\u001b[0marray\u001b[0m\u001b[0;34m(\u001b[0m\u001b[0;34m[\u001b[0m\u001b[0;36m1\u001b[0m\u001b[0;34m,\u001b[0m\u001b[0;36m1\u001b[0m\u001b[0;34m,\u001b[0m\u001b[0;36m.2\u001b[0m\u001b[0;34m]\u001b[0m\u001b[0;34m)\u001b[0m\u001b[0;34m\u001b[0m\u001b[0m\n\u001b[1;32m      2\u001b[0m \u001b[0mparams\u001b[0m \u001b[0;34m=\u001b[0m \u001b[0;34m[\u001b[0m\u001b[0mbeta\u001b[0m\u001b[0;34m,\u001b[0m \u001b[0msigma\u001b[0m\u001b[0;34m,\u001b[0m \u001b[0mnvec\u001b[0m\u001b[0;34m,\u001b[0m \u001b[0mL\u001b[0m\u001b[0;34m,\u001b[0m \u001b[0mA\u001b[0m\u001b[0;34m,\u001b[0m \u001b[0malpha\u001b[0m\u001b[0;34m,\u001b[0m \u001b[0mdelta\u001b[0m\u001b[0;34m,\u001b[0m \u001b[0mss_tol\u001b[0m\u001b[0;34m]\u001b[0m\u001b[0;34m\u001b[0m\u001b[0m\n\u001b[0;32m----> 3\u001b[0;31m \u001b[0mTPI\u001b[0m\u001b[0;34m(\u001b[0m\u001b[0mT\u001b[0m\u001b[0;34m,\u001b[0m \u001b[0mKpath\u001b[0m\u001b[0;34m,\u001b[0m \u001b[0mKbar\u001b[0m\u001b[0;34m,\u001b[0m \u001b[0mbvec_initial\u001b[0m\u001b[0;34m,\u001b[0m \u001b[0mb_ss\u001b[0m\u001b[0;34m,\u001b[0m \u001b[0mparams\u001b[0m\u001b[0;34m,\u001b[0m\u001b[0;36m1e-9\u001b[0m\u001b[0;34m,\u001b[0m\u001b[0;36m50\u001b[0m\u001b[0;34m)\u001b[0m\u001b[0;34m\u001b[0m\u001b[0m\n\u001b[0m",
      "\u001b[0;32m<ipython-input-223-5e909176c0ca>\u001b[0m in \u001b[0;36mTPI\u001b[0;34m(T, Kpath, Kbar, bvec_initial, b_ss, params, tol, max_iter)\u001b[0m\n\u001b[1;32m     13\u001b[0m         \u001b[0mbmat\u001b[0m\u001b[0;34m,\u001b[0m \u001b[0mmax_EulErrs\u001b[0m\u001b[0;34m,\u001b[0m \u001b[0mmax_agg_errs\u001b[0m \u001b[0;34m=\u001b[0m \u001b[0mdonut\u001b[0m\u001b[0;34m(\u001b[0m\u001b[0mT\u001b[0m\u001b[0;34m,\u001b[0m \u001b[0mrpath\u001b[0m\u001b[0;34m,\u001b[0m \u001b[0mwpath\u001b[0m\u001b[0;34m,\u001b[0m \u001b[0mKpath\u001b[0m\u001b[0;34m,\u001b[0m \u001b[0mbvec_initial\u001b[0m\u001b[0;34m,\u001b[0m \u001b[0mb_ss\u001b[0m\u001b[0;34m,\u001b[0m \u001b[0mparams\u001b[0m\u001b[0;34m)\u001b[0m\u001b[0;34m\u001b[0m\u001b[0m\n\u001b[1;32m     14\u001b[0m         \u001b[0mKp_path\u001b[0m \u001b[0;34m=\u001b[0m \u001b[0mKprime\u001b[0m\u001b[0;34m(\u001b[0m\u001b[0mbmat\u001b[0m\u001b[0;34m,\u001b[0m \u001b[0mKbar\u001b[0m\u001b[0;34m)\u001b[0m\u001b[0;34m\u001b[0m\u001b[0m\n\u001b[0;32m---> 15\u001b[0;31m         \u001b[0mdist\u001b[0m \u001b[0;34m=\u001b[0m \u001b[0mla\u001b[0m\u001b[0;34m.\u001b[0m\u001b[0mnorm\u001b[0m\u001b[0;34m(\u001b[0m\u001b[0mKp_path\u001b[0m \u001b[0;34m-\u001b[0m \u001b[0mKpath\u001b[0m\u001b[0;34m,\u001b[0m \u001b[0;36m2\u001b[0m\u001b[0;34m)\u001b[0m\u001b[0;34m\u001b[0m\u001b[0m\n\u001b[0m\u001b[1;32m     16\u001b[0m         \u001b[0;31m#Kpath = xi * Kp_path + (1 - xi) * Kpath\u001b[0m\u001b[0;34m\u001b[0m\u001b[0;34m\u001b[0m\u001b[0m\n\u001b[1;32m     17\u001b[0m \u001b[0;34m\u001b[0m\u001b[0m\n",
      "\u001b[0;31mNameError\u001b[0m: name 'la' is not defined"
     ]
    }
   ],
   "source": [
    "nvec = np.array([1,1,.2])\n",
    "params = [beta, sigma, nvec, L, A, alpha, delta, ss_tol]\n",
    "TPI(T, Kpath, Kbar, bvec_initial, b_ss, params,1e-9,50)"
   ]
  },
  {
   "cell_type": "code",
   "execution_count": 106,
   "metadata": {},
   "outputs": [],
   "source": [
    "rw_params = A, alpha, delta\n",
    "rpath, wpath = get_rw_paths(T, Kpath, Kbar, rw_params)"
   ]
  },
  {
   "cell_type": "code",
   "execution_count": null,
   "metadata": {},
   "outputs": [],
   "source": []
  }
 ],
 "metadata": {
  "kernelspec": {
   "display_name": "Python 3",
   "language": "python",
   "name": "python3"
  },
  "language_info": {
   "codemirror_mode": {
    "name": "ipython",
    "version": 3
   },
   "file_extension": ".py",
   "mimetype": "text/x-python",
   "name": "python",
   "nbconvert_exporter": "python",
   "pygments_lexer": "ipython3",
   "version": "3.6.5"
  }
 },
 "nbformat": 4,
 "nbformat_minor": 2
}
