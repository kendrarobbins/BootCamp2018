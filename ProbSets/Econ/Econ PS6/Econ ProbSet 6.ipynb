{
 "cells": [
  {
   "cell_type": "markdown",
   "metadata": {},
   "source": [
    "Kendra Robbins\n",
    "\n",
    "OSM Week 6\n",
    "\n",
    "Asset Pricing\n",
    "\n",
    "Scott Condie"
   ]
  },
  {
   "cell_type": "code",
   "execution_count": 189,
   "metadata": {},
   "outputs": [],
   "source": [
    "import numpy as np \n",
    "import pandas as pd\n",
    "import datetime"
   ]
  },
  {
   "cell_type": "markdown",
   "metadata": {},
   "source": [
    "# Lucas Tree Exercises"
   ]
  },
  {
   "cell_type": "markdown",
   "metadata": {},
   "source": [
    "## Exercise 1\n",
    "\n",
    "I may need to import tbill too\n",
    "\n",
    "\n",
    "I use quarterly data from 10/1/2013 to 1/1/18 because these values are available in all of the relevant datasets. "
   ]
  },
  {
   "cell_type": "code",
   "execution_count": 186,
   "metadata": {},
   "outputs": [],
   "source": [
    "consumption = pd.read_csv(\"PCECC96.csv\",names=['date','c']) #last available value is 1/1/2018\n",
    "cons = consumption[1:]\n",
    "cons.index = pd.to_datetime(cons['date'],format=\"%Y-%m-%d\")\n",
    "cons = cons.drop(columns = \"date\")\n",
    "\n",
    "defl = pd.read_csv(\"GDPDEF.csv\",names=['date','d'])\n",
    "defl = defl[1:]\n",
    "defl.index = pd.to_datetime(defl['date'], format=\"%Y-%m-%d\")\n",
    "defl = defl.drop(columns='date')"
   ]
  },
  {
   "cell_type": "code",
   "execution_count": 180,
   "metadata": {},
   "outputs": [],
   "source": [
    "#these subsets of cons and defl contain only the data points of interest. \n",
    "c_lim = cons['2013-01-01':'2018-01-01']\n",
    "d_lim = defl['2013-01-01':'2018-01-01']\n"
   ]
  },
  {
   "cell_type": "code",
   "execution_count": 103,
   "metadata": {},
   "outputs": [],
   "source": [
    "w5 = pd.read_csv('WILL5000INDFC.csv', names = ['date','w'])\n",
    "w5 = w5[1:] \n",
    "w5.index = pd.to_datetime(w5[\"date\"], format=\"%Y-%m-%d\")\n",
    "w5 = w5.drop(columns = 'date')"
   ]
  },
  {
   "cell_type": "code",
   "execution_count": 166,
   "metadata": {},
   "outputs": [],
   "source": [
    "w1013 = w5.loc['2013-10-01']['w']\n",
    "w0114 = w5.loc['2014-01-02']['w']\n",
    "w0414 = w5.loc['2014-04-01']['w']\n",
    "w0714 = w5.loc['2014-07-01']['w']\n",
    "w1014 = w5.loc['2014-10-01']['w']\n",
    "\n",
    "w0115 = w5.loc['2015-01-02']['w']\n",
    "w0415 = w5.loc['2015-04-01']['w']\n",
    "w0715 = w5.loc['2015-07-01']['w']\n",
    "w1015 = w5.loc['2015-10-01']['w']\n",
    "\n",
    "w0116 = w5.loc['2015-12-31']['w']\n",
    "w0416 = w5.loc['2016-04-01']['w']\n",
    "w0716 = w5.loc['2016-07-01']['w']\n",
    "w1016 = w5.loc['2016-09-30']['w'] #the dataset doesn't have data for 10/1/2016\n",
    "\n",
    "w0117 = w5.loc['2017-01-03']['w'] #the dataset doesn't have data for 1/1/2017 or 1/2/2017 or 12/31/16\n",
    "w0417 = w5.loc['2017-03-31']['w'] #etc\n",
    "w0717 = w5.loc['2017-06-30']['w']\n",
    "w1017 = w5.loc['2017-10-02']['w']\n",
    "\n",
    "w0118 = w5.loc['2018-01-02']['w']\n",
    "\n",
    "\n",
    "wvec = np.zeros(18)\n",
    "\n",
    "wvec[0] =w1013 \n",
    "wvec[1] = w0114 \n",
    "wvec[2]=w0414 \n",
    "wvec[3]=w0714 \n",
    "wvec[4]=w1014 \n",
    "\n",
    "wvec[5] = w0115 \n",
    "wvec[6]=w0415 \n",
    "wvec[7]=w0715 \n",
    "wvec[8]=w1015 \n",
    "\n",
    "wvec[9]=w0116 \n",
    "wvec[10]=w0416 \n",
    "wvec[11]=w0716 \n",
    "wvec[12]=w1016 \n",
    "\n",
    "wvec[13]=w0117 \n",
    "wvec[14]=w0417 \n",
    "wvec[15]=w0717\n",
    "wvec[16]=w1017 \n",
    "\n",
    "wvec[17]=w0118 \n"
   ]
  },
  {
   "cell_type": "code",
   "execution_count": 167,
   "metadata": {},
   "outputs": [
    {
     "data": {
      "text/plain": [
       "array([ 74.27,  80.34,  83.34,  87.23,  85.41,  90.81,  92.11,  92.98,\n",
       "        85.73,  90.61,  91.86,  94.18,  98.21, 103.27, 108.27, 111.48,\n",
       "       117.04, 124.96])"
      ]
     },
     "execution_count": 167,
     "metadata": {},
     "output_type": "execute_result"
    }
   ],
   "source": [
    "wvec"
   ]
  },
  {
   "cell_type": "code",
   "execution_count": 185,
   "metadata": {},
   "outputs": [],
   "source": [
    "#get arrays of consumption and GDP Deflator \n",
    "C = np.array(c_lim['c'])\n",
    "D = np.array(d_lim['d'])"
   ]
  },
  {
   "cell_type": "code",
   "execution_count": null,
   "metadata": {},
   "outputs": [],
   "source": [
    "def m_tp1(ct, ctp1, γ):   \n",
    "    β=.99\n",
    "    m_tp1 = β*(ctp1/ct)**(-γ)\n",
    "    return m_tp1\n",
    "\n",
    "def R_tp1(p_tp1, pt, d_tp1):\n",
    "    R = (p_tp1 - d_tp1)/pt\n",
    "    return R "
   ]
  },
  {
   "cell_type": "markdown",
   "metadata": {},
   "source": [
    "compute m vector, compute R vector\n",
    "compute thier covariance and means \n",
    "then you have (5)"
   ]
  },
  {
   "cell_type": "code",
   "execution_count": null,
   "metadata": {},
   "outputs": [],
   "source": []
  }
 ],
 "metadata": {
  "kernelspec": {
   "display_name": "Python 3",
   "language": "python",
   "name": "python3"
  },
  "language_info": {
   "codemirror_mode": {
    "name": "ipython",
    "version": 3
   },
   "file_extension": ".py",
   "mimetype": "text/x-python",
   "name": "python",
   "nbconvert_exporter": "python",
   "pygments_lexer": "ipython3",
   "version": "3.6.5"
  }
 },
 "nbformat": 4,
 "nbformat_minor": 2
}
