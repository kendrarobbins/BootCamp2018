{
 "cells": [
  {
   "cell_type": "markdown",
   "metadata": {},
   "source": [
    "Econ Probset 4\n",
    "\n",
    "DSGE\n",
    "\n",
    "Kendra Robbins"
   ]
  },
  {
   "cell_type": "markdown",
   "metadata": {},
   "source": [
    "## Exercise 1"
   ]
  },
  {
   "cell_type": "markdown",
   "metadata": {},
   "source": [
    "Using the policy function $K_{t+1} = Ae^{z_t}K_t^\\alpha$ in the Euler equation we get:\n",
    "\n",
    "$$ \\frac{1}{e^{z_t}K_t^\\alpha - Ae^{z_t}K_t^\\alpha} = \\beta E_t [ \\frac{\\alpha e^{z_{t+1}}K_{t+1}^{\\alpha -1}}{e^{z_{t+1}}K_{t+1}^\\alpha - A e^{z_{t+1}}K_{t+1}^\\alpha} ]$$\n",
    "\n",
    "which simplifies to:\n",
    "\n",
    "$$ \\frac{1}{(1-A)e^{z_t}K_t^\\alpha} = \\beta E_t [\\frac{\\alpha K_{t+1}^{\\alpha -1}}{(1-A)K_{t+1}^\\alpha}] = \\beta E_t [\\frac{\\alpha}{(1-A)K_{t+1}}]$$\n",
    "\n",
    "Using $K_{t+1} = Ae^{z_t}K_t^\\alpha$ again:\n",
    "\n",
    "$$\\frac{1}{(1-A)e^{z_t}K_t^\\alpha} =\\beta E_t [\\frac{\\alpha}{(1-A)Ae^{z_t}K_t^\\alpha}]=\\beta \\frac{\\alpha}{(1-A)Ae^{z_t}K_t^\\alpha}$$\n",
    "\n",
    "cancelling some more:\n",
    "\n",
    "$$1=\\beta \\frac{\\alpha}{A}$$\n",
    "\n",
    "so $A = \\beta \\alpha$"
   ]
  },
  {
   "cell_type": "markdown",
   "metadata": {},
   "source": [
    "## Exercise 2"
   ]
  },
  {
   "cell_type": "markdown",
   "metadata": {},
   "source": [
    "Household:\n",
    "\n",
    "$c_t = (1-\\tau)[w_tl_t+(r_t-\\delta)k_t]+k_t+T_t-k_{t+1}$\n",
    "\n",
    "$\\frac{1}{c_t} = \\beta E_t [\\frac{1}{c_{t+1}}[(r_{t+1}-\\delta)(1-\\tau)+1]]$\n",
    "\n",
    "$\\frac{1}{c_t} w_t (1-\\tau) = \\frac{-a}{1-l_t}$"
   ]
  },
  {
   "cell_type": "markdown",
   "metadata": {},
   "source": [
    "Firm: \n",
    "    \n",
    "$R_t = \\alpha e^{z_t}K_t^{\\alpha-1}L_t^{1-\\alpha}$\n",
    "\n",
    "$W_t = (1-\\alpha) e^{z_t}K_t^\\alpha L_t^{-\\alpha}$"
   ]
  },
  {
   "cell_type": "markdown",
   "metadata": {},
   "source": [
    "Government:\n",
    "    \n",
    "$\\tau [ w_t l_t + (r_t-\\delta)k_t] = T_t$"
   ]
  },
  {
   "cell_type": "markdown",
   "metadata": {},
   "source": [
    "Market Clearing:\n",
    "\n",
    "$l_t = L_t $\n",
    "\n",
    "$k_t = K_t $\n",
    "\n",
    "$w_t = W_t $\n",
    "\n",
    "$r_t = R_t $"
   ]
  },
  {
   "cell_type": "markdown",
   "metadata": {},
   "source": [
    "We cannot use the same trick to solve for the policy function because things do not cancel nicely. "
   ]
  },
  {
   "cell_type": "markdown",
   "metadata": {},
   "source": [
    "## Exercise 3"
   ]
  },
  {
   "cell_type": "markdown",
   "metadata": {},
   "source": [
    "Household:\n",
    "\n",
    "$c_t = (1-\\tau)[w_tl_t+(r_t-\\delta)k_t]+k_t+T_t-k_{t+1}$\n",
    "\n",
    "$w_t(1-\\tau)c_t^{-\\gamma} = \\frac{ a}{1-l_t} $\n",
    "\n",
    "$c_t^{-\\gamma} = \\beta E \\big[ c_{t+1}^{-\\gamma}[(r_{t+1}-\\delta)(1-\\tau) +1] \\big]$"
   ]
  },
  {
   "cell_type": "markdown",
   "metadata": {},
   "source": [
    "Firm: \n",
    "    \n",
    "$R_t = \\alpha e^{z_t}K_t^{\\alpha-1}L_t^{1-\\alpha}$\n",
    "\n",
    "$W_t = (1-\\alpha) e^{z_t}K_t^\\alpha L_t^{-\\alpha}$\n",
    "    "
   ]
  },
  {
   "cell_type": "markdown",
   "metadata": {},
   "source": [
    "Government:\n",
    "    \n",
    "$\\tau [ w_t l_t + (r_t-\\delta)k_t] = T_t$"
   ]
  },
  {
   "cell_type": "markdown",
   "metadata": {},
   "source": [
    "Market Clearing:\n",
    "\n",
    "$l_t = L_t $\n",
    "\n",
    "$k_t = K_t $\n",
    "\n",
    "$w_t = W_t $\n",
    "\n",
    "$r_t = R_t $"
   ]
  },
  {
   "cell_type": "markdown",
   "metadata": {},
   "source": [
    "## Exercise 4"
   ]
  },
  {
   "cell_type": "markdown",
   "metadata": {},
   "source": [
    "Households:\n",
    "\n",
    "$c_t = (1-\\tau)[w_tl_t+(r_t-\\delta)k_t]+k_t+T_t-k_{t+1}$\n",
    "\n",
    "$w_t(1-\\tau)c_t^{-\\gamma} = a (1-l_t)^{-\\xi} $\n",
    "\n",
    "$c_t^{-\\gamma} = \\beta E \\big[ c_{t+1}^{-\\gamma}[(r_{t+1}-\\delta)(1-\\tau) +1] \\big]$"
   ]
  },
  {
   "cell_type": "markdown",
   "metadata": {},
   "source": [
    "Firms:\n",
    "    \n",
    "$R_t = e^z_t [\\alpha K^{\\eta}_t +(1-\\alpha)L^{\\eta}_t]^{\\frac{1}{\\eta} - 1} \\alpha K_t^{\\eta -1} $\n",
    "\n",
    "$W_t = e^z_t [\\alpha K^{\\eta}_t +(1-\\alpha)L^{\\eta}_t]^{\\frac{1}{\\eta} - 1} (1-\\alpha) L_t^{\\eta -1}$\n"
   ]
  },
  {
   "cell_type": "markdown",
   "metadata": {},
   "source": [
    "Government:\n",
    "    \n",
    "$\\tau [ w_t l_t + (r_t-\\delta)k_t] = T_t$"
   ]
  },
  {
   "cell_type": "markdown",
   "metadata": {},
   "source": [
    "Market Clearing:\n",
    "\n",
    "$l_t = L_t $\n",
    "\n",
    "$k_t = K_t $\n",
    "\n",
    "$w_t = W_t $\n",
    "\n",
    "$r_t = R_t $"
   ]
  },
  {
   "cell_type": "markdown",
   "metadata": {},
   "source": [
    "## Exercise 5"
   ]
  },
  {
   "cell_type": "markdown",
   "metadata": {},
   "source": [
    "Households:\n",
    "    \n",
    "$c_t = (1-\\tau)[w_t+(r_t-\\delta)k_t]+k_t+T_t-k_{t+1}$\n",
    "\n",
    "$c_t^{-\\gamma} = \\beta E_t \\big[ c_{t+1}^{-\\gamma} [(r_{t+1}-\\delta)(1-\\tau)+1] \\big]$"
   ]
  },
  {
   "cell_type": "markdown",
   "metadata": {},
   "source": [
    "Firms:\n",
    "    \n",
    "$ R_t = \\alpha K_t^{\\alpha-1}(L_te^{z_t})^{1-\\alpha}$\n",
    "\n",
    "$W_t = (1-\\alpha)K_t^\\alpha L_t^{-\\alpha}e^{z_t(1-\\alpha)}$"
   ]
  },
  {
   "cell_type": "markdown",
   "metadata": {},
   "source": [
    "Government:\n",
    "    \n",
    "$\\tau [ w_t + (r_t-\\delta)k_t] = T_t$"
   ]
  },
  {
   "cell_type": "markdown",
   "metadata": {},
   "source": [
    "Market Clearing:\n",
    "\n",
    "$l_t = L_t = 1$\n",
    "\n",
    "$k_t = K_t $\n",
    "\n",
    "$w_t = W_t $\n",
    "\n",
    "$r_t = R_t $"
   ]
  },
  {
   "cell_type": "markdown",
   "metadata": {},
   "source": [
    "#### Steady State:\n",
    "\n",
    "$c = (1-\\tau)[w+(r-\\delta)k] + T$\n",
    "\n",
    "$c^{-\\gamma} = \\beta \\big[ c^{-\\gamma}[(r-\\delta)(1-\\tau)+1] \\big] $\n",
    "\n",
    "$r = \\alpha k^{\\alpha - 1} $\n",
    "\n",
    "$w = (1 - \\alpha)  k^\\alpha$\n",
    "\n",
    "$T = \\tau [w+(r-\\delta)k]$\n",
    "\n",
    "$l_t = L_t = 1$\n",
    "\n",
    "$k_t = K_t $\n",
    "\n",
    "$w_t = W_t $\n",
    "\n",
    "$r_t = R_t $"
   ]
  },
  {
   "cell_type": "markdown",
   "metadata": {},
   "source": [
    "#### Solving Algebraically:\n",
    "\n",
    "from the Euler equation:\n",
    "\n",
    "$$r = \\frac{\\frac{1}{\\beta} - 1}{1 - \\tau} + \\delta $$\n",
    "\n",
    "Then:\n",
    "\n",
    "$$k = (\\frac{r}{\\alpha})^{\\frac{1}{\\alpha-1}} = (\\frac{\\frac{\\frac{1}{\\beta} - 1}{1 - \\tau} + \\delta}{\\alpha})^{\\frac{1}{\\alpha-1}}$$"
   ]
  },
  {
   "cell_type": "code",
   "execution_count": 1,
   "metadata": {},
   "outputs": [],
   "source": [
    "γ=2.5\n",
    "β=.98\n",
    "α=.40\n",
    "δ=.10\n",
    "z=0\n",
    "τ=.05"
   ]
  },
  {
   "cell_type": "code",
   "execution_count": 2,
   "metadata": {},
   "outputs": [],
   "source": [
    "def an_solns(β,α,δ,τ):\n",
    "    \n",
    "    r= (1/β-1)/(1-τ)+δ\n",
    "    k = (r/α)**(1/(α-1))\n",
    "    w = (1-α)*k**α\n",
    "    T = τ*(w+(r-δ)*k)\n",
    "    c = (1-τ)*(w+(r-δ)*k)+T\n",
    "    I = δ*k\n",
    "    Y = k**α\n",
    "    \n",
    "    return r,k,w,T,c, I, Y"
   ]
  },
  {
   "cell_type": "code",
   "execution_count": 3,
   "metadata": {},
   "outputs": [
    {
     "data": {
      "text/plain": [
       "(0.1214822771213749,\n",
       " 7.287497950692988,\n",
       " 1.3279527683513057,\n",
       " 0.0742252409424772,\n",
       " 1.484504818849544,\n",
       " 0.7287497950692988,\n",
       " 2.213254613918843)"
      ]
     },
     "execution_count": 3,
     "metadata": {},
     "output_type": "execute_result"
    }
   ],
   "source": [
    "an_solns(β,α,δ,τ)"
   ]
  },
  {
   "cell_type": "markdown",
   "metadata": {},
   "source": [
    "#### Solving Numerically"
   ]
  },
  {
   "cell_type": "code",
   "execution_count": 4,
   "metadata": {},
   "outputs": [],
   "source": [
    "import numpy as np\n",
    "import scipy.optimize as opt"
   ]
  },
  {
   "cell_type": "code",
   "execution_count": 5,
   "metadata": {},
   "outputs": [],
   "source": [
    "def eul_error(k,args):\n",
    "    \n",
    "    beta, tau, alpha, delta = args\n",
    "    err = 1 - beta*(((alpha*k**(alpha-1))-delta)*(1-tau)+1)\n",
    "    \n",
    "    return err"
   ]
  },
  {
   "cell_type": "code",
   "execution_count": 6,
   "metadata": {},
   "outputs": [],
   "source": [
    "def num_solns(params, k_guess):\n",
    "    \n",
    "    beta, tau, alpha, delta, mytol = params\n",
    "    eul_args = [beta, tau, alpha, delta]\n",
    "    roots = opt.root(eul_error, k_guess, eul_args, tol=mytol)\n",
    "    soln = roots.x\n",
    "    \n",
    "    return soln\n",
    "    "
   ]
  },
  {
   "cell_type": "code",
   "execution_count": 7,
   "metadata": {},
   "outputs": [
    {
     "data": {
      "text/plain": [
       "array([7.28749795])"
      ]
     },
     "execution_count": 7,
     "metadata": {},
     "output_type": "execute_result"
    }
   ],
   "source": [
    "params = [β, τ, α, δ, 1e-9]\n",
    "\n",
    "num_solns(params, 1)"
   ]
  },
  {
   "cell_type": "markdown",
   "metadata": {},
   "source": [
    "## Exercise 6"
   ]
  },
  {
   "cell_type": "markdown",
   "metadata": {},
   "source": [
    "Household:\n",
    "\n",
    "$c_t = (1-\\tau)[w_t+(r_t-\\delta)k_t]+k_t+T_t-k_{t+1}$\n",
    "\n",
    "\n",
    "$w_t(1-\\tau)c_t^{-\\gamma} = -a(1-l_t)^{-\\xi} $\n",
    "\n",
    "$c_t^{-\\gamma} = \\beta E_t \\big[ c_{t+1}^{-\\gamma}[(r_{t+1}-\\delta)(1-\\tau) +1] \\big]$"
   ]
  },
  {
   "cell_type": "markdown",
   "metadata": {},
   "source": [
    "Firms:\n",
    "\n",
    "$ R_t = \\alpha K_t^{\\alpha-1}(L_te^{z_t})^{1-\\alpha}$\n",
    "\n",
    "$W_t = (1-\\alpha)K_t^\\alpha L_t^{-\\alpha}e^{z_t(1-\\alpha)}$\n"
   ]
  },
  {
   "cell_type": "markdown",
   "metadata": {},
   "source": [
    "Government:\n",
    "    \n",
    "$\\tau [ w_t l_t + (r_t-\\delta)k_t] = T_t$"
   ]
  },
  {
   "cell_type": "markdown",
   "metadata": {},
   "source": [
    "Market Clearing:\n",
    "\n",
    "$l_t = L_t $\n",
    "\n",
    "$k_t = K_t $\n",
    "\n",
    "$w_t = W_t $\n",
    "\n",
    "$r_t = R_t $"
   ]
  },
  {
   "cell_type": "markdown",
   "metadata": {},
   "source": [
    "#### Steady State:"
   ]
  },
  {
   "cell_type": "markdown",
   "metadata": {},
   "source": [
    "$c = (1-\\tau)[wl+(r-\\delta)k] + T$\n",
    "\n",
    "$c^{-\\gamma} = \\beta \\big[ c^{-\\gamma}[(r-\\delta)(1-\\tau)+1] \\big] $\n",
    "\n",
    "$w(1-\\tau)c^{-\\gamma} = -a(1-l)^{-\\xi} $\n",
    "\n",
    "$r = \\alpha K^{\\alpha - 1} L^{1-\\alpha} $\n",
    "\n",
    "$w = (1 - \\alpha)  K^\\alpha L^{-\\alpha}$\n",
    "\n",
    "$T =\\tau [ w l + (r-\\delta)k] $\n",
    "\n",
    "$l_t = L_t$\n",
    "\n",
    "$k_t = K_t $\n",
    "\n",
    "$w_t = W_t $\n",
    "\n",
    "$r_t = R_t $"
   ]
  },
  {
   "cell_type": "markdown",
   "metadata": {},
   "source": [
    "#### Solving Numerically:"
   ]
  },
  {
   "cell_type": "code",
   "execution_count": 8,
   "metadata": {},
   "outputs": [],
   "source": [
    "γ = 2.5\n",
    "ξ = 1.5\n",
    "β=.98\n",
    "α=.40\n",
    "a=.5\n",
    "δ=.10\n",
    "z=0\n",
    "τ=.05"
   ]
  },
  {
   "cell_type": "code",
   "execution_count": 9,
   "metadata": {},
   "outputs": [],
   "source": [
    "def Eul_err_6(guesskl, eul_6_args):\n",
    "    gamma, eta, beta, alpha, a, delta, tau = eul_6_args\n",
    "    \n",
    "    w = (1-alpha)*((guesskl[0])**alpha)*((guesskl[1])**(-alpha))\n",
    "    r = alpha*((guesskl[0])**(alpha-1))*((guesskl[1])**(1-alpha))\n",
    "    c = w*guesskl[1] + (r-delta)*guesskl[0]\n",
    "    \n",
    "    error = np.zeros(2)\n",
    "    \n",
    "    error[0] = 1 - beta*((r-delta)*(1-tau) + 1)\n",
    "    error[1] = a/((1-guesskl[1])**eta) - (1/(c**gamma))*w*(1-tau)\n",
    "    \n",
    "    return error"
   ]
  },
  {
   "cell_type": "code",
   "execution_count": 19,
   "metadata": {},
   "outputs": [],
   "source": [
    "def get_ss_6(params_6, guesskl):\n",
    "    gamma, eta, beta, alpha, a, delta, tau = params_6\n",
    "    \n",
    "    root = opt.root(Eul_err_6, guesskl, [gamma, eta, beta, alpha, a, delta, tau], tol=0.001)  \n",
    "    kl_ss = root.x\n",
    "    \n",
    "    k_bar = kl_ss[0]\n",
    "    l_bar = kl_ss[1]\n",
    "    y_bar = k_bar**α * l_bar**(1 - α) * np.exp(z)\n",
    "    i_bar = δ * k_bar\n",
    "    w_bar = (1 - α) * k_bar**α * (l_bar * np.exp(z))**(-α)\n",
    "    r_bar = α * k_bar**(α - 1) * (l_bar * np.exp(z))**(1 - α)\n",
    "    T_bar = τ * (w_bar * l_bar + (r_bar - δ) * k_bar)\n",
    "    c_bar = (1 - τ) * (w_bar * l_bar + (r_bar - δ) * k_bar) + T_bar\n",
    "    ss = np.array([k_bar, l_bar, c_bar, r_bar, T_bar, w_bar, y_bar, i_bar])\n",
    "    return ss\n"
   ]
  },
  {
   "cell_type": "code",
   "execution_count": 20,
   "metadata": {},
   "outputs": [],
   "source": [
    "my_kl_guess = np.array([1.0, 0.2])\n",
    "my_params_6 = γ,ξ,β,α,a,δ,τ \n"
   ]
  },
  {
   "cell_type": "code",
   "execution_count": 22,
   "metadata": {},
   "outputs": [
    {
     "data": {
      "text/plain": [
       "array([4.22525707, 0.57979179, 0.86070426, 0.12148184, 0.04303521,\n",
       "       1.32795598, 1.28322996, 0.42252571])"
      ]
     },
     "execution_count": 22,
     "metadata": {},
     "output_type": "execute_result"
    }
   ],
   "source": [
    "ss = get_ss_6(my_params_6, my_kl_guess)\n",
    "ss"
   ]
  },
  {
   "cell_type": "code",
   "execution_count": null,
   "metadata": {},
   "outputs": [],
   "source": []
  }
 ],
 "metadata": {
  "kernelspec": {
   "display_name": "Python 3",
   "language": "python",
   "name": "python3"
  },
  "language_info": {
   "codemirror_mode": {
    "name": "ipython",
    "version": 3
   },
   "file_extension": ".py",
   "mimetype": "text/x-python",
   "name": "python",
   "nbconvert_exporter": "python",
   "pygments_lexer": "ipython3",
   "version": "3.6.5"
  }
 },
 "nbformat": 4,
 "nbformat_minor": 2
}
