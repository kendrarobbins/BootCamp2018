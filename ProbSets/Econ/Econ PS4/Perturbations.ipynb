{
 "cells": [
  {
   "cell_type": "markdown",
   "metadata": {},
   "source": [
    "Kendra Robbins "
   ]
  },
  {
   "cell_type": "markdown",
   "metadata": {},
   "source": [
    "## Exercise 1"
   ]
  },
  {
   "cell_type": "markdown",
   "metadata": {},
   "source": [
    "By taking the derivative of equation 5 we get:\n",
    "\n",
    "$x_{uu}[F_{xx}x_u + F_{xu}] + F_{x}x_{uuu} + x_u[F_{xxx}x_{u}x_{u} + F_{xxu}x_{u} + F_{xx}x_{uu} + F_{xuu} + F_{xux}x_u] + x_{uu}[F_{xx}x_{u} + F_{xu}] + x_u[F_{uuu} + F_{xux}x_u] + F_{xu}x_{uu} + F_{uuu} + F_{uux}x_u = 0$\n",
    "\n",
    "from which we can solve for $x_{uuu}$."
   ]
  },
  {
   "cell_type": "markdown",
   "metadata": {},
   "source": [
    "## Exercise 2"
   ]
  },
  {
   "cell_type": "code",
   "execution_count": 103,
   "metadata": {},
   "outputs": [],
   "source": [
    "import numpy as np\n",
    "import scipy.optimize as opt\n",
    "from matplotlib import pyplot as plt"
   ]
  },
  {
   "cell_type": "code",
   "execution_count": 36,
   "metadata": {},
   "outputs": [],
   "source": [
    "α=.33\n",
    "z=1\n",
    "b=2\n",
    "t=.1\n",
    "h=24\n",
    "k = 5"
   ]
  },
  {
   "cell_type": "code",
   "execution_count": 48,
   "metadata": {},
   "outputs": [],
   "source": [
    "kw_vec=np.array([1,1])\n",
    "laborparams = [k,α,t,h]\n",
    "\n",
    "def ldemand(w,laborparams):\n",
    "    k, α, t, h = laborparams\n",
    "    demand = k*((1-α)*z/w)**(1/α)\n",
    "    return demand \n",
    "\n",
    "def profit(w,laborparams):\n",
    "    k, α, t, h = laborparams\n",
    "    profit = z*k**α*ldemand(w,laborparams)**(1-α) - w*ldemand(w,laborparams)\n",
    "    return profit\n",
    "\n",
    "def lsupply(w,laborparams):\n",
    "    k, α, t, h = laborparams\n",
    "    supply = h - b*(w*h+profit(w,laborparams)-t) /(w*(1+b))\n",
    "    return supply\n",
    "\n",
    "def findeq(w,laborparams):\n",
    "    k, α, t, h = laborparams\n",
    "    eq = ldemand(w,laborparams) - lsupply(w,laborparams)\n",
    "    return eq "
   ]
  },
  {
   "cell_type": "code",
   "execution_count": 129,
   "metadata": {},
   "outputs": [],
   "source": [
    "def find_wage(k):\n",
    "    params = [k,α,t,h]\n",
    "    wage = opt.fsolve(findeq, 0.1, params)\n",
    "    return wage"
   ]
  },
  {
   "cell_type": "code",
   "execution_count": 132,
   "metadata": {},
   "outputs": [
    {
     "name": "stdout",
     "output_type": "stream",
     "text": [
      "market clearing wage: [0.62736178]\n"
     ]
    }
   ],
   "source": [
    "wbar = find_wage(5)\n",
    "print(\"market clearing wage:\", str(wbar))"
   ]
  },
  {
   "cell_type": "code",
   "execution_count": 149,
   "metadata": {},
   "outputs": [],
   "source": [
    "#first order approximation\n",
    "def FOApprox(K):\n",
    "    eps = 1e-6\n",
    "    \n",
    "    #derivative of find_wage at k=5:\n",
    "    fwp = (find_wage(5+eps)- find_wage(5))/eps\n",
    "    \n",
    "    #first order approximation\n",
    "    approx = find_wage(5)+ fwp*(K-5)\n",
    "    return approx"
   ]
  },
  {
   "cell_type": "code",
   "execution_count": 150,
   "metadata": {},
   "outputs": [],
   "source": [
    "#second order approximation \n",
    "def SOApprox(K):\n",
    "    eps = 1e-6\n",
    "    \n",
    "    #derivative of find_wage at k=5:\n",
    "    fwp_k = (find_wage(5+eps)- find_wage(5))/eps\n",
    "    \n",
    "    #derivative of find_wage at k=5+eps:\n",
    "    fwp_keps = (find_wage(5+2*eps)- find_wage(5+eps))/eps\n",
    "    \n",
    "    #second derivative of find_wage at k=5:\n",
    "    fwpp = (fwp_keps-fwp_k)/eps\n",
    "    \n",
    "    #second order approximation\n",
    "    approx2 = find_wage(5)+ fwp_k*(K-5)+.5*fwpp*(K-5)**2\n",
    " \n",
    "    return approx2"
   ]
  },
  {
   "cell_type": "code",
   "execution_count": 154,
   "metadata": {},
   "outputs": [],
   "source": [
    "def getw(gridsize=10):\n",
    "    kgrid = np.linspace(1,15,gridsize)\n",
    "    optw = np.empty(gridsize)\n",
    "    \n",
    "    for i in range(gridsize):\n",
    "        k = kgrid[i]\n",
    "        params = [k,α,t,h]\n",
    "        w_0 = .1\n",
    "        w_opt=find_wage(k)\n",
    "        optw[i]=w_opt\n",
    "        \n",
    "    return kgrid, optw"
   ]
  },
  {
   "cell_type": "code",
   "execution_count": 155,
   "metadata": {},
   "outputs": [],
   "source": [
    "def graph(gridsize=10):\n",
    "    kgrid,optw=getw(gridsize)\n",
    "    FOA = FOApprox(kgrid)\n",
    "    SOA = SOApprox(kgrid)\n",
    "    \n",
    "    plt.plot(kgrid,optw, label=\"true function\")\n",
    "    plt.plot(kgrid,FOA, label = \"first order approximation\")\n",
    "    plt.plot(kgrid,SOA, label = \"second order approximation\")\n",
    "    plt.legend()\n",
    "    plt.xlim(1,15)\n",
    "    plt.ylim(-1,1)\n",
    "    plt.plot()"
   ]
  },
  {
   "cell_type": "code",
   "execution_count": 156,
   "metadata": {},
   "outputs": [
    {
     "data": {
      "image/png": "[encoded data removed]",
      "text/plain": [
       "<Figure size 432x288 with 1 Axes>"
      ]
     },
     "metadata": {},
     "output_type": "display_data"
    }
   ],
   "source": [
    "graph()"
   ]
  },
  {
   "cell_type": "markdown",
   "metadata": {},
   "source": [
    "## Exercise 3"
   ]
  },
  {
   "cell_type": "code",
   "execution_count": 170,
   "metadata": {},
   "outputs": [],
   "source": [
    "def F_error(y,x):\n",
    "    F = (x**.35+.9*x-y)**(-2.5)-.95*(y**.35+.9*y)**(-2.5)\n",
    "    return F \n",
    "    "
   ]
  },
  {
   "cell_type": "code",
   "execution_count": 183,
   "metadata": {},
   "outputs": [],
   "source": [
    "#evaluates first derivative of f at x0\n",
    "def first_deriv(f,x0, eps=1e-6):\n",
    "    deriv = (f(x0+eps)-f(x0))/eps\n",
    "    return deriv \n",
    "    \n",
    "#second derivative of f evaluated at x0\n",
    "def second_deriv(f,x0, eps=1e-6):\n",
    "    deriv = (first_deriv(f,x0+eps,eps)-first_deriv(f,x0))/eps\n",
    "    return deriv\n",
    "\n",
    "def third_deriv(f,x0,eps=1e-6):\n",
    "    deriv = (second_deriv(f,x0+eps,eps)-second_deriv(f,x0,eps))/eps\n",
    "    return deriv\n",
    "\n",
    "#first order approximation of f centered at x0 evaluated at x\n",
    "def first_approx(f,x0,x):\n",
    "    approx = f(x0) + first_deriv(f,x0)*(x-x0)\n",
    "    return approx\n",
    "\n",
    "#second order approximation of f centered at x0 evaluated at x\n",
    "def second_approx(f,x0,x):\n",
    "    approx = f(x0) + first_deriv(f,x0)*(x-x0) + .5*second_deriv(f,x0,x)*(x-x0)**2\n",
    "    return approx \n",
    "\n",
    "#third order approximation of f centered at x0 evaluated at x\n",
    "def third_approx(f,x0,x):\n",
    "    approx = second_approx(f,x0,x)+ third_deriv(f,x0)*(x-x0)/6\n",
    "    return approx "
   ]
  },
  {
   "cell_type": "code",
   "execution_count": 184,
   "metadata": {},
   "outputs": [],
   "source": [
    "def find_y(x):\n",
    "    y = opt.fsolve(F_error, 50, x)\n",
    "    return y\n"
   ]
  },
  {
   "cell_type": "code",
   "execution_count": 223,
   "metadata": {},
   "outputs": [],
   "source": [
    "def plot_approximations(f=find_y,x0=100,gridsize=10):\n",
    "    xgrid=np.linspace(99,101,gridsize)\n",
    "    \n",
    "    #first order taylor approximation:\n",
    "    first_app = np.empty(gridsize)\n",
    "    second_app = np.empty(gridsize)\n",
    "    third_app = np.empty(gridsize)\n",
    "    F = np.empty(gridsize)\n",
    "    \n",
    "    for i in range(gridsize):\n",
    "        x=xgrid[i]\n",
    "        first_app[i]= first_approx(f,x0,x)\n",
    "        second_app[i]=second_approx(f,x0,x)\n",
    "        third_app[i]=third_approx(f,x0,x)\n",
    "        F[i]=find_y(x)\n",
    "        \n",
    "    plt.plot(xgrid,first_app,label=\"first order approximation\")\n",
    "    plt.plot(xgrid,second_app,label=\"second order approximation\")\n",
    "    plt.plot(xgrid,third_app,label=\"third order approximation\")\n",
    "    plt.plot(xgrid,F,label=\"F\")\n",
    "    plt.legend()\n",
    "    plt.xlabel('x')\n",
    "    plt.ylabel('y')\n",
    "    plt.xlim(99,101)\n",
    "    plt.ylim(45,55)\n",
    "    plt.show()\n",
    "\n",
    "    "
   ]
  },
  {
   "cell_type": "code",
   "execution_count": 224,
   "metadata": {},
   "outputs": [
    {
     "data": {
      "image/png": "[encoded data removed]",
      "text/plain": [
       "<Figure size 432x288 with 1 Axes>"
      ]
     },
     "metadata": {},
     "output_type": "display_data"
    }
   ],
   "source": [
    "plot_approximations()"
   ]
  },
  {
   "cell_type": "markdown",
   "metadata": {},
   "source": [
    "The remaining exercises require dolo, which has not been working for us."
   ]
  },
  {
   "cell_type": "code",
   "execution_count": null,
   "metadata": {},
   "outputs": [],
   "source": []
  }
 ],
 "metadata": {
  "kernelspec": {
   "display_name": "Python 3",
   "language": "python",
   "name": "python3"
  },
  "language_info": {
   "codemirror_mode": {
    "name": "ipython",
    "version": 3
   },
   "file_extension": ".py",
   "mimetype": "text/x-python",
   "name": "python",
   "nbconvert_exporter": "python",
   "pygments_lexer": "ipython3",
   "version": "3.6.5"
  }
 },
 "nbformat": 4,
 "nbformat_minor": 2
}
